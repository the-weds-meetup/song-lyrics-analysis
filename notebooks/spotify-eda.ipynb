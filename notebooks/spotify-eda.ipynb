{
 "cells": [
  {
   "cell_type": "code",
   "execution_count": null,
   "metadata": {},
   "outputs": [],
   "source": [
    "# import libraries\n",
    "import numpy as np\n",
    "import pandas as pd\n",
    "import os\n",
    "import matplotlib.pyplot as plt\n",
    "from matplotlib.ticker import  FuncFormatter\n",
    "\n",
    "# %pip install spotipy\n",
    "import spotipy\n",
    "from spotipy.oauth2 import SpotifyClientCredentials\n"
   ]
  },
  {
   "cell_type": "code",
   "execution_count": null,
   "metadata": {},
   "outputs": [],
   "source": [
    "# manage spotify credentials\n",
    "cid =''\n",
    "secret =''\n",
    "\n",
    "client_credentials_manager = SpotifyClientCredentials(client_id=cid, client_secret=secret)\n",
    "sp = spotipy.Spotify(client_credentials_manager=client_credentials_manager)"
   ]
  },
  {
   "cell_type": "code",
   "execution_count": null,
   "metadata": {},
   "outputs": [],
   "source": [
    "\"\"\"\n",
    "import spotify csv files with customised settings\n",
    "\"\"\"\n",
    "def import_csv(file_path: str):\n",
    "  return pd.read_csv(file_path, header=0, index_col=0)\n",
    "\n",
    "# check if CompileData folder exist\n",
    "import_folder_path = os.path.join(\"..\", \"datasets\", \"CompileData\")\n",
    "if not os.path.exists(import_folder_path):\n",
    "  raise Exception(\"Dataset CompileData not found! Run scraper.ipynb to get the datasets\") \n",
    "\n",
    "# export folder path\n",
    "spotify_eda_folder_path = os.path.join(\"..\", \"datasets\", \"SpotifyAudioFeatures\")\n",
    "if not os.path.exists(spotify_eda_folder_path):\n",
    "  os.makedirs(spotify_eda_folder_path)\n",
    "\n",
    "# export image path\n",
    "image_export_folder_path = os.path.join(\"..\", \"images\", \"EDA\")\n",
    "if not os.path.exists(image_export_folder_path):\n",
    "  os.makedirs(image_export_folder_path)"
   ]
  },
  {
   "cell_type": "markdown",
   "metadata": {},
   "source": [
    "## Get audio features of songs from spotify"
   ]
  },
  {
   "cell_type": "code",
   "execution_count": null,
   "metadata": {},
   "outputs": [],
   "source": [
    "def get_spotify_data(uid_list: list[str]):\n",
    "  combined_info_list: list[dict] = []\n",
    "  # we split into chunks to reduce number of calls to spotify\n",
    "  # spotify chunk_size limitations is actually 100, but use 50 to be safe\n",
    "  chunk_size = 50\n",
    "\n",
    "  for i in range(0, len(uid_list), chunk_size):\n",
    "    split_list = uid_list[i:i+chunk_size]\n",
    "    info_list = sp.audio_features(split_list)\n",
    "    combined_info_list.extend(info_list)\n",
    "\n",
    "  return combined_info_list"
   ]
  },
  {
   "cell_type": "code",
   "execution_count": null,
   "metadata": {},
   "outputs": [],
   "source": [
    "# get 2017-2021 csv files and get the danceability scores\n",
    "start_year = 2017\n",
    "end_year = 2021\n",
    "\n",
    "while start_year <= end_year:\n",
    "  print(\"Staring with\", start_year)\n",
    "  path = os.path.join(\n",
    "    import_folder_path,\n",
    "    str(start_year) + \"_spotify_data_and_lyrics.csv\"\n",
    "  )\n",
    "  df: pd.DataFrame = pd.read_csv(path, header=0, index_col=0)\n",
    "  # drop lyrics to save memory, we probably don't need it \n",
    "  df.drop(columns=[\"lyrics\"], inplace=True)\n",
    "\n",
    "  uid_list: list[str] = df['uid'].values.tolist()\n",
    "  spotify_data_list = get_spotify_data(uid_list)\n",
    "  df_spotify_data = pd.DataFrame.from_dict(spotify_data_list)\n",
    "\n",
    "  df_combined = pd.merge(df, df_spotify_data, left_on=[\"uid\"], right_on=[\"id\"])\n",
    "  df_combined.drop(columns=[\"id\", \"uri\", \"track_href\", \"analysis_url\"], inplace=True)\n",
    "\n",
    "  # export to excel\n",
    "  df_combined.to_csv(\n",
    "    spotify_eda_folder_path + \"/\" + str(start_year) + \"_spotify_audio_features.csv\", \n",
    "    encoding=\"utf-8-sig\"\n",
    "  )\n",
    "\n",
    "  start_year = start_year + 1\n"
   ]
  },
  {
   "cell_type": "code",
   "execution_count": null,
   "metadata": {},
   "outputs": [],
   "source": [
    "# load csv file create above\n",
    "songs2017 = import_csv(os.path.join(spotify_eda_folder_path, '2017_spotify_audio_features.csv'))\n",
    "songs2018 = import_csv(os.path.join(spotify_eda_folder_path, '2018_spotify_audio_features.csv'))\n",
    "songs2019 = import_csv(os.path.join(spotify_eda_folder_path, '2019_spotify_audio_features.csv'))\n",
    "songs2020 = import_csv(os.path.join(spotify_eda_folder_path, '2020_spotify_audio_features.csv'))\n",
    "songs2021 = import_csv(os.path.join(spotify_eda_folder_path, '2021_spotify_audio_features.csv'))\n",
    "\n",
    "songs2017[\"year\"] = 2017\n",
    "songs2018[\"year\"] = 2018\n",
    "songs2019[\"year\"] = 2019\n",
    "songs2020[\"year\"] = 2020\n",
    "songs2021[\"year\"] = 2021\n"
   ]
  },
  {
   "cell_type": "markdown",
   "metadata": {},
   "source": [
    "## Compare Audio Features between years"
   ]
  },
  {
   "cell_type": "code",
   "execution_count": null,
   "metadata": {},
   "outputs": [],
   "source": [
    "# eda comparision between years\n",
    "# create a single df containing everything\n",
    "df_songs_overall = pd.concat([songs2017, songs2018, songs2019, songs2020, songs2021])\n",
    "df_songs_overall.head(5)\n"
   ]
  },
  {
   "cell_type": "code",
   "execution_count": null,
   "metadata": {},
   "outputs": [],
   "source": [
    "# Lets plot the streams over years\n",
    "df_songs_yearly_streams = pd.DataFrame()\n",
    "\n",
    "for year in range(2017, 2021 + 1):\n",
    "  temp_df: pd.DataFrame = df_songs_overall.loc[df_songs_overall['year'] == year]\n",
    "  yearly_row = {\n",
    "    \"year\": year,\n",
    "    \"total_streams\": temp_df['streams'].sum()\n",
    "  }\n",
    "  df_songs_yearly_streams = df_songs_yearly_streams.append(yearly_row, ignore_index=True )\n",
    "\n",
    "df_songs_yearly_streams['year'] = df_songs_yearly_streams['year'].astype('int')\n",
    "df_songs_yearly_streams['total_streams'] = df_songs_yearly_streams['total_streams'].astype('int')\n",
    "df_songs_yearly_streams.set_index('year', inplace=True)\n",
    "\n",
    "ax = df_songs_yearly_streams.plot(title=\"Total Number of Streams per Year\", figsize=(16, 9), kind=\"bar\", legend=False)\n",
    "ax.set_ylabel(\"Total Streams\", fontsize=12)\n",
    "ax.set_xlabel(\"Year\", fontsize=12)\n",
    "ax.bar_label(ax.containers[0], fmt='%d')\n",
    "\n",
    "# remove scientific notation\n",
    "ax.get_yaxis().set_major_formatter(FuncFormatter(lambda x, p: format(int(x), ',')))\n",
    "\n",
    "plt.xticks(rotation=0)\n",
    "plt.draw()\n",
    "plt.savefig(os.path.join(image_export_folder_path, \"yearly_streams\"), facecolor=\"white\")"
   ]
  },
  {
   "cell_type": "code",
   "execution_count": null,
   "metadata": {},
   "outputs": [],
   "source": [
    "print(\"End of Program\")"
   ]
  },
  {
   "cell_type": "code",
   "execution_count": null,
   "metadata": {},
   "outputs": [],
   "source": []
  }
 ],
 "metadata": {
  "interpreter": {
   "hash": "b0fa6594d8f4cbf19f97940f81e996739fb7646882a419484c72d19e05852a7e"
  },
  "kernelspec": {
   "display_name": "Python 3.9.10 64-bit",
   "language": "python",
   "name": "python3"
  },
  "language_info": {
   "codemirror_mode": {
    "name": "ipython",
    "version": 3
   },
   "file_extension": ".py",
   "mimetype": "text/x-python",
   "name": "python",
   "nbconvert_exporter": "python",
   "pygments_lexer": "ipython3",
   "version": "3.9.12"
  },
  "orig_nbformat": 4
 },
 "nbformat": 4,
 "nbformat_minor": 2
}
