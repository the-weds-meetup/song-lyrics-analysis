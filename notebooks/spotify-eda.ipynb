{
 "cells": [
  {
   "cell_type": "code",
   "execution_count": null,
   "metadata": {},
   "outputs": [],
   "source": [
    "# import libraries\n",
    "import numpy as np\n",
    "import pandas as pd\n",
    "import os\n",
    "\n",
    "# %pip install spotipy\n",
    "import spotipy\n",
    "from spotipy.oauth2 import SpotifyClientCredentials\n"
   ]
  },
  {
   "cell_type": "code",
   "execution_count": null,
   "metadata": {},
   "outputs": [],
   "source": [
    "# manage spotify credentials\n",
    "cid =''\n",
    "secret =''\n",
    "\n",
    "client_credentials_manager = SpotifyClientCredentials(client_id=cid, client_secret=secret)\n",
    "sp = spotipy.Spotify(client_credentials_manager=client_credentials_manager)"
   ]
  },
  {
   "cell_type": "code",
   "execution_count": null,
   "metadata": {},
   "outputs": [],
   "source": [
    "\"\"\"\n",
    "import spotify csv files with customised settings\n",
    "\"\"\"\n",
    "def import_csv(file_path: str):\n",
    "  return pd.read_csv(file_path, header=0, index_col=0)\n",
    "\n",
    "# check if CompileData folder exist\n",
    "import_folder_path = os.path.join(\"..\", \"datasets\", \"CompileData\")\n",
    "if not os.path.exists(import_folder_path):\n",
    "  raise Exception(\"Dataset CompileData not found! Run scraper.ipynb to get the datasets\") \n",
    "\n",
    "# export folder path\n",
    "spotify_eda_folder_path = os.path.join(\"..\", \"datasets\", \"SpotifyAudioFeatures\")\n",
    "if not os.path.exists(spotify_eda_folder_path):\n",
    "  os.makedirs(spotify_eda_folder_path)\n"
   ]
  },
  {
   "cell_type": "code",
   "execution_count": null,
   "metadata": {},
   "outputs": [],
   "source": [
    "def get_spotify_data(uid_list: list[str]):\n",
    "  combined_info_list: list[dict] = []\n",
    "  chunk_size = 50\n",
    "\n",
    "  for i in range(0, len(uid_list), chunk_size):\n",
    "    split_list = uid_list[i:i+chunk_size]\n",
    "    info_list = sp.audio_features(split_list)\n",
    "    combined_info_list.extend(info_list)\n",
    "\n",
    "  return combined_info_list"
   ]
  },
  {
   "cell_type": "code",
   "execution_count": null,
   "metadata": {},
   "outputs": [],
   "source": [
    "# get 2017-2021 csv files and get the danceability scores\n",
    "start_year = 2017\n",
    "end_year = 2021\n",
    "\n",
    "while start_year <= end_year:\n",
    "  print(\"Staring with\", start_year)\n",
    "  path = os.path.join(\n",
    "    import_folder_path,\n",
    "    str(start_year) + \"_spotify_data_and_lyrics.csv\"\n",
    "  )\n",
    "  df: pd.DataFrame = pd.read_csv(path, header=0, index_col=0)\n",
    "  # drop lyrics to save memory, we probably don't need it \n",
    "  df.drop(columns=[\"lyrics\"], inplace=True)\n",
    "\n",
    "  uid_list: list[str] = df['uid'].values.tolist()\n",
    "  spotify_data_list = get_spotify_data(uid_list)\n",
    "  df_spotify_data = pd.DataFrame.from_dict(spotify_data_list)\n",
    "\n",
    "  df_combined = pd.merge(df, df_spotify_data, left_on=[\"uid\"], right_on=[\"id\"])\n",
    "  df_combined.drop(columns=[\"id\", \"uri\", \"track_href\", \"analysis_url\"], inplace=True)\n",
    "\n",
    "  # export to excel\n",
    "  df_combined.to_csv(\n",
    "    spotify_eda_folder_path + \"/\" + str(start_year) + \"_spotify_audio_features.csv\", \n",
    "    encoding=\"utf-8-sig\"\n",
    "  )\n",
    "\n",
    "  start_year = start_year + 1\n",
    "\n",
    "print(\"End of Program\")"
   ]
  },
  {
   "cell_type": "code",
   "execution_count": null,
   "metadata": {},
   "outputs": [],
   "source": []
  }
 ],
 "metadata": {
  "interpreter": {
   "hash": "b0fa6594d8f4cbf19f97940f81e996739fb7646882a419484c72d19e05852a7e"
  },
  "kernelspec": {
   "display_name": "Python 3.9.10 64-bit",
   "language": "python",
   "name": "python3"
  },
  "language_info": {
   "codemirror_mode": {
    "name": "ipython",
    "version": 3
   },
   "file_extension": ".py",
   "mimetype": "text/x-python",
   "name": "python",
   "nbconvert_exporter": "python",
   "pygments_lexer": "ipython3",
   "version": "3.9.12"
  },
  "orig_nbformat": 4
 },
 "nbformat": 4,
 "nbformat_minor": 2
}
