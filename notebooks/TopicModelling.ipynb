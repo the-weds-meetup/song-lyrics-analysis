{
 "cells": [
  {
   "cell_type": "markdown",
   "metadata": {},
   "source": [
    "# Topic Modelling\n",
    "\n",
    "Topic modelling was conducted on the following datasets for this file:\n",
    "- Pre-Covid dataset\n",
    "- Covid dataset\n",
    "\n",
    "The code for topic modelling was taken from: https://medium.com/analytics-vidhya/topic-modeling-using-gensim-lda-in-python-48eaa2344920"
   ]
  },
  {
   "cell_type": "code",
   "execution_count": 37,
   "metadata": {},
   "outputs": [],
   "source": [
    "#install dependencies if you don't have them\n",
    "# !pip install spacy\n",
    "# !python3 -m spacy download en_core_web_sm\n",
    "# !pip install gensim\n",
    "# !pip install pyLDAvis\n",
    "# !pip install -U pip setuptools wheel\n",
    "# !pip install -U spacy\n",
    "# !python -m spacy download en_core_web_sm"
   ]
  },
  {
   "cell_type": "code",
   "execution_count": 1,
   "metadata": {},
   "outputs": [
    {
     "ename": "ModuleNotFoundError",
     "evalue": "No module named 'gensim'",
     "output_type": "error",
     "traceback": [
      "\u001b[1;31m---------------------------------------------------------------------------\u001b[0m",
      "\u001b[1;31mModuleNotFoundError\u001b[0m                       Traceback (most recent call last)",
      "\u001b[1;32m~\\AppData\\Local\\Temp/ipykernel_34960/3458343549.py\u001b[0m in \u001b[0;36m<module>\u001b[1;34m\u001b[0m\n\u001b[0;32m      4\u001b[0m \u001b[1;32mimport\u001b[0m \u001b[0mpandas\u001b[0m \u001b[1;32mas\u001b[0m  \u001b[0mpd\u001b[0m\u001b[1;33m\u001b[0m\u001b[1;33m\u001b[0m\u001b[0m\n\u001b[0;32m      5\u001b[0m \u001b[1;32mfrom\u001b[0m \u001b[0mpprint\u001b[0m \u001b[1;32mimport\u001b[0m \u001b[0mpprint\u001b[0m\u001b[1;31m# Gensim\u001b[0m\u001b[1;33m\u001b[0m\u001b[1;33m\u001b[0m\u001b[0m\n\u001b[1;32m----> 6\u001b[1;33m \u001b[1;32mimport\u001b[0m \u001b[0mgensim\u001b[0m\u001b[1;33m\u001b[0m\u001b[1;33m\u001b[0m\u001b[0m\n\u001b[0m\u001b[0;32m      7\u001b[0m \u001b[1;32mimport\u001b[0m \u001b[0mgensim\u001b[0m\u001b[1;33m.\u001b[0m\u001b[0mcorpora\u001b[0m \u001b[1;32mas\u001b[0m \u001b[0mcorpora\u001b[0m\u001b[1;33m\u001b[0m\u001b[1;33m\u001b[0m\u001b[0m\n\u001b[0;32m      8\u001b[0m \u001b[1;32mfrom\u001b[0m \u001b[0mgensim\u001b[0m\u001b[1;33m.\u001b[0m\u001b[0mutils\u001b[0m \u001b[1;32mimport\u001b[0m \u001b[0msimple_preprocess\u001b[0m\u001b[1;33m\u001b[0m\u001b[1;33m\u001b[0m\u001b[0m\n",
      "\u001b[1;31mModuleNotFoundError\u001b[0m: No module named 'gensim'"
     ]
    }
   ],
   "source": [
    "#import statements for libraries\n",
    "import re\n",
    "import numpy as np\n",
    "import pandas as  pd\n",
    "from pprint import pprint# Gensim\n",
    "import gensim\n",
    "import gensim.corpora as corpora\n",
    "from gensim.utils import simple_preprocess\n",
    "from gensim.models import CoherenceModel# spaCy for preprocessing\n",
    "import spacy# Plotting tools\n",
    "import pyLDAvis\n",
    "import pyLDAvis.gensim_models\n",
    "import matplotlib.pyplot as plt\n",
    "%matplotlib inline"
   ]
  },
  {
   "cell_type": "code",
   "execution_count": 8,
   "metadata": {},
   "outputs": [],
   "source": [
    "#import statements for different datasets\n",
    "#import all years individually\n",
    "df2017 = pd.read_csv ('../datasets/CleanData/2017_cleaned_songs_lyrics.csv')\n",
    "df2018 = pd.read_csv ('../datasets/CleanData/2018_cleaned_songs_lyrics.csv')\n",
    "df2019 = pd.read_csv ('../datasets/CleanData/2019_cleaned_songs_lyrics.csv')\n",
    "df2020 = pd.read_csv ('../datasets/CleanData/2020_cleaned_songs_lyrics.csv')\n",
    "df2021 = pd.read_csv ('../datasets/CleanData/2021_cleaned_songs_lyrics.csv')\n",
    "\n",
    "\n",
    "#create pre-covid and covid datasets\n",
    "df2017['Year'] = 2017\n",
    "df2018['Year'] = 2018\n",
    "df2019['Year'] = 2019\n",
    "df2020['Year'] = 2020\n",
    "df2021['Year'] = 2021\n",
    "\n",
    "df_precov = pd.concat([df2017, df2018, df2019])\n",
    "df_cov = pd.concat([df2020, df2021])"
   ]
  },
  {
   "cell_type": "code",
   "execution_count": 9,
   "metadata": {},
   "outputs": [
    {
     "data": {
      "text/html": [
       "<div>\n",
       "<style scoped>\n",
       "    .dataframe tbody tr th:only-of-type {\n",
       "        vertical-align: middle;\n",
       "    }\n",
       "\n",
       "    .dataframe tbody tr th {\n",
       "        vertical-align: top;\n",
       "    }\n",
       "\n",
       "    .dataframe thead th {\n",
       "        text-align: right;\n",
       "    }\n",
       "</style>\n",
       "<table border=\"1\" class=\"dataframe\">\n",
       "  <thead>\n",
       "    <tr style=\"text-align: right;\">\n",
       "      <th></th>\n",
       "      <th>Unnamed: 0</th>\n",
       "      <th>track_name</th>\n",
       "      <th>artist</th>\n",
       "      <th>streams</th>\n",
       "      <th>uid</th>\n",
       "      <th>cleaned_lyrics</th>\n",
       "      <th>stemmed_lyrics</th>\n",
       "      <th>lemmatized_lyrics</th>\n",
       "      <th>Year</th>\n",
       "    </tr>\n",
       "  </thead>\n",
       "  <tbody>\n",
       "    <tr>\n",
       "      <th>0</th>\n",
       "      <td>0</td>\n",
       "      <td>Shape of You</td>\n",
       "      <td>Ed Sheeran</td>\n",
       "      <td>1514648943</td>\n",
       "      <td>7qiZfU4dY1lWllzX7mPBI3</td>\n",
       "      <td>club best place find lover bar go friends tabl...</td>\n",
       "      <td>club best place find lover bar go friend tabl ...</td>\n",
       "      <td>club best place find lover bar go friend table...</td>\n",
       "      <td>2017</td>\n",
       "    </tr>\n",
       "    <tr>\n",
       "      <th>1</th>\n",
       "      <td>1</td>\n",
       "      <td>Something Just Like This</td>\n",
       "      <td>The Chainsmokers, Coldplay</td>\n",
       "      <td>704250265</td>\n",
       "      <td>6RUKPb4LETWmmr3iAEQktW</td>\n",
       "      <td>reading books old legends myths achilles gold ...</td>\n",
       "      <td>read book old legend myth achil gold hercul gi...</td>\n",
       "      <td>reading book old legend myth achilles gold her...</td>\n",
       "      <td>2017</td>\n",
       "    </tr>\n",
       "    <tr>\n",
       "      <th>2</th>\n",
       "      <td>2</td>\n",
       "      <td>HUMBLE.</td>\n",
       "      <td>Kendrick Lamar</td>\n",
       "      <td>665416406</td>\n",
       "      <td>7KXjTSCq5nL1LoYtL7XAwS</td>\n",
       "      <td>nobody pray day way yeah yeah ayy remember syr...</td>\n",
       "      <td>nobodi pray day way yeah yeah ayi rememb syrup...</td>\n",
       "      <td>nobody pray day way yeah yeah ayy remember syr...</td>\n",
       "      <td>2017</td>\n",
       "    </tr>\n",
       "    <tr>\n",
       "      <th>3</th>\n",
       "      <td>3</td>\n",
       "      <td>I'm the One (feat. Justin Bieber, Quavo, Chanc...</td>\n",
       "      <td>DJ Khaled, Justin Bieber, Quavo, Chance the Ra...</td>\n",
       "      <td>649357383</td>\n",
       "      <td>3DXncPQOG4VBw3QHh3S817</td>\n",
       "      <td>best music another one dj khaled yeah lookin t...</td>\n",
       "      <td>best music anoth one dj khale yeah lookin trut...</td>\n",
       "      <td>best music another one dj khaled yeah lookin t...</td>\n",
       "      <td>2017</td>\n",
       "    </tr>\n",
       "    <tr>\n",
       "      <th>4</th>\n",
       "      <td>4</td>\n",
       "      <td>It Ain't Me (with Selena Gomez)</td>\n",
       "      <td>Kygo, Selena Gomez</td>\n",
       "      <td>613063656</td>\n",
       "      <td>3eR23VReFzcdmS7TYCrhCe</td>\n",
       "      <td>dream sipping whiskey neat highest floor bower...</td>\n",
       "      <td>dream sip whiskey neat highest floor boweri hi...</td>\n",
       "      <td>dream sipping whiskey neat highest floor bower...</td>\n",
       "      <td>2017</td>\n",
       "    </tr>\n",
       "  </tbody>\n",
       "</table>\n",
       "</div>"
      ],
      "text/plain": [
       "   Unnamed: 0                                         track_name  \\\n",
       "0           0                                       Shape of You   \n",
       "1           1                           Something Just Like This   \n",
       "2           2                                            HUMBLE.   \n",
       "3           3  I'm the One (feat. Justin Bieber, Quavo, Chanc...   \n",
       "4           4                    It Ain't Me (with Selena Gomez)   \n",
       "\n",
       "                                              artist     streams  \\\n",
       "0                                         Ed Sheeran  1514648943   \n",
       "1                         The Chainsmokers, Coldplay   704250265   \n",
       "2                                     Kendrick Lamar   665416406   \n",
       "3  DJ Khaled, Justin Bieber, Quavo, Chance the Ra...   649357383   \n",
       "4                                 Kygo, Selena Gomez   613063656   \n",
       "\n",
       "                      uid                                     cleaned_lyrics  \\\n",
       "0  7qiZfU4dY1lWllzX7mPBI3  club best place find lover bar go friends tabl...   \n",
       "1  6RUKPb4LETWmmr3iAEQktW  reading books old legends myths achilles gold ...   \n",
       "2  7KXjTSCq5nL1LoYtL7XAwS  nobody pray day way yeah yeah ayy remember syr...   \n",
       "3  3DXncPQOG4VBw3QHh3S817  best music another one dj khaled yeah lookin t...   \n",
       "4  3eR23VReFzcdmS7TYCrhCe  dream sipping whiskey neat highest floor bower...   \n",
       "\n",
       "                                      stemmed_lyrics  \\\n",
       "0  club best place find lover bar go friend tabl ...   \n",
       "1  read book old legend myth achil gold hercul gi...   \n",
       "2  nobodi pray day way yeah yeah ayi rememb syrup...   \n",
       "3  best music anoth one dj khale yeah lookin trut...   \n",
       "4  dream sip whiskey neat highest floor boweri hi...   \n",
       "\n",
       "                                   lemmatized_lyrics  Year  \n",
       "0  club best place find lover bar go friend table...  2017  \n",
       "1  reading book old legend myth achilles gold her...  2017  \n",
       "2  nobody pray day way yeah yeah ayy remember syr...  2017  \n",
       "3  best music another one dj khaled yeah lookin t...  2017  \n",
       "4  dream sipping whiskey neat highest floor bower...  2017  "
      ]
     },
     "execution_count": 9,
     "metadata": {},
     "output_type": "execute_result"
    }
   ],
   "source": [
    "df_precov.head()"
   ]
  },
  {
   "cell_type": "code",
   "execution_count": 4,
   "metadata": {},
   "outputs": [
    {
     "data": {
      "text/html": [
       "<div>\n",
       "<style scoped>\n",
       "    .dataframe tbody tr th:only-of-type {\n",
       "        vertical-align: middle;\n",
       "    }\n",
       "\n",
       "    .dataframe tbody tr th {\n",
       "        vertical-align: top;\n",
       "    }\n",
       "\n",
       "    .dataframe thead th {\n",
       "        text-align: right;\n",
       "    }\n",
       "</style>\n",
       "<table border=\"1\" class=\"dataframe\">\n",
       "  <thead>\n",
       "    <tr style=\"text-align: right;\">\n",
       "      <th></th>\n",
       "      <th>Unnamed: 0</th>\n",
       "      <th>track_name</th>\n",
       "      <th>artist</th>\n",
       "      <th>streams</th>\n",
       "      <th>uid</th>\n",
       "      <th>cleaned_lyrics</th>\n",
       "      <th>stemmed_lyrics</th>\n",
       "      <th>lemmatized_lyrics</th>\n",
       "      <th>Year</th>\n",
       "    </tr>\n",
       "  </thead>\n",
       "  <tbody>\n",
       "    <tr>\n",
       "      <th>0</th>\n",
       "      <td>0</td>\n",
       "      <td>Blinding Lights</td>\n",
       "      <td>The Weeknd</td>\n",
       "      <td>1236759169</td>\n",
       "      <td>0VjIjW4GlUZAMYd2vXMi3b</td>\n",
       "      <td>yeah tryna call long enough maybe show love ma...</td>\n",
       "      <td>yeah tryna call long enough mayb show love may...</td>\n",
       "      <td>yeah tryna call long enough maybe show love ma...</td>\n",
       "      <td>2020</td>\n",
       "    </tr>\n",
       "    <tr>\n",
       "      <th>1</th>\n",
       "      <td>1</td>\n",
       "      <td>Dance Monkey</td>\n",
       "      <td>Tones And I</td>\n",
       "      <td>1194341955</td>\n",
       "      <td>1rgnBhdG2JDFTbYkYRZAku</td>\n",
       "      <td>say oh god see way shine take hands dear place...</td>\n",
       "      <td>say oh god see way shine take hand dear place ...</td>\n",
       "      <td>say oh god see way shine take hand dear place ...</td>\n",
       "      <td>2020</td>\n",
       "    </tr>\n",
       "    <tr>\n",
       "      <th>2</th>\n",
       "      <td>2</td>\n",
       "      <td>The Box</td>\n",
       "      <td>Roddy Ricch</td>\n",
       "      <td>1045663988</td>\n",
       "      <td>0nbXyq5TXYPCO7pr3N8S4I</td>\n",
       "      <td>pullin coupe lot told em fuck fuck swat bustin...</td>\n",
       "      <td>pullin coup lot told em fuck fuck swat bustin ...</td>\n",
       "      <td>pullin coupe lot told em fuck fuck swat bustin...</td>\n",
       "      <td>2020</td>\n",
       "    </tr>\n",
       "    <tr>\n",
       "      <th>3</th>\n",
       "      <td>3</td>\n",
       "      <td>ROCKSTAR (feat. Roddy Ricch)</td>\n",
       "      <td>DaBaby, Roddy Ricch</td>\n",
       "      <td>917851312</td>\n",
       "      <td>7ytR5pFWmSjzHJIeQkgog4</td>\n",
       "      <td>woo woo pull like pull baby pull oh oh oh pull...</td>\n",
       "      <td>woo woo pull like pull babi pull oh oh oh pull...</td>\n",
       "      <td>woo woo pull like pull baby pull oh oh oh pull...</td>\n",
       "      <td>2020</td>\n",
       "    </tr>\n",
       "    <tr>\n",
       "      <th>4</th>\n",
       "      <td>4</td>\n",
       "      <td>Watermelon Sugar</td>\n",
       "      <td>Harry Styles</td>\n",
       "      <td>852045823</td>\n",
       "      <td>6UelLqGlWMcVH1E5c4H7lY</td>\n",
       "      <td>tastes like strawberries summer evenin sounds ...</td>\n",
       "      <td>tast like strawberri summer evenin sound like ...</td>\n",
       "      <td>taste like strawberry summer evenin sound like...</td>\n",
       "      <td>2020</td>\n",
       "    </tr>\n",
       "  </tbody>\n",
       "</table>\n",
       "</div>"
      ],
      "text/plain": [
       "   Unnamed: 0                    track_name               artist     streams  \\\n",
       "0           0               Blinding Lights           The Weeknd  1236759169   \n",
       "1           1                  Dance Monkey          Tones And I  1194341955   \n",
       "2           2                       The Box          Roddy Ricch  1045663988   \n",
       "3           3  ROCKSTAR (feat. Roddy Ricch)  DaBaby, Roddy Ricch   917851312   \n",
       "4           4              Watermelon Sugar         Harry Styles   852045823   \n",
       "\n",
       "                      uid                                     cleaned_lyrics  \\\n",
       "0  0VjIjW4GlUZAMYd2vXMi3b  yeah tryna call long enough maybe show love ma...   \n",
       "1  1rgnBhdG2JDFTbYkYRZAku  say oh god see way shine take hands dear place...   \n",
       "2  0nbXyq5TXYPCO7pr3N8S4I  pullin coupe lot told em fuck fuck swat bustin...   \n",
       "3  7ytR5pFWmSjzHJIeQkgog4  woo woo pull like pull baby pull oh oh oh pull...   \n",
       "4  6UelLqGlWMcVH1E5c4H7lY  tastes like strawberries summer evenin sounds ...   \n",
       "\n",
       "                                      stemmed_lyrics  \\\n",
       "0  yeah tryna call long enough mayb show love may...   \n",
       "1  say oh god see way shine take hand dear place ...   \n",
       "2  pullin coup lot told em fuck fuck swat bustin ...   \n",
       "3  woo woo pull like pull babi pull oh oh oh pull...   \n",
       "4  tast like strawberri summer evenin sound like ...   \n",
       "\n",
       "                                   lemmatized_lyrics  Year  \n",
       "0  yeah tryna call long enough maybe show love ma...  2020  \n",
       "1  say oh god see way shine take hand dear place ...  2020  \n",
       "2  pullin coupe lot told em fuck fuck swat bustin...  2020  \n",
       "3  woo woo pull like pull baby pull oh oh oh pull...  2020  \n",
       "4  taste like strawberry summer evenin sound like...  2020  "
      ]
     },
     "execution_count": 4,
     "metadata": {},
     "output_type": "execute_result"
    }
   ],
   "source": [
    "#check the datasets\n",
    "# df_precov.head()\n",
    "df_cov.head()\n",
    "# df_precov.tail()\n",
    "# df_cov.tail()"
   ]
  },
  {
   "cell_type": "code",
   "execution_count": 5,
   "metadata": {},
   "outputs": [
    {
     "data": {
      "text/plain": [
       "(2732, 9)"
      ]
     },
     "execution_count": 5,
     "metadata": {},
     "output_type": "execute_result"
    }
   ],
   "source": [
    "#check the datasets\n",
    "df_precov.shape"
   ]
  },
  {
   "cell_type": "code",
   "execution_count": 6,
   "metadata": {},
   "outputs": [
    {
     "data": {
      "text/plain": [
       "(1734, 9)"
      ]
     },
     "execution_count": 6,
     "metadata": {},
     "output_type": "execute_result"
    }
   ],
   "source": [
    "#check the datasets\n",
    "df_cov.shape"
   ]
  },
  {
   "cell_type": "code",
   "execution_count": 8,
   "metadata": {},
   "outputs": [],
   "source": [
    "#creating lists from lemmatized lyrics\n",
    "dataprecov = df_precov.lemmatized_lyrics.tolist()\n",
    "datacov = df_cov.lemmatized_lyrics.tolist()\n",
    "\n",
    "\n",
    "#function sent_to_words changes sentencce into lists made of list of words\n",
    "def sent_to_words(sentences):\n",
    "  for sentence in sentences:\n",
    "    yield(gensim.utils.simple_preprocess(str(sentence), deacc=True))\n",
    "\n",
    "datawordsprecov = list(sent_to_words(dataprecov))\n",
    "datawordscov = list(sent_to_words(datacov))"
   ]
  },
  {
   "cell_type": "markdown",
   "metadata": {},
   "source": [
    "# Code for Pre-Covid Data"
   ]
  },
  {
   "cell_type": "code",
   "execution_count": 9,
   "metadata": {},
   "outputs": [
    {
     "name": "stdout",
     "output_type": "stream",
     "text": [
      "['club', 'best', 'place', 'find', 'lover', 'bar', 'go', 'friend', 'table', 'shot', 'drinking', 'fast', 'talk', 'slow', 'come', 'start', 'conversation', 'trust', 'give', 'chance', 'take', 'hand', 'stop', 'put', 'van', 'man', 'jukebox', 'start', 'dance', 'singing', 'like', 'girl', 'know', 'want', 'love', 'love', 'handmade_somebody', 'like', 'come', 'follow_lead', 'may', 'crazy', 'mind', 'say', 'boy', 'let', 'talk', 'much', 'grab_waist', 'put', 'body', 'come', 'follow_lead', 'come', 'come', 'follow_lead', 'love', 'shape_push', 'pull', 'like', 'magnet_although_heart', 'falling', 'love', 'body', 'last', 'night', 'room', 'bed', 'sheet_smell', 'like', 'every', 'day', 'discovering_something', 'brand_new', 'love', 'body', 'oh', 'oh', 'oh', 'oh', 'love', 'body', 'oh', 'oh', 'oh', 'oh', 'love', 'body', 'oh', 'oh', 'oh', 'oh', 'love', 'body', 'every', 'day', 'discovering_something', 'brand_new', 'love', 'shape', 'one', 'week', 'let', 'story', 'begin', 'going', 'first', 'date', 'thrifty', 'go', 'eat', 'fill', 'bag', 'fill', 'plate', 'talk', 'hour', 'hour', 'sweet_sour', 'family', 'okay', 'leave', 'get', 'taxi', 'kiss', 'backseat', 'tell', 'driver', 'make', 'radio', 'play', 'singing', 'like', 'girl', 'know', 'want', 'love', 'love', 'handmade_somebody', 'like', 'come', 'follow_lead', 'may', 'crazy', 'mind', 'say', 'boy', 'let', 'talk', 'much', 'grab_waist', 'put', 'body', 'come', 'follow_lead', 'come', 'come', 'follow_lead', 'love', 'shape_push', 'pull', 'like', 'magnet_although_heart', 'falling', 'love', 'body', 'last', 'night', 'room', 'bed', 'sheet_smell', 'like', 'every', 'day', 'discovering_something', 'brand_new', 'love', 'body', 'oh', 'oh', 'oh', 'oh', 'love', 'body', 'oh', 'oh', 'oh', 'oh', 'love', 'body', 'oh', 'oh', 'oh', 'oh', 'love', 'body', 'every', 'day', 'discovering_something', 'brand_new', 'love', 'shape', 'come', 'baby', 'come', 'come', 'baby', 'come', 'come', 'baby', 'come', 'come', 'baby', 'come', 'come', 'baby', 'come', 'come', 'baby', 'come', 'come', 'baby', 'come', 'come', 'baby', 'come', 'love', 'shape_push', 'pull', 'like', 'magnet_although_heart', 'falling', 'love', 'body', 'last', 'night', 'room', 'bed', 'sheet_smell', 'like', 'every', 'day', 'discovering_something', 'brand_new', 'love', 'body', 'come', 'baby', 'come', 'come', 'baby', 'come', 'love', 'body', 'come', 'baby', 'come', 'come', 'baby', 'come', 'love', 'body', 'come', 'baby', 'come', 'come', 'baby', 'come', 'love', 'body', 'every', 'day', 'discovering_something', 'brand_new', 'love', 'shape']\n"
     ]
    }
   ],
   "source": [
    "# Build the bigram and trigram models\n",
    "bigram = gensim.models.Phrases(datawordsprecov, min_count=5, threshold=100) # higher threshold fewer phrases.\n",
    "trigram = gensim.models.Phrases(bigram[datawordsprecov], threshold=100)\n",
    "# Faster way to get a sentence clubbed as a trigram/bigram\n",
    "bigram_mod = gensim.models.phrases.Phraser(bigram)\n",
    "trigram_mod = gensim.models.phrases.Phraser(trigram)\n",
    "print(trigram_mod[bigram_mod[datawordsprecov][0]])"
   ]
  },
  {
   "cell_type": "code",
   "execution_count": 10,
   "metadata": {},
   "outputs": [],
   "source": [
    "def make_bigrams(texts):\n",
    "    return [bigram_mod[doc] for doc in texts]"
   ]
  },
  {
   "cell_type": "code",
   "execution_count": 11,
   "metadata": {},
   "outputs": [],
   "source": [
    "# Form Bigrams\n",
    "data_words_bigrams = make_bigrams(datawordsprecov)"
   ]
  },
  {
   "cell_type": "code",
   "execution_count": 12,
   "metadata": {},
   "outputs": [
    {
     "name": "stdout",
     "output_type": "stream",
     "text": [
      "[[(0, 14), (1, 1), (2, 1), (3, 1), (4, 3), (5, 1), (6, 1), (7, 17), (8, 2), (9, 6), (10, 1), (11, 1), (12, 37), (13, 1), (14, 2), (15, 1), (16, 1), (17, 6), (18, 6), (19, 1), (20, 1), (21, 1), (22, 6), (23, 3), (24, 1), (25, 1), (26, 2), (27, 1), (28, 1), (29, 6), (30, 1), (31, 1), (32, 2), (33, 1), (34, 2), (35, 1), (36, 2), (37, 1), (38, 2), (39, 3), (40, 2), (41, 1), (42, 1), (43, 2), (44, 3), (45, 1), (46, 3), (47, 10), (48, 25), (49, 1), (50, 3), (51, 1), (52, 1), (53, 2), (54, 2), (55, 2), (56, 3), (57, 24), (58, 1), (59, 1), (60, 1), (61, 1), (62, 1), (63, 3), (64, 3), (65, 1), (66, 3), (67, 2), (68, 3), (69, 3), (70, 3), (71, 1), (72, 2), (73, 1), (74, 2), (75, 1), (76, 1), (77, 1), (78, 1), (79, 1), (80, 4), (81, 1), (82, 1), (83, 1), (84, 1), (85, 1), (86, 2), (87, 1)]]\n"
     ]
    },
    {
     "data": {
      "text/plain": [
       "[[('baby', 14),\n",
       "  ('backseat', 1),\n",
       "  ('bag', 1),\n",
       "  ('bar', 1),\n",
       "  ('bed', 3),\n",
       "  ('begin', 1),\n",
       "  ('best', 1),\n",
       "  ('body', 17),\n",
       "  ('boy', 2),\n",
       "  ('brand_new', 6),\n",
       "  ('chance', 1),\n",
       "  ('club', 1),\n",
       "  ('come', 37),\n",
       "  ('conversation', 1),\n",
       "  ('crazy', 2),\n",
       "  ('dance', 1),\n",
       "  ('date', 1),\n",
       "  ('day', 6),\n",
       "  ('discovering_something', 6),\n",
       "  ('drinking', 1),\n",
       "  ('driver', 1),\n",
       "  ('eat', 1),\n",
       "  ('every', 6),\n",
       "  ('falling', 3),\n",
       "  ('family', 1),\n",
       "  ('fast', 1),\n",
       "  ('fill', 2),\n",
       "  ('find', 1),\n",
       "  ('first', 1),\n",
       "  ('follow_lead', 6),\n",
       "  ('friend', 1),\n",
       "  ('get', 1),\n",
       "  ('girl', 2),\n",
       "  ('give', 1),\n",
       "  ('go', 2),\n",
       "  ('going', 1),\n",
       "  ('grab_waist', 2),\n",
       "  ('hand', 1),\n",
       "  ('handmade_somebody', 2),\n",
       "  ('heart', 3),\n",
       "  ('hour', 2),\n",
       "  ('jukebox', 1),\n",
       "  ('kiss', 1),\n",
       "  ('know', 2),\n",
       "  ('last', 3),\n",
       "  ('leave', 1),\n",
       "  ('let', 3),\n",
       "  ('like', 10),\n",
       "  ('love', 25),\n",
       "  ('lover', 1),\n",
       "  ('magnet_although', 3),\n",
       "  ('make', 1),\n",
       "  ('man', 1),\n",
       "  ('may', 2),\n",
       "  ('mind', 2),\n",
       "  ('much', 2),\n",
       "  ('night', 3),\n",
       "  ('oh', 24),\n",
       "  ('okay', 1),\n",
       "  ('one', 1),\n",
       "  ('place', 1),\n",
       "  ('plate', 1),\n",
       "  ('play', 1),\n",
       "  ('pull', 3),\n",
       "  ('put', 3),\n",
       "  ('radio', 1),\n",
       "  ('room', 3),\n",
       "  ('say', 2),\n",
       "  ('shape', 3),\n",
       "  ('shape_push', 3),\n",
       "  ('sheet_smell', 3),\n",
       "  ('shot', 1),\n",
       "  ('singing', 2),\n",
       "  ('slow', 1),\n",
       "  ('start', 2),\n",
       "  ('stop', 1),\n",
       "  ('story', 1),\n",
       "  ('sweet_sour', 1),\n",
       "  ('table', 1),\n",
       "  ('take', 1),\n",
       "  ('talk', 4),\n",
       "  ('taxi', 1),\n",
       "  ('tell', 1),\n",
       "  ('thrifty', 1),\n",
       "  ('trust', 1),\n",
       "  ('van', 1),\n",
       "  ('want', 2),\n",
       "  ('week', 1)]]"
      ]
     },
     "execution_count": 12,
     "metadata": {},
     "output_type": "execute_result"
    }
   ],
   "source": [
    "# Create Dictionary \n",
    "id2word = corpora.Dictionary(data_words_bigrams)  \n",
    "# Create Corpus \n",
    "texts = data_words_bigrams\n",
    "# Term Document Frequency \n",
    "corpus = [id2word.doc2bow(text) for text in texts]  \n",
    "# View \n",
    "print(corpus[:1])\n",
    "#read corpus\n",
    "[[(id2word[id], freq) for id, freq in cp] for cp in corpus[:1]]"
   ]
  },
  {
   "cell_type": "markdown",
   "metadata": {},
   "source": [
    "### Finding optimal number of topics for PreCov\n",
    "Code acquired from and credited to: https://www.machinelearningplus.com/nlp/topic-modeling-gensim-python/#11createthedictionaryandcorpusneededfortopicmodeling"
   ]
  },
  {
   "cell_type": "code",
   "execution_count": 13,
   "metadata": {},
   "outputs": [],
   "source": [
    "# coherence_model = gensim.models.coherencemodel.CoherenceModel(model=lda_model, corpus=corpus,texts = data_words, coherence='u_mass')\n",
    "# coherence = coherence_model.get_coherence()\n",
    "\n",
    "def compute_coherence_values(corpus, texts, limit, start=2, step=3):\n",
    "    \"\"\"\n",
    "    Compute c_v coherence for various number of topics\n",
    "\n",
    "    Parameters:\n",
    "    ----------\n",
    "    dictionary : Gensim dictionary\n",
    "    corpus : Gensim corpus\n",
    "    texts : List of input texts\n",
    "    limit : Max num of topics\n",
    "\n",
    "    Returns:\n",
    "    -------\n",
    "    model_list : List of LDA topic models\n",
    "    coherence_values : Coherence values corresponding to the LDA model with respective number of topics\n",
    "    \"\"\"\n",
    "    coherence_values = []\n",
    "    model_list = []\n",
    "    for num_topics in range(start, limit, step):\n",
    "        model = gensim.models.ldamodel.LdaModel(corpus=corpus,\n",
    "                                                   id2word=id2word,\n",
    "                                                   num_topics=num_topics, \n",
    "                                                   random_state=100,\n",
    "                                                   update_every=1,\n",
    "                                                   chunksize=100,\n",
    "                                                   passes=10,\n",
    "                                                   alpha='auto',\n",
    "                                                   per_word_topics=True)\n",
    "        model_list.append(model)\n",
    "        coherencemodel = CoherenceModel(model=model, corpus=corpus, texts = texts, coherence='u_mass')\n",
    "        coherence_values.append(coherencemodel.get_coherence())\n",
    "\n",
    "    return model_list, coherence_values"
   ]
  },
  {
   "cell_type": "code",
   "execution_count": 14,
   "metadata": {},
   "outputs": [],
   "source": [
    "model_list, coherence_values = compute_coherence_values(corpus=corpus, texts=datawordsprecov, start=1, limit=18, step=1)"
   ]
  },
  {
   "cell_type": "code",
   "execution_count": 15,
   "metadata": {},
   "outputs": [
    {
     "data": {
      "image/png": "[encoded data removed]",
      "text/plain": [
       "<Figure size 432x288 with 1 Axes>"
      ]
     },
     "metadata": {
      "needs_background": "light"
     },
     "output_type": "display_data"
    }
   ],
   "source": [
    "# Show graph\n",
    "limit=18; start=1; step=1;\n",
    "x = range(start, limit, step)\n",
    "plt.plot(x, coherence_values)\n",
    "plt.xlabel(\"Num Topics\")\n",
    "plt.ylabel(\"Coherence score\")\n",
    "plt.legend((\"coherence_values\"), loc='best')\n",
    "plt.show()"
   ]
  },
  {
   "cell_type": "code",
   "execution_count": 16,
   "metadata": {},
   "outputs": [
    {
     "name": "stdout",
     "output_type": "stream",
     "text": [
      "Num Topics = 1  has Coherence Value of -0.8412\n",
      "Num Topics = 2  has Coherence Value of -1.0503\n",
      "Num Topics = 3  has Coherence Value of -0.983\n",
      "Num Topics = 4  has Coherence Value of -2.056\n",
      "Num Topics = 5  has Coherence Value of -1.8663\n",
      "Num Topics = 6  has Coherence Value of -2.6308\n",
      "Num Topics = 7  has Coherence Value of -1.8546\n",
      "Num Topics = 8  has Coherence Value of -3.2786\n",
      "Num Topics = 9  has Coherence Value of -3.2628\n",
      "Num Topics = 10  has Coherence Value of -3.7811\n",
      "Num Topics = 11  has Coherence Value of -3.6745\n",
      "Num Topics = 12  has Coherence Value of -3.282\n",
      "Num Topics = 13  has Coherence Value of -3.5924\n",
      "Num Topics = 14  has Coherence Value of -3.5919\n",
      "Num Topics = 15  has Coherence Value of -2.8673\n",
      "Num Topics = 16  has Coherence Value of -3.0618\n",
      "Num Topics = 17  has Coherence Value of -3.0046\n"
     ]
    }
   ],
   "source": [
    "for m, cv in zip(x, coherence_values):\n",
    "    print(\"Num Topics =\", m, \" has Coherence Value of\", round(cv, 4))"
   ]
  },
  {
   "cell_type": "code",
   "execution_count": 17,
   "metadata": {},
   "outputs": [
    {
     "name": "stdout",
     "output_type": "stream",
     "text": [
      "Hence, optimal value is Num Topics = 10\n"
     ]
    }
   ],
   "source": [
    "print(\"Hence, optimal value is Num Topics = 10\")"
   ]
  },
  {
   "cell_type": "markdown",
   "metadata": {},
   "source": [
    "### Running Topic Modelling with Optimal Number of Topics for PreCov"
   ]
  },
  {
   "cell_type": "code",
   "execution_count": 18,
   "metadata": {},
   "outputs": [],
   "source": [
    "#topic model for 2017 data\n",
    "lda_model = gensim.models.ldamodel.LdaModel(corpus=corpus,\n",
    "                                           id2word=id2word,\n",
    "                                           num_topics=10, \n",
    "                                           random_state=100,\n",
    "                                           update_every=1,\n",
    "                                           chunksize=100,\n",
    "                                           passes=10,\n",
    "                                           alpha='auto',\n",
    "                                           per_word_topics=True)"
   ]
  },
  {
   "cell_type": "code",
   "execution_count": 19,
   "metadata": {},
   "outputs": [
    {
     "name": "stdout",
     "output_type": "stream",
     "text": [
      "[(0, '0.043*\"nigga\" + 0.030*\"bitch\" + 0.027*\"got\" + 0.020*\"woo\" + 0.019*\"like\" + 0.019*\"yeah\" + 0.019*\"uh\" + 0.016*\"get\" + 0.011*\"go\" + 0.011*\"pop\"'), (1, '0.039*\"shit\" + 0.027*\"got\" + 0.027*\"nigga\" + 0.018*\"gon\" + 0.012*\"like\" + 0.012*\"god\" + 0.011*\"man\" + 0.011*\"see\" + 0.010*\"real\" + 0.010*\"get\"'), (2, '0.066*\"oh\" + 0.041*\"love\" + 0.018*\"one\" + 0.017*\"day\" + 0.016*\"come\" + 0.012*\"heart\" + 0.011*\"christmas\" + 0.011*\"baby\" + 0.010*\"thing\" + 0.009*\"home\"'), (3, '0.159*\"la\" + 0.018*\"bounce\" + 0.016*\"work\" + 0.015*\"eh\" + 0.014*\"go\" + 0.014*\"like\" + 0.014*\"woman\" + 0.013*\"loco\" + 0.012*\"let\" + 0.011*\"que\"'), (4, '0.054*\"ayy\" + 0.052*\"fuck\" + 0.048*\"like\" + 0.025*\"bitch\" + 0.019*\"back\" + 0.016*\"got\" + 0.015*\"huh\" + 0.012*\"fuckin\" + 0.011*\"get\" + 0.011*\"made\"'), (5, '0.243*\"woah\" + 0.044*\"surf_surf\" + 0.033*\"slatt\" + 0.020*\"mm_mm\" + 0.016*\"doo_doo\" + 0.016*\"dreaming\" + 0.015*\"thunder_thunder\" + 0.015*\"demon\" + 0.011*\"ohh\" + 0.009*\"feel\"'), (6, '0.041*\"take\" + 0.028*\"lord\" + 0.027*\"power\" + 0.021*\"higher\" + 0.019*\"break\" + 0.014*\"harder_harder\" + 0.013*\"whatever\" + 0.013*\"fi\" + 0.012*\"uishi_kwa\" + 0.012*\"sittin\"'), (7, '0.369*\"ooh\" + 0.090*\"na\" + 0.075*\"ah\" + 0.023*\"oh\" + 0.022*\"mmm\" + 0.016*\"hey\" + 0.012*\"love\" + 0.009*\"lover\" + 0.008*\"yeah\" + 0.008*\"baby\"'), (8, '0.152*\"yeah\" + 0.045*\"want\" + 0.028*\"know\" + 0.024*\"girl\" + 0.021*\"like\" + 0.020*\"baby\" + 0.020*\"got\" + 0.019*\"need\" + 0.014*\"hey\" + 0.014*\"call\"'), (9, '0.043*\"know\" + 0.022*\"go\" + 0.022*\"time\" + 0.021*\"love\" + 0.021*\"let\" + 0.020*\"like\" + 0.020*\"never\" + 0.019*\"feel\" + 0.017*\"wanna\" + 0.017*\"get\"')]\n"
     ]
    }
   ],
   "source": [
    "print(lda_model.print_topics())\n",
    "doc_lda = lda_model[corpus]"
   ]
  },
  {
   "cell_type": "code",
   "execution_count": 20,
   "metadata": {},
   "outputs": [
    {
     "name": "stdout",
     "output_type": "stream",
     "text": [
      "-7.61202193816685 -3.781054502092141\n"
     ]
    }
   ],
   "source": [
    "# Perplexity\n",
    "perplexity = lda_model.log_perplexity(corpus)\n",
    "# Coherence\n",
    "coherence_model = gensim.models.coherencemodel.CoherenceModel(model=lda_model, corpus=corpus, \n",
    "                                                              texts = datawordsprecov, coherence='u_mass')\n",
    "coherence = coherence_model.get_coherence()\n",
    "print(perplexity, coherence)"
   ]
  },
  {
   "cell_type": "markdown",
   "metadata": {},
   "source": [
    "### Visualising outcomes of PreCov data"
   ]
  },
  {
   "cell_type": "code",
   "execution_count": 21,
   "metadata": {},
   "outputs": [
    {
     "name": "stderr",
     "output_type": "stream",
     "text": [
      "C:\\Users\\Djulian\\Anaconda3\\lib\\site-packages\\pyLDAvis\\_prepare.py:247: FutureWarning: In a future version of pandas all arguments of DataFrame.drop except for the argument 'labels' will be keyword-only\n",
      "  by='saliency', ascending=False).head(R).drop('saliency', 1)\n",
      "C:\\Users\\Djulian\\Anaconda3\\lib\\site-packages\\joblib\\numpy_pickle.py:104: DeprecationWarning: tostring() is deprecated. Use tobytes() instead.\n",
      "  pickler.file_handle.write(chunk.tostring('C'))\n",
      "C:\\Users\\Djulian\\Anaconda3\\lib\\site-packages\\joblib\\numpy_pickle.py:104: DeprecationWarning: tostring() is deprecated. Use tobytes() instead.\n",
      "  pickler.file_handle.write(chunk.tostring('C'))\n"
     ]
    },
    {
     "data": {
      "text/html": [
       "\n",
       "<link rel=\"stylesheet\" type=\"text/css\" href=\"https://cdn.jsdelivr.net/gh/bmabey/pyLDAvis@3.3.1/pyLDAvis/js/ldavis.v1.0.0.css\">\n",
       "\n",
       "\n",
       "<div id=\"ldavis_el1398818424965890409861198796\"></div>\n",
       "<script type=\"text/javascript\">\n",
       "\n",
       "var ldavis_el1398818424965890409861198796_data = {\"mdsDat\": {\"x\": [-0.1591468678416168, -0.09802655273342283, -0.17024582824403825, -0.1492739439505443, -0.13964207688613894, -0.16684567881820186, 0.17888395175822108, 0.18446778804403313, 0.24993650173373175, 0.26989270693797696], \"y\": [0.17737315781312507, 0.24263272494665566, 0.0910908610776488, -0.2223683758349746, -0.17290191195031054, -0.1190178206009992, 0.06830913672226063, 0.06457687985547868, -0.05996900584475392, -0.0697256461841303], \"topics\": [1, 2, 3, 4, 5, 6, 7, 8, 9, 10], \"cluster\": [1, 1, 1, 1, 1, 1, 1, 1, 1, 1], \"Freq\": [25.57280130632451, 17.439113167785198, 14.76203930423505, 13.437046521023388, 11.23021816690161, 10.117473509246794, 2.7891110243748867, 2.5178107619930294, 1.4853019292887233, 0.6490843088268073]}, \"tinfo\": {\"Term\": [\"yeah\", \"ooh\", \"oh\", \"la\", \"ayy\", \"nigga\", \"fuck\", \"want\", \"know\", \"take\", \"feel\", \"love\", \"woah\", \"bitch\", \"shit\", \"na\", \"ah\", \"like\", \"got\", \"girl\", \"never\", \"let\", \"go\", \"baby\", \"hey\", \"woo\", \"wanna\", \"back\", \"uh\", \"give\", \"lie\", \"sometimes\", \"lonely\", \"sorry\", \"danger\", \"alive\", \"sad\", \"morning\", \"sense\", \"admit\", \"seem\", \"issue\", \"finally\", \"afraid\", \"mmh\", \"somewhere\", \"scared\", \"hide\", \"needed\", \"goodbye\", \"slowly\", \"anymore\", \"losing\", \"faded\", \"knock\", \"wrapped\", \"highway_hell\", \"passport\", \"shut_mouth\", \"easy\", \"reason\", \"feel\", \"help\", \"middle\", \"gone\", \"mind\", \"low\", \"never\", \"hurt\", \"tired\", \"matter\", \"gonna\", \"left\", \"til\", \"time\", \"always\", \"tell\", \"know\", \"could\", \"cry\", \"wanna\", \"give\", \"let\", \"think\", \"hold\", \"cause\", \"go\", \"ever\", \"say\", \"alone\", \"keep\", \"stay\", \"night\", \"everything\", \"better\", \"friend\", \"back\", \"get\", \"way\", \"love\", \"take\", \"right\", \"like\", \"see\", \"make\", \"even\", \"got\", \"christmas\", \"happy\", \"sing\", \"santa\", \"snow\", \"far\", \"waiting\", \"calling\", \"spirit\", \"falling\", \"apart\", \"everyone\", \"tree\", \"merry_christmas\", \"honey\", \"sun\", \"loving\", \"hour\", \"darling\", \"little_bit\", \"mm\", \"stranger\", \"child\", \"ruin\", \"sugar\", \"telling\", \"santa_claus\", \"space\", \"singing\", \"happiness\", \"someone\", \"heaven\", \"loved\", \"oh\", \"maybe\", \"meant\", \"heart\", \"day\", \"hear\", \"kiss\", \"tough\", \"light\", \"home\", \"year\", \"little\", \"come\", \"coming\", \"love\", \"fire\", \"wish\", \"start\", \"one\", \"tonight\", \"dance\", \"thing\", \"arm\", \"going\", \"every\", \"place\", \"baby\", \"world\", \"let\", \"night\", \"make\", \"made\", \"away\", \"want\", \"time\", \"like\", \"see\", \"waitin\", \"da_da\", \"dumb\", \"surf\", \"hoo_hoo\", \"totally\", \"mi\", \"changed\", \"waste\", \"treat\", \"dangerous\", \"benz\", \"energy\", \"pretend\", \"watching\", \"crowd\", \"squad\", \"however\", \"chop_chop\", \"emotion\", \"float\", \"busy\", \"focused\", \"wherever\", \"calm\", \"bit\", \"comfortable\", \"dyin\", \"celebrate\", \"eah\", \"girl\", \"da\", \"jealous\", \"bring\", \"yeah\", \"ya\", \"want\", \"guy\", \"call\", \"cool\", \"hey\", \"round\", \"need\", \"baby\", \"run\", \"bad\", \"name\", \"young\", \"roll\", \"ready\", \"right\", \"know\", \"throw\", \"said\", \"runnin\", \"got\", \"boy\", \"like\", \"wanna\", \"make\", \"one\", \"say\", \"life\", \"love\", \"uh\", \"oh\", \"back\", \"get\", \"pop\", \"diamond\", \"skrrt\", \"suicide\", \"coupe\", \"cash\", \"drip\", \"slide\", \"brick\", \"ridin\", \"foreign\", \"wow\", \"aw\", \"horse\", \"team\", \"slime\", \"dip\", \"boom_boom\", \"patek\", \"great\", \"lambo\", \"cardi\", \"chop\", \"pour\", \"drippin\", \"hoo\", \"jingle_bell\", \"luck\", \"raw\", \"percs\", \"bag\", \"woo\", \"stick\", \"sip\", \"ice\", \"lit\", \"whip\", \"pussy\", \"wrist\", \"hot\", \"nigga\", \"drop\", \"bust\", \"rock\", \"hundred\", \"bitch\", \"uh\", \"shawty\", \"ho\", \"rack\", \"straight\", \"big\", \"got\", \"money\", \"bad\", \"put\", \"get\", \"em\", \"like\", \"yeah\", \"go\", \"as\", \"top\", \"make\", \"gon\", \"hit\", \"rap\", \"price\", \"dawg\", \"motherfucker\", \"mud\", \"mac\", \"flip\", \"bobby\", \"jesus\", \"rack_rack\", \"opps\", \"bust_bust\", \"workin\", \"hol\", \"rapper\", \"sent\", \"finna\", \"copy\", \"sold\", \"prayin\", \"murder\", \"dirty\", \"fame\", \"famous\", \"whack\", \"dad\", \"blew\", \"crash\", \"pistol\", \"crack\", \"king\", \"shit\", \"black\", \"shot\", \"god\", \"real\", \"gon\", \"talkin\", \"bout\", \"okay\", \"man\", \"everybody\", \"many\", \"fact\", \"die\", \"nigga\", \"kid\", \"nothin\", \"got\", \"money\", \"outta\", \"boy\", \"lot\", \"smoke\", \"em\", \"see\", \"tryna\", \"hit\", \"lil\", \"get\", \"like\", \"gotta\", \"bitch\", \"take\", \"two\", \"still\", \"make\", \"ayy\", \"fucked\", \"gucci\", \"killed\", \"clean\", \"suck\", \"brown\", \"yah\", \"hangin\", \"riding\", \"ran\", \"tag\", \"youngin\", \"test\", \"goddamn\", \"keanu_reef\", \"banging_bobby\", \"grieve\", \"rubbin\", \"smokin\", \"hater\", \"non\", \"spit\", \"jack\", \"dub\", \"thank_next\", \"momma\", \"freak\", \"throat\", \"buck\", \"fuck\", \"huh\", \"fuckin\", \"comin\", \"bos\", \"gang\", \"heat\", \"talk\", \"feelin\", \"nose\", \"three\", \"damn\", \"like\", \"bitch\", \"made\", \"hell\", \"as\", \"vibe\", \"look\", \"back\", \"new\", \"game\", \"used\", \"fly\", \"done\", \"got\", \"man\", \"shit\", \"get\", \"uh\", \"one\", \"tell\", \"yeah\", \"make\", \"go\", \"la\", \"eh\", \"loco\", \"que\", \"ha_ha\", \"loca\", \"de\", \"se\", \"un\", \"di\", \"taste_taste\", \"internet\", \"solo\", \"pa\", \"mami\", \"pero\", \"el\", \"boca\", \"gyal\", \"si\", \"star_closer\", \"ropa\", \"nah_nah\", \"fuego\", \"ay_ay\", \"sellin\", \"dum\", \"porque\", \"te\", \"bom_bom\", \"bounce\", \"woman\", \"work\", \"beautiful\", \"yo\", \"taste\", \"ah\", \"go\", \"let\", \"wait\", \"like\", \"everybody\", \"give\", \"oh\", \"around\", \"na\", \"heart_takeaway\", \"scar\", \"ri_ri\", \"pickin\", \"singin\", \"oo_oo\", \"brown_skin\", \"grindin\", \"chyeah\", \"constantly\", \"ooh\", \"shake_shake\", \"melody\", \"fuego_fuego\", \"gorgeous\", \"regretted\", \"havana\", \"de_kah\", \"kah_buba\", \"changin\", \"nod\", \"vibin\", \"trembling\", \"thriller\", \"ate\", \"craft\", \"point_blank\", \"thundercloud\", \"wolf\", \"ah\", \"mmm\", \"lover\", \"wishin\", \"rise\", \"turnin\", \"harder\", \"hey\", \"oh\", \"chase\", \"hmm\", \"babe\", \"enough\", \"love\", \"baby\", \"heart\", \"tryna\", \"say\", \"yeah\", \"woo\", \"livin\", \"back\", \"take\", \"tell\", \"blue\", \"higher\", \"harder_harder\", \"fi\", \"uishi_kwa\", \"sittin\", \"hallelujah_hallelujah\", \"worship\", \"raise\", \"dna\", \"human\", \"distant\", \"hallelujah\", \"evil\", \"ta_ta\", \"candle\", \"police\", \"silent\", \"praise_lord\", \"damage\", \"winner\", \"ba\", \"easier\", \"mfalme\", \"mrefu\", \"muda\", \"jesus_christ\", \"puppet\", \"nuh\", \"mary\", \"halo\", \"power\", \"lord\", \"prove\", \"lift\", \"whatever\", \"born\", \"rule\", \"break\", \"bone\", \"take\", \"blame\", \"follow\", \"point\", \"stand\", \"side\", \"hundred\", \"found\", \"feel\", \"pray\", \"surf_surf\", \"slatt\", \"mm_mm\", \"doo_doo\", \"dreaming\", \"thunder_thunder\", \"ohh\", \"basic\", \"thunder_thun\", \"th_thunder\", \"thunder_th\", \"thunder\", \"splish\", \"erase\", \"lightning_thunder\", \"scheme\", \"gain\", \"suit\", \"gift\", \"mentally\", \"hercules\", \"allergic_allergic\", \"achilles\", \"doo\", \"ahh_ahh\", \"card_write\", \"thun\", \"superman\", \"top_glisten\", \"confess\", \"woah\", \"demon\", \"sleep\", \"feel\", \"something\", \"give\", \"never\", \"oh\"], \"Freq\": [15123.0, 5555.0, 7817.0, 2593.0, 3183.0, 5210.0, 3315.0, 4572.0, 9228.0, 2883.0, 2908.0, 8450.0, 1066.0, 4447.0, 3269.0, 1325.0, 1370.0, 10824.0, 7722.0, 2133.0, 3385.0, 4470.0, 5276.0, 3520.0, 1780.0, 1635.0, 3566.0, 3813.0, 2476.0, 1847.0, 763.6258099684884, 359.1277568852901, 287.91239303240997, 279.0882652335874, 275.9590957671493, 299.63036862797907, 250.24066352067874, 236.98205278089029, 213.95366202477695, 189.10386763118237, 181.6970963369062, 181.36060200257324, 170.2757338791732, 155.9558624120199, 152.01174600137833, 142.736115402529, 279.54518582371816, 254.14615100091493, 137.75301816540025, 137.64752344348489, 136.10755791377275, 135.42924711421804, 120.05501107949537, 120.0547675833109, 106.88325890721913, 101.06880482231306, 100.01378803282103, 99.66317091978966, 88.39658507244735, 268.42977632175354, 288.2873249787177, 2796.1771638003365, 362.1859298213748, 204.81476322979174, 709.8391725103822, 1247.8258342065649, 543.6174761765477, 2964.5563058987855, 376.0269138640425, 399.2940178438453, 290.50197495409463, 1225.690778773465, 792.4878997043721, 1141.1559301346824, 3239.9215492572166, 870.3706412948445, 2289.1880533777125, 6364.429246458753, 1665.562322631411, 450.85955267768645, 2581.9439333706355, 1430.1819355741154, 3065.966205394059, 1563.2887769550425, 1151.391466174117, 2352.6334191994474, 3311.215562377676, 1099.8360190393462, 2335.484330779936, 716.9259550331146, 1674.6956557993228, 876.7370229632805, 1577.6814885665174, 750.6421064209502, 851.5817104285327, 834.0584727290208, 2015.416527331712, 2570.1706841411947, 1363.447562433432, 3192.138692863723, 1524.3840697281514, 1363.3868970983333, 3000.540589459655, 1451.0317485753203, 1345.7125526237821, 920.0802482107656, 1221.958190976777, 1093.3038802156095, 407.3759960592158, 365.9012256606784, 348.1850683998298, 307.19843685258206, 302.91105577360224, 269.36198274300654, 264.8942716247856, 262.2768767024193, 240.86027682101547, 237.31195950191423, 229.62876594759553, 224.00297636110932, 221.30872412130802, 171.31906436394866, 238.22817463420176, 165.6894674936821, 161.38210114002973, 156.02859757767263, 149.92131113029234, 149.50093244173513, 143.2579240370386, 142.5757916234082, 141.51729556828874, 137.521960434865, 136.6651199524355, 129.53864380024126, 122.45726201855447, 114.85479236893684, 112.66516534944293, 569.3118494270863, 279.6637098466165, 197.9291432819637, 6703.287237500628, 458.685656522128, 177.67714525224935, 1191.773095771095, 1716.1768350785696, 578.9877112642745, 433.8007753058901, 226.92995920009437, 891.4049260204566, 940.9771366814512, 572.3124634738856, 774.2346646354232, 1579.3937723538234, 398.1246048510965, 4219.188522672577, 459.54152442739246, 588.7493022203546, 462.1822849231147, 1856.416769147506, 537.8974172240664, 394.7054742451901, 977.7635158308731, 365.4245442428212, 430.6678907646408, 699.3584157214385, 501.3323112403958, 1075.1690640672882, 502.42050648114144, 920.9466015886422, 691.5931698643395, 788.8409708288586, 530.6885803909665, 502.1655963783152, 607.6934448983825, 589.503357901412, 647.3880669853161, 525.793955340067, 312.00988875154394, 290.13629999282233, 256.3760157325598, 213.02595897132846, 178.6482972134429, 176.96636219894032, 148.72064892513768, 142.2100130596825, 140.4667439019909, 137.5008279462519, 127.49238892523375, 125.34430839851596, 123.55608027975049, 117.49745365648101, 115.1059541902285, 114.52164833570006, 110.16147246855142, 106.69635943743168, 106.57943401075313, 101.41991632920991, 94.95019331913124, 93.38681020555777, 88.55518772493285, 87.99980700815652, 87.69584708262904, 86.46789918332057, 83.0607820071904, 82.39292356801326, 81.94914207674313, 78.30970012186133, 2036.9507297921793, 322.82881394756225, 153.88456411113611, 890.9826747719205, 13139.686124485574, 1165.5148217640985, 3855.674397398488, 212.82524000085297, 1167.0693295490455, 313.53190721133797, 1170.1116797545958, 465.7863626047699, 1618.1735291740144, 1757.453699870441, 623.7109080349152, 949.8624883967803, 450.6581440817375, 463.0370588833251, 341.9603478392149, 206.98043450174399, 991.3976609334733, 2430.0914834330065, 336.4865993484509, 692.0357981922317, 268.9308909521422, 1698.955404896945, 487.880589623554, 1770.0338557206585, 804.7286167926895, 771.4681420456427, 728.2211154002088, 665.226080962305, 466.2569959811209, 772.0955193479173, 540.3679578451654, 609.9080853067212, 470.76176741713647, 448.8344046085016, 844.2835377229183, 668.5904301495603, 509.4004412881727, 446.0232336483443, 414.79131443420346, 332.73766943459816, 289.6421859373796, 279.8629648494187, 220.99502876527572, 218.6133452529124, 208.59119632154577, 173.04981649025763, 169.9517965066916, 148.92514055686152, 147.80677870159215, 139.83314883073427, 138.18097081456608, 136.08121958604391, 133.185615101823, 132.19373437486357, 122.15943996520762, 121.8418754617653, 114.68334518014811, 112.59234893146127, 112.05519710496756, 109.55328341023102, 107.13664395019535, 106.76848699542904, 105.11436241276301, 100.20701343886566, 595.0074017780204, 1539.009063168123, 355.59580684983354, 187.41556863236738, 338.2923111712892, 275.4933891410847, 256.7901202355913, 471.8097016258697, 354.88802430464943, 420.68968508693445, 3385.2543855501285, 464.0564450157102, 252.1570543616915, 355.68726805880215, 357.01513712985945, 2393.681088154014, 1478.2949047182883, 340.73950167265, 448.7190363328368, 272.81860571924483, 423.1744909296337, 525.862654687259, 2105.3949188220267, 670.0458404508701, 703.3339187705534, 739.2083533879778, 1255.3708194148498, 706.6278382820423, 1528.1308088077233, 1485.0400774916263, 862.1402603944806, 436.6591704142029, 401.26397498525915, 518.5773416966068, 442.6861789543682, 398.1704147408994, 244.6299253337019, 201.63656361827245, 187.9771251348621, 156.2672648247837, 133.6796091303149, 132.3050466747097, 131.36691387089027, 129.323576821124, 127.19370235527906, 123.75793779993333, 121.10775425570283, 120.68846405331513, 114.89368800808573, 113.38223909431977, 111.99299659337449, 109.94639815996604, 105.97916555316404, 105.99034743993714, 104.47581281424745, 96.11897932423285, 94.3893079466732, 92.67148295325634, 91.99142717961176, 90.28943555455598, 89.75536297892648, 87.34714813208089, 87.19536776735762, 86.57762198844998, 86.37319357350341, 86.01401365042189, 172.98832529278855, 2541.9686658200876, 311.0102490624553, 415.1607865952781, 765.479828199215, 663.4445003626986, 1207.223748052927, 350.18403406937324, 618.1427664396981, 520.4636694977934, 724.359753310112, 449.4974279215318, 253.09438448390748, 175.61397589964528, 504.7474665350081, 1743.8885661111815, 248.12579253045297, 316.23023488288345, 1772.0858627733571, 577.6957433692047, 178.07897090104768, 442.3326186958724, 332.4484617895361, 259.9687854453002, 565.7065610330208, 709.5090467145258, 380.6143168582113, 390.2059926844731, 304.6753435862609, 663.034009022034, 797.4115084243645, 383.91599806499033, 561.4926395061387, 428.0785543592799, 325.4252286931294, 347.04818696479185, 390.0313291689491, 3178.5654713957556, 328.9908061965453, 186.3852157215532, 162.21517156318245, 160.4709227025504, 157.45420698876075, 120.57669704988146, 112.09955978436825, 110.78615726477057, 110.25686301992742, 110.11561467146285, 104.5791363167199, 102.83145378697479, 100.9827222974595, 98.55512511562513, 93.73874703946498, 93.61911910854198, 93.61911910854198, 91.56403717942248, 90.55677481782104, 88.29972571006932, 86.47798877752906, 85.30216697986837, 82.53650821515701, 82.25891086173188, 82.01048937411713, 80.92715644729545, 80.58817279696123, 80.04734582780247, 79.64158797892487, 3054.601291178878, 871.9173917663786, 693.2796207777606, 467.9563358322687, 123.11443312515004, 536.7707531278589, 175.6882973882008, 454.200548163911, 432.2013122816406, 133.58258239370716, 276.6887178759585, 356.6536831694492, 2851.7814616305436, 1492.086036141944, 628.3871554815307, 300.2857452773731, 480.5457219294503, 260.70048103387546, 600.6320442385036, 1102.6264314428608, 397.4923536179217, 273.9124415732883, 337.52304043317736, 217.28205851092727, 377.11460776466606, 922.8426544647323, 376.2911051899671, 541.1843459905259, 638.3244003277448, 423.2166869785373, 360.3934786783065, 332.4770744412711, 374.81298976944885, 307.364168140195, 308.81186909682594, 2593.0332142136776, 236.5561761193029, 214.80879864091546, 179.87392380653347, 179.27982007145596, 143.21202193527284, 112.37369942328054, 93.59275083620949, 85.15316651467896, 83.29453796586918, 82.5903970348723, 78.65836177784762, 75.15013893139222, 71.90458038028508, 71.87000311495585, 70.66496606953194, 67.11844797222804, 60.92162459931528, 60.64617498641605, 60.19868128440665, 59.0708303771354, 59.0443378333792, 58.95155133149671, 56.349173924321484, 51.58154418501699, 48.743696890863035, 48.090249554262606, 44.89142380481506, 44.31743133630659, 44.202704925997615, 300.0233119166624, 228.49831509471838, 258.4801806730324, 137.09576882610781, 121.7788901105194, 88.46079266078128, 163.96648482369918, 236.041819379751, 191.1875716362659, 125.61533520107105, 228.8083799115746, 112.47664968353665, 117.61696953252044, 154.0348653255591, 83.96917781992947, 1324.7325433669648, 102.50940833868432, 85.87564370014151, 63.86821265168279, 49.678758796958405, 43.77326095479854, 43.59435130885913, 42.5759509853987, 40.31980716050373, 40.133318367825986, 39.10783892267186, 5420.643228586862, 33.42019445783938, 32.54972277652487, 32.12630773341274, 32.10581698106956, 31.679042180636905, 30.856826340959604, 27.498843081901047, 27.498843081901047, 26.602829025360816, 25.827767944773786, 24.132979291145737, 22.539063840616457, 20.435936241455202, 20.281306921228147, 18.959884571055355, 18.628369678870982, 18.290899008928825, 18.211148439137197, 1099.2642640857175, 325.0261425262708, 132.56632475171844, 58.57607087301828, 75.98824436256689, 34.58449934946365, 63.280970909868316, 228.6083543657133, 333.34346322366355, 47.38340410400776, 61.39648611113576, 75.63558971293003, 74.66334923571418, 179.17211114023624, 122.1038007175893, 83.8182461311762, 75.15324363596044, 93.20919594565902, 123.18632069095263, 67.71857673689453, 49.332159245122426, 50.72951348067056, 49.56733198307149, 48.03772797287319, 43.93198123335318, 178.21018040041423, 117.67023005301944, 109.38341440637531, 100.97155412046965, 99.888087133039, 85.71378066619899, 69.31398186761218, 67.13311543245959, 63.28675833009249, 60.73642713080631, 59.50248310705111, 57.03593658413952, 55.3052769147273, 53.01890684320431, 50.03515409860988, 44.927173925795216, 44.76823558672998, 39.76363766349543, 38.79511347346778, 36.96082911027084, 36.017995924457786, 33.702613363117116, 33.32947152854703, 33.32947152854703, 33.32947152854703, 32.77852515505673, 31.717777209965885, 31.597090505282125, 29.010891706293084, 28.319234757187058, 230.14929328588764, 241.97471948378413, 62.3531663092116, 66.27384468250023, 111.4699377200428, 70.36503406488723, 73.42860752311095, 168.00177623249508, 72.63870006008894, 356.11374969673864, 64.33848533040367, 77.58162825914557, 75.76543023361215, 74.16731077012048, 93.91587014480731, 72.63041654976494, 65.36279997264757, 78.7361152355784, 59.0895076896645, 165.0714133757778, 124.97191262331147, 76.75879884073795, 61.67340978892184, 59.731372885180136, 55.490278123419806, 42.74488221511497, 32.15733137987285, 28.737428605334898, 24.915594725716193, 24.915594725716193, 24.799520182683914, 23.18979332021833, 22.424523149761846, 19.556286122209382, 18.635699546521355, 18.56215659206539, 16.915322746192736, 15.614217422937712, 15.47449675756775, 14.900911862155885, 13.816800457691642, 13.49866996703695, 12.725748489875276, 11.797330493638551, 11.611397383743284, 11.53917438122873, 10.09850290202832, 8.828750631209015, 8.464968344512494, 922.1922023118199, 55.18602699364736, 30.40809045321074, 32.71690624357482, 21.53991872886995, 19.528855843335993, 19.082694428919538, 16.885517436735807], \"Total\": [15123.0, 5555.0, 7817.0, 2593.0, 3183.0, 5210.0, 3315.0, 4572.0, 9228.0, 2883.0, 2908.0, 8450.0, 1066.0, 4447.0, 3269.0, 1325.0, 1370.0, 10824.0, 7722.0, 2133.0, 3385.0, 4470.0, 5276.0, 3520.0, 1780.0, 1635.0, 3566.0, 3813.0, 2476.0, 1847.0, 764.4920396285532, 360.0072119694801, 288.7786874559449, 279.9545087106031, 276.82710593618276, 300.6405295236289, 251.1069816906214, 237.87194703236202, 214.8202362370836, 189.97006461326302, 182.56339310438975, 182.22743885356354, 171.14214585294243, 156.8221030401366, 152.8787659114076, 143.60237409929903, 281.2524605073849, 255.7239943689058, 138.6193953343126, 138.51367111604205, 136.97381495240137, 136.29543090887935, 120.92121390738914, 120.92129361615312, 107.7497342656635, 101.9351988826624, 100.88017178664069, 100.53148202464378, 89.26289741996787, 271.20708084122384, 292.7891195604777, 2908.559502217694, 370.18162209453396, 209.4253348552559, 748.0821432533517, 1349.8801745944013, 573.9591321385432, 3385.448971575117, 394.0734360272942, 420.009770955946, 302.00308085655416, 1382.6778736808856, 892.0223319276729, 1349.0376678705973, 4207.187403368361, 1011.7593067907071, 2946.5504387787696, 9228.744206422012, 2087.97791622443, 495.96911087959836, 3566.1971596963763, 1847.6222953566407, 4470.876271218131, 2072.7644726462086, 1485.7493983358427, 3471.2790456946036, 5276.043784640143, 1431.6635740148718, 3540.978339800268, 866.6148434073347, 2511.4514592628325, 1136.753047443451, 2398.475772623214, 940.1794545637567, 1157.790088762164, 1134.750121500472, 3813.6676500401773, 5655.835105933737, 2313.1391968265307, 8450.71192563764, 2883.1740794387697, 2457.2312444386735, 10824.35938080093, 3070.3118307991263, 4151.148178881907, 1336.8581633741353, 7722.544569295686, 1094.1743834837898, 408.24661234930437, 366.7720656851586, 349.05553199157134, 308.0689760710206, 303.781782126356, 270.2326540432572, 265.764949200656, 263.1476854259508, 241.7308201144745, 238.18259017375937, 230.49937929300765, 224.87363398835606, 222.17920619375644, 172.18979930154475, 239.47077311728782, 166.5658403231106, 162.2528776347316, 156.89997691733984, 150.79201219815045, 150.37184420208737, 144.1289184687521, 143.44658690233038, 142.38786558550967, 138.39281316361522, 137.5364352678014, 130.40911267350194, 123.32783559040332, 115.72541944004202, 113.535900592356, 585.5058557186386, 284.6944581928003, 201.92161115384758, 7817.9568959073085, 488.71274528471844, 181.06401925619363, 1417.6993672599374, 2126.3261350412895, 661.6293335254624, 482.44020894752964, 237.92092068972542, 1118.2613973112834, 1202.2780983060497, 684.3104787411932, 1003.624402296341, 2375.440532366688, 465.0480765922983, 8450.71192563764, 568.2670257707251, 796.8097731559434, 593.8998277794119, 4043.6099670919816, 740.4694226359096, 487.21397523547506, 1796.2878799666582, 445.1348467166709, 589.245444561486, 1371.5266102618555, 784.4466999436129, 3520.4378135826464, 840.4215622711823, 4470.876271218131, 2398.475772623214, 4151.148178881907, 1341.1461498867068, 1211.3519940995698, 4572.946648741285, 4207.187403368361, 10824.35938080093, 3070.3118307991263, 312.88479463620274, 291.01101056817873, 257.2511589532923, 213.92436433633512, 179.52319486334764, 177.84652655253632, 149.59599301519697, 143.08482886297404, 141.34147899523674, 138.3755731381646, 128.36723681446938, 126.21920001817783, 124.43095959530078, 118.37234484973304, 115.98082815420449, 115.39669017857135, 111.03639872663348, 107.5714002302274, 107.45601166053076, 102.29492400658874, 95.82552430033903, 94.26195481852187, 89.43038334549003, 88.8753081310868, 88.57085501815251, 87.34280335185329, 83.93581204448904, 83.26789482826895, 82.8238939145949, 79.18435758047073, 2133.7928764980757, 333.50460487356025, 157.02333277257085, 944.4892295915724, 15123.310123822896, 1307.5636402748655, 4572.946648741285, 233.67269753312337, 1576.4229343110378, 375.1860389803356, 1780.3764261858025, 627.1746134181869, 3153.393778129955, 3520.4378135826464, 1009.4354429451769, 1754.9400124517988, 678.8645229371808, 731.7857124833886, 505.2643942509961, 252.41518145902162, 2457.2312444386735, 9228.744206422012, 514.6893711678669, 1526.4575772141063, 373.8380459763932, 7722.544569295686, 1066.2110459675248, 10824.35938080093, 3566.1971596963763, 4151.148178881907, 4043.6099670919816, 3540.978339800268, 1513.3137678615724, 8450.71192563764, 2476.6678822208555, 7817.9568959073085, 3813.6676500401773, 5655.835105933737, 845.1666150991088, 669.4734273117214, 510.28333600037234, 446.90687265133363, 415.67427560433117, 333.62058583337256, 290.5251762949615, 280.7461122509023, 221.87794654239656, 219.49633615788457, 209.47438442258556, 173.9329286870903, 170.83610870334658, 149.80814776406757, 148.68983472638038, 140.7162004928126, 139.06392919683316, 136.96437664658853, 134.06847815076068, 133.07798544104944, 123.0424407221705, 122.72476812399884, 115.56656998235329, 113.4755892297261, 112.93806296593768, 110.43624565280852, 108.01947875503357, 107.65206940515498, 105.9977965617427, 101.09015636263841, 607.2683488607272, 1635.3127780569332, 367.4245439792486, 191.73105296146173, 364.8184773137787, 298.66302635620093, 277.59993474650537, 544.2574021555164, 401.28213702884057, 487.1030837136697, 5210.766057247995, 550.5310316092656, 281.5282807140673, 423.96039186993613, 430.43410153166093, 4447.944424386099, 2476.6678822208555, 413.78863075655454, 637.8189796189598, 324.01773974934474, 608.634421413426, 858.3869968720087, 7722.544569295686, 1356.6944235270548, 1754.9400124517988, 1944.1253042951887, 5655.835105933737, 1927.7590901725712, 10824.35938080093, 15123.310123822896, 5276.043784640143, 1000.9665400652724, 730.3857471775129, 4151.148178881907, 2010.3298555872016, 1270.1143551045982, 245.50876838613655, 202.51550422918575, 188.8560631318256, 157.14612517164963, 134.55871415100196, 133.18399046823416, 132.24621188728403, 130.20246365731597, 128.07263237697114, 124.63704319204284, 121.98661649848638, 121.56731849384184, 115.77272970810904, 114.26103678282506, 112.87180733028643, 110.82584898359225, 106.85805901773548, 106.87008626534339, 105.35474800934064, 96.99794013790192, 95.26811490385626, 93.55039972259344, 92.87027021223723, 91.16831432166462, 90.63488287241452, 88.22623798804574, 88.07448954782886, 87.45711381753499, 87.25206917195555, 86.8931009492217, 177.80816756677834, 3269.939527982905, 351.48866160203784, 526.4229975276663, 1125.7133374324037, 976.6081418576293, 2010.3298555872016, 465.46321225488816, 968.9451066532454, 822.3198147816373, 1325.9426922384891, 733.7967600561128, 347.72294068641355, 212.27062884055024, 906.5129593294133, 5210.766057247995, 360.3786791494083, 521.8583022714764, 7722.544569295686, 1356.6944235270548, 223.08705750836228, 1066.2110459675248, 663.5420300680697, 446.605130663103, 1927.7590901725712, 3070.3118307991263, 1126.2020632401575, 1270.1143551045982, 756.887993429255, 5655.835105933737, 10824.35938080093, 1429.6848531695043, 4447.944424386099, 2883.1740794387697, 1114.6948447034, 1655.9948090093435, 4151.148178881907, 3183.0708395449665, 329.867834942323, 187.26218568391707, 163.09222747098985, 161.34814805179087, 158.33126995953887, 121.45430076892306, 112.97650051641742, 111.66319278070036, 111.13399461633524, 110.99300779809121, 105.45631078284923, 103.71042509965524, 101.85998423996627, 99.43304255733652, 94.61595546422181, 94.49635532379745, 94.49635532379745, 92.44158611659492, 91.4337400314441, 89.17674840029355, 87.35699517718119, 86.17914664052401, 83.41364347760926, 83.13606247137909, 82.8873878290378, 81.80428087017808, 81.46517576550895, 80.92461475955982, 80.51860502826126, 3315.2362477878664, 981.2638745339744, 831.9126282376336, 566.9479021957171, 131.1787528860439, 797.0203265344128, 208.70925225510462, 693.1380249797986, 674.6418252215755, 154.92209302457084, 416.4359661011546, 599.6517095808626, 10824.35938080093, 4447.944424386099, 1341.1461498867068, 480.36504929460136, 1000.9665400652724, 409.263108756167, 1487.194615162899, 3813.6676500401773, 989.8687910607536, 528.9753797196037, 761.781699193098, 365.6024469922883, 1202.2835928918519, 7722.544569295686, 1325.9426922384891, 3269.939527982905, 5655.835105933737, 2476.6678822208555, 4043.6099670919816, 2946.5504387787696, 15123.310123822896, 4151.148178881907, 5276.043784640143, 2593.90988463495, 237.43284460182588, 215.68547429785127, 180.75055854413318, 180.15660270860465, 144.08925958498162, 113.25040145582267, 94.46937932301526, 86.02984528969738, 84.1712231446331, 83.46711140305861, 79.53644435842081, 76.02683900470512, 72.78173347438972, 72.7470428840706, 71.5416016599199, 67.99508133867829, 61.79866644910695, 61.52291060929314, 61.07615747077186, 59.94746112846956, 59.921228217227814, 59.82865172341093, 57.22601610560816, 52.458207404707835, 49.621711752921875, 48.967068372648036, 45.76808783613217, 45.19405515426496, 45.079396770803186, 314.6486278596835, 368.20826395697213, 687.9535422555174, 302.9389116603363, 291.7316795350027, 224.7998985416226, 1370.9643720400234, 5276.043784640143, 4470.876271218131, 968.2877513847538, 10824.35938080093, 733.7967600561128, 1847.6222953566407, 7817.9568959073085, 1198.6633320464562, 1325.613247961182, 103.39013311624088, 86.75679487888551, 64.74887154063805, 50.559695365449045, 44.65470962126124, 44.475106346990664, 43.457258360924676, 41.20113788929715, 41.01402391415896, 39.988868934653645, 5555.831468487845, 34.30124577236204, 33.430950845999455, 33.00815230058449, 32.9871014470878, 32.55996155273555, 31.73747703361348, 28.38061945235261, 28.38061945235261, 27.484692971328418, 26.710231607056762, 25.014184680483385, 23.432309840681732, 21.316998608996947, 21.163072472372924, 19.843030232456922, 19.51152172720211, 19.17163284362603, 19.09228910172537, 1370.9643720400234, 492.34605105703844, 238.8129536118629, 86.38555914927238, 152.36100799860571, 52.45954466037462, 158.2850169662261, 1780.3764261858025, 7817.9568959073085, 115.47633838059174, 222.39808626439137, 383.9039721838496, 517.3781926407006, 8450.71192563764, 3520.4378135826464, 1417.6993672599374, 1126.2020632401575, 3540.978339800268, 15123.310123822896, 1635.3127780569332, 371.7484474037477, 3813.6676500401773, 2883.1740794387697, 2946.5504387787696, 363.12302826755047, 179.09274835699367, 118.55413054306145, 110.26636875771301, 101.85478174402576, 100.77123059822391, 86.59625209154314, 70.19682201303563, 68.0159589194944, 64.17037381469017, 61.61906136287267, 60.386029655087206, 57.91843720830533, 56.1878326205478, 53.901433020187305, 50.918967956501895, 45.81043028982118, 45.65085222313894, 40.64612194379262, 39.67767556203521, 37.84368569948423, 36.90055667911892, 34.58507560168624, 34.21353934856106, 34.21353934856106, 34.21353934856106, 33.661302203930354, 32.60157809391859, 32.47994904508479, 29.89439393401887, 29.201950314772315, 264.1914062993047, 285.6727097967537, 78.49398656814736, 95.525047951295, 242.15905675721282, 118.39926861546301, 131.44939641015023, 610.7234202656867, 138.8315863133837, 2883.1740794387697, 120.84247290611603, 206.6544671347081, 220.24964667628808, 234.37216658559777, 701.6179836988725, 430.43410153166093, 304.41805249819515, 2908.559502217694, 162.1186473147297, 165.98527319233077, 125.87608821710788, 77.6619862190236, 62.57641466017207, 60.63444179382028, 56.39325638153102, 43.648090742117056, 33.06125017068361, 29.64040686344611, 25.818572983827405, 25.818572983827405, 25.702626018888964, 24.09472988799833, 23.327860045176166, 20.459365595416635, 19.539455644906297, 19.46589053196956, 17.81891762620168, 16.517543651042025, 16.378662633193485, 15.804860306262885, 14.721458779605472, 14.40229018642728, 13.628752095215441, 12.700539155279676, 12.514394511223323, 12.442152639339943, 11.002566555363929, 9.73174753606122, 9.368178851642607, 1066.1161007924957, 136.35416008432725, 623.4926634318965, 2908.559502217694, 670.6438007264328, 1847.6222953566407, 3385.448971575117, 7817.9568959073085], \"Category\": [\"Default\", \"Default\", \"Default\", \"Default\", \"Default\", \"Default\", \"Default\", \"Default\", \"Default\", \"Default\", \"Default\", \"Default\", \"Default\", \"Default\", \"Default\", \"Default\", \"Default\", \"Default\", \"Default\", \"Default\", \"Default\", \"Default\", \"Default\", \"Default\", \"Default\", \"Default\", \"Default\", \"Default\", \"Default\", \"Default\", \"Topic1\", \"Topic1\", \"Topic1\", \"Topic1\", \"Topic1\", \"Topic1\", \"Topic1\", \"Topic1\", \"Topic1\", \"Topic1\", \"Topic1\", \"Topic1\", \"Topic1\", \"Topic1\", \"Topic1\", \"Topic1\", \"Topic1\", \"Topic1\", \"Topic1\", \"Topic1\", \"Topic1\", \"Topic1\", \"Topic1\", \"Topic1\", \"Topic1\", \"Topic1\", \"Topic1\", \"Topic1\", \"Topic1\", \"Topic1\", \"Topic1\", \"Topic1\", \"Topic1\", \"Topic1\", \"Topic1\", \"Topic1\", \"Topic1\", \"Topic1\", \"Topic1\", \"Topic1\", \"Topic1\", \"Topic1\", \"Topic1\", \"Topic1\", \"Topic1\", \"Topic1\", \"Topic1\", \"Topic1\", \"Topic1\", \"Topic1\", \"Topic1\", \"Topic1\", \"Topic1\", \"Topic1\", \"Topic1\", \"Topic1\", \"Topic1\", \"Topic1\", \"Topic1\", \"Topic1\", \"Topic1\", \"Topic1\", \"Topic1\", \"Topic1\", \"Topic1\", \"Topic1\", \"Topic1\", \"Topic1\", \"Topic1\", \"Topic1\", \"Topic1\", \"Topic1\", \"Topic1\", \"Topic1\", \"Topic1\", \"Topic1\", \"Topic1\", \"Topic2\", \"Topic2\", \"Topic2\", \"Topic2\", \"Topic2\", \"Topic2\", \"Topic2\", \"Topic2\", \"Topic2\", \"Topic2\", \"Topic2\", \"Topic2\", \"Topic2\", \"Topic2\", \"Topic2\", \"Topic2\", \"Topic2\", \"Topic2\", \"Topic2\", \"Topic2\", \"Topic2\", \"Topic2\", \"Topic2\", \"Topic2\", \"Topic2\", \"Topic2\", \"Topic2\", \"Topic2\", \"Topic2\", \"Topic2\", \"Topic2\", \"Topic2\", \"Topic2\", \"Topic2\", \"Topic2\", \"Topic2\", \"Topic2\", \"Topic2\", \"Topic2\", \"Topic2\", \"Topic2\", \"Topic2\", \"Topic2\", \"Topic2\", \"Topic2\", \"Topic2\", \"Topic2\", \"Topic2\", \"Topic2\", \"Topic2\", \"Topic2\", \"Topic2\", \"Topic2\", \"Topic2\", \"Topic2\", \"Topic2\", \"Topic2\", \"Topic2\", \"Topic2\", \"Topic2\", \"Topic2\", \"Topic2\", \"Topic2\", \"Topic2\", \"Topic2\", \"Topic2\", \"Topic2\", \"Topic2\", \"Topic2\", \"Topic2\", \"Topic3\", \"Topic3\", \"Topic3\", \"Topic3\", \"Topic3\", \"Topic3\", \"Topic3\", \"Topic3\", \"Topic3\", \"Topic3\", \"Topic3\", \"Topic3\", \"Topic3\", \"Topic3\", \"Topic3\", \"Topic3\", \"Topic3\", \"Topic3\", \"Topic3\", \"Topic3\", \"Topic3\", \"Topic3\", \"Topic3\", \"Topic3\", \"Topic3\", \"Topic3\", \"Topic3\", \"Topic3\", \"Topic3\", \"Topic3\", \"Topic3\", \"Topic3\", \"Topic3\", \"Topic3\", \"Topic3\", \"Topic3\", \"Topic3\", \"Topic3\", \"Topic3\", \"Topic3\", \"Topic3\", \"Topic3\", \"Topic3\", \"Topic3\", \"Topic3\", \"Topic3\", \"Topic3\", \"Topic3\", \"Topic3\", \"Topic3\", \"Topic3\", \"Topic3\", \"Topic3\", \"Topic3\", \"Topic3\", \"Topic3\", \"Topic3\", \"Topic3\", \"Topic3\", \"Topic3\", \"Topic3\", \"Topic3\", \"Topic3\", \"Topic3\", \"Topic3\", \"Topic3\", \"Topic3\", \"Topic3\", \"Topic4\", \"Topic4\", \"Topic4\", \"Topic4\", \"Topic4\", \"Topic4\", \"Topic4\", \"Topic4\", \"Topic4\", \"Topic4\", \"Topic4\", \"Topic4\", \"Topic4\", \"Topic4\", \"Topic4\", \"Topic4\", \"Topic4\", \"Topic4\", \"Topic4\", \"Topic4\", \"Topic4\", \"Topic4\", \"Topic4\", \"Topic4\", \"Topic4\", \"Topic4\", \"Topic4\", \"Topic4\", \"Topic4\", \"Topic4\", \"Topic4\", \"Topic4\", \"Topic4\", \"Topic4\", \"Topic4\", \"Topic4\", \"Topic4\", \"Topic4\", \"Topic4\", \"Topic4\", \"Topic4\", \"Topic4\", \"Topic4\", \"Topic4\", \"Topic4\", \"Topic4\", \"Topic4\", \"Topic4\", \"Topic4\", \"Topic4\", \"Topic4\", \"Topic4\", \"Topic4\", \"Topic4\", \"Topic4\", \"Topic4\", \"Topic4\", \"Topic4\", \"Topic4\", \"Topic4\", \"Topic4\", \"Topic4\", \"Topic4\", \"Topic4\", \"Topic4\", \"Topic4\", \"Topic5\", \"Topic5\", \"Topic5\", \"Topic5\", \"Topic5\", \"Topic5\", \"Topic5\", \"Topic5\", \"Topic5\", \"Topic5\", \"Topic5\", \"Topic5\", \"Topic5\", \"Topic5\", \"Topic5\", \"Topic5\", \"Topic5\", \"Topic5\", \"Topic5\", \"Topic5\", \"Topic5\", \"Topic5\", \"Topic5\", \"Topic5\", \"Topic5\", \"Topic5\", \"Topic5\", \"Topic5\", \"Topic5\", \"Topic5\", \"Topic5\", \"Topic5\", \"Topic5\", \"Topic5\", \"Topic5\", \"Topic5\", \"Topic5\", \"Topic5\", \"Topic5\", \"Topic5\", \"Topic5\", \"Topic5\", \"Topic5\", \"Topic5\", \"Topic5\", \"Topic5\", \"Topic5\", \"Topic5\", \"Topic5\", \"Topic5\", \"Topic5\", \"Topic5\", \"Topic5\", \"Topic5\", \"Topic5\", \"Topic5\", \"Topic5\", \"Topic5\", \"Topic5\", \"Topic5\", \"Topic5\", \"Topic5\", \"Topic5\", \"Topic5\", \"Topic5\", \"Topic5\", \"Topic5\", \"Topic6\", \"Topic6\", \"Topic6\", \"Topic6\", \"Topic6\", \"Topic6\", \"Topic6\", \"Topic6\", \"Topic6\", \"Topic6\", \"Topic6\", \"Topic6\", \"Topic6\", \"Topic6\", \"Topic6\", \"Topic6\", \"Topic6\", \"Topic6\", \"Topic6\", \"Topic6\", \"Topic6\", \"Topic6\", \"Topic6\", \"Topic6\", \"Topic6\", \"Topic6\", \"Topic6\", \"Topic6\", \"Topic6\", \"Topic6\", \"Topic6\", \"Topic6\", \"Topic6\", \"Topic6\", \"Topic6\", \"Topic6\", \"Topic6\", \"Topic6\", \"Topic6\", \"Topic6\", \"Topic6\", \"Topic6\", \"Topic6\", \"Topic6\", \"Topic6\", \"Topic6\", \"Topic6\", \"Topic6\", \"Topic6\", \"Topic6\", \"Topic6\", \"Topic6\", \"Topic6\", \"Topic6\", \"Topic6\", \"Topic6\", \"Topic6\", \"Topic6\", \"Topic6\", \"Topic6\", \"Topic6\", \"Topic6\", \"Topic6\", \"Topic6\", \"Topic6\", \"Topic7\", \"Topic7\", \"Topic7\", \"Topic7\", \"Topic7\", \"Topic7\", \"Topic7\", \"Topic7\", \"Topic7\", \"Topic7\", \"Topic7\", \"Topic7\", \"Topic7\", \"Topic7\", \"Topic7\", \"Topic7\", \"Topic7\", \"Topic7\", \"Topic7\", \"Topic7\", \"Topic7\", \"Topic7\", \"Topic7\", \"Topic7\", \"Topic7\", \"Topic7\", \"Topic7\", \"Topic7\", \"Topic7\", \"Topic7\", \"Topic7\", \"Topic7\", \"Topic7\", \"Topic7\", \"Topic7\", \"Topic7\", \"Topic7\", \"Topic7\", \"Topic7\", \"Topic7\", \"Topic7\", \"Topic7\", \"Topic7\", \"Topic7\", \"Topic7\", \"Topic8\", \"Topic8\", \"Topic8\", \"Topic8\", \"Topic8\", \"Topic8\", \"Topic8\", \"Topic8\", \"Topic8\", \"Topic8\", \"Topic8\", \"Topic8\", \"Topic8\", \"Topic8\", \"Topic8\", \"Topic8\", \"Topic8\", \"Topic8\", \"Topic8\", \"Topic8\", \"Topic8\", \"Topic8\", \"Topic8\", \"Topic8\", \"Topic8\", \"Topic8\", \"Topic8\", \"Topic8\", \"Topic8\", \"Topic8\", \"Topic8\", \"Topic8\", \"Topic8\", \"Topic8\", \"Topic8\", \"Topic8\", \"Topic8\", \"Topic8\", \"Topic8\", \"Topic8\", \"Topic8\", \"Topic8\", \"Topic8\", \"Topic8\", \"Topic8\", \"Topic8\", \"Topic8\", \"Topic8\", \"Topic8\", \"Topic8\", \"Topic8\", \"Topic8\", \"Topic8\", \"Topic8\", \"Topic8\", \"Topic9\", \"Topic9\", \"Topic9\", \"Topic9\", \"Topic9\", \"Topic9\", \"Topic9\", \"Topic9\", \"Topic9\", \"Topic9\", \"Topic9\", \"Topic9\", \"Topic9\", \"Topic9\", \"Topic9\", \"Topic9\", \"Topic9\", \"Topic9\", \"Topic9\", \"Topic9\", \"Topic9\", \"Topic9\", \"Topic9\", \"Topic9\", \"Topic9\", \"Topic9\", \"Topic9\", \"Topic9\", \"Topic9\", \"Topic9\", \"Topic9\", \"Topic9\", \"Topic9\", \"Topic9\", \"Topic9\", \"Topic9\", \"Topic9\", \"Topic9\", \"Topic9\", \"Topic9\", \"Topic9\", \"Topic9\", \"Topic9\", \"Topic9\", \"Topic9\", \"Topic9\", \"Topic9\", \"Topic9\", \"Topic9\", \"Topic10\", \"Topic10\", \"Topic10\", \"Topic10\", \"Topic10\", \"Topic10\", \"Topic10\", \"Topic10\", \"Topic10\", \"Topic10\", \"Topic10\", \"Topic10\", \"Topic10\", \"Topic10\", \"Topic10\", \"Topic10\", \"Topic10\", \"Topic10\", \"Topic10\", \"Topic10\", \"Topic10\", \"Topic10\", \"Topic10\", \"Topic10\", \"Topic10\", \"Topic10\", \"Topic10\", \"Topic10\", \"Topic10\", \"Topic10\", \"Topic10\", \"Topic10\", \"Topic10\", \"Topic10\", \"Topic10\", \"Topic10\", \"Topic10\", \"Topic10\"], \"logprob\": [30.0, 29.0, 28.0, 27.0, 26.0, 25.0, 24.0, 23.0, 22.0, 21.0, 20.0, 19.0, 18.0, 17.0, 16.0, 15.0, 14.0, 13.0, 12.0, 11.0, 10.0, 9.0, 8.0, 7.0, 6.0, 5.0, 4.0, 3.0, 2.0, 1.0, -5.2763, -6.0307, -6.2517, -6.2829, -6.2941, -6.2118, -6.392, -6.4464, -6.5486, -6.6721, -6.712, -6.7139, -6.777, -6.8648, -6.8904, -6.9534, -6.2812, -6.3765, -6.9889, -6.9897, -7.0009, -7.0059, -7.1264, -7.1264, -7.2427, -7.2986, -7.3091, -7.3126, -7.4326, -6.3218, -6.2504, -3.9784, -6.0222, -6.5923, -5.3494, -4.7852, -5.6161, -3.9199, -5.9847, -5.9247, -6.2428, -4.8031, -5.2392, -4.8746, -3.8311, -5.1455, -4.1784, -3.1559, -4.4965, -5.8032, -4.0581, -4.6488, -3.8863, -4.5598, -4.8657, -4.1511, -3.8093, -4.9115, -4.1584, -5.3394, -4.491, -5.1382, -4.5507, -5.2935, -5.1673, -5.1881, -4.3058, -4.0627, -4.6966, -3.8459, -4.585, -4.6967, -3.9078, -4.6344, -4.7097, -5.0899, -4.8062, -4.5346, -5.5218, -5.6292, -5.6788, -5.8041, -5.8181, -5.9355, -5.9522, -5.9622, -6.0474, -6.0622, -6.0951, -6.1199, -6.132, -6.388, -6.0583, -6.4215, -6.4478, -6.4815, -6.5215, -6.5243, -6.5669, -6.5717, -6.5792, -6.6078, -6.614, -6.6676, -6.7238, -6.7879, -6.8072, -5.1871, -5.898, -6.2437, -2.7212, -5.4032, -6.3516, -4.4484, -4.0837, -5.1703, -5.459, -6.1069, -4.7388, -4.6847, -5.1819, -4.8797, -4.1668, -5.5448, -3.1842, -5.4013, -5.1536, -5.3956, -4.0052, -5.2439, -5.5534, -4.6463, -5.6305, -5.4662, -4.9814, -5.3143, -4.5513, -5.3121, -4.7062, -4.9926, -4.861, -5.2574, -5.3126, -5.1219, -5.1523, -5.0586, -5.2667, -5.6219, -5.6946, -5.8183, -6.0035, -6.1795, -6.189, -6.3629, -6.4076, -6.4199, -6.4413, -6.5169, -6.5339, -6.5482, -6.5985, -6.6191, -6.6242, -6.663, -6.6949, -6.696, -6.7457, -6.8116, -6.8282, -6.8813, -6.8876, -6.891, -6.9051, -6.9453, -6.9534, -6.9588, -7.0042, -3.7457, -5.5878, -6.3287, -4.5726, -1.8815, -4.304, -3.1076, -6.0044, -4.3027, -5.617, -4.3001, -5.2212, -3.9759, -3.8933, -4.9292, -4.5086, -5.2542, -5.2271, -5.5302, -6.0323, -4.4658, -3.5692, -5.5464, -4.8253, -5.7705, -3.9272, -5.1748, -3.8862, -4.6744, -4.7166, -4.7743, -4.8648, -5.2202, -4.7158, -5.0727, -4.9516, -5.2106, -5.2583, -4.5324, -4.7657, -5.0376, -5.1705, -5.2431, -5.4635, -5.6022, -5.6366, -5.8727, -5.8836, -5.9305, -6.1173, -6.1354, -6.2674, -6.275, -6.3304, -6.3423, -6.3576, -6.3791, -6.3866, -6.4655, -6.4682, -6.5287, -6.5471, -6.5519, -6.5745, -6.5968, -6.6002, -6.6158, -6.6636, -4.8823, -3.932, -5.3971, -6.0375, -5.447, -5.6523, -5.7226, -5.1143, -5.3991, -5.229, -3.1437, -5.1309, -5.7408, -5.3968, -5.3931, -3.4903, -3.9722, -5.4398, -5.1645, -5.6621, -5.2231, -5.0058, -3.6186, -4.7635, -4.715, -4.6653, -4.1357, -4.7104, -3.9391, -3.9677, -4.5115, -5.1917, -5.2763, -5.0198, -5.178, -5.284, -5.5917, -5.785, -5.8551, -6.0399, -6.196, -6.2064, -6.2135, -6.2292, -6.2458, -6.2731, -6.2948, -6.2983, -6.3475, -6.3607, -6.373, -6.3915, -6.4282, -6.4281, -6.4425, -6.5259, -6.544, -6.5624, -6.5698, -6.5884, -6.5944, -6.6216, -6.6233, -6.6304, -6.6328, -6.637, -5.9382, -3.2508, -5.3516, -5.0628, -4.451, -4.594, -3.9954, -5.233, -4.6647, -4.8367, -4.5062, -4.9833, -5.5577, -5.9232, -4.8674, -3.6276, -5.5775, -5.335, -3.6116, -4.7324, -5.9092, -4.9994, -5.285, -5.5309, -4.7534, -4.5269, -5.1497, -5.1248, -5.3722, -4.5946, -4.4101, -5.141, -4.7609, -5.0322, -5.3063, -5.242, -5.1252, -2.9229, -5.1911, -5.7593, -5.8982, -5.909, -5.928, -6.1948, -6.2677, -6.2795, -6.2843, -6.2856, -6.3372, -6.354, -6.3722, -6.3965, -6.4466, -6.4479, -6.4479, -6.4701, -6.4811, -6.5064, -6.5272, -6.5409, -6.5739, -6.5773, -6.5803, -6.5936, -6.5978, -6.6045, -6.6096, -2.9627, -4.2164, -4.4457, -4.8387, -6.174, -4.7016, -5.8184, -4.8686, -4.9182, -6.0924, -5.3642, -5.1104, -3.0314, -3.6792, -4.544, -5.2824, -4.8122, -5.4238, -4.5891, -3.9817, -5.0019, -5.3743, -5.1655, -5.6059, -5.0546, -4.1597, -5.0568, -4.6934, -4.5283, -4.9392, -5.0999, -5.1806, -5.0607, -5.2591, -5.2544, -1.838, -4.2324, -4.3288, -4.5063, -4.5096, -4.7343, -4.9768, -5.1596, -5.2541, -5.2762, -5.2847, -5.3335, -5.3791, -5.4232, -5.4237, -5.4406, -5.4921, -5.589, -5.5935, -5.6009, -5.6198, -5.6203, -5.6219, -5.667, -5.7554, -5.812, -5.8255, -5.8943, -5.9072, -5.9098, -3.9947, -4.2671, -4.1438, -4.7779, -4.8964, -5.216, -4.5989, -4.2346, -4.4453, -4.8654, -4.2657, -4.9758, -4.9312, -4.6614, -5.2681, -2.4073, -4.9663, -5.1434, -5.4394, -5.6907, -5.8172, -5.8213, -5.845, -5.8994, -5.904, -5.9299, -0.9983, -6.0871, -6.1135, -6.1266, -6.1272, -6.1406, -6.1669, -6.2821, -6.2821, -6.3152, -6.3448, -6.4127, -6.481, -6.579, -6.5866, -6.6539, -6.6716, -6.6898, -6.6942, -2.5939, -3.8123, -4.7092, -5.5259, -5.2657, -6.0528, -5.4487, -4.1642, -3.7871, -5.738, -5.4789, -5.2703, -5.2833, -4.4079, -4.7914, -5.1676, -5.2767, -5.0614, -4.7826, -5.3809, -5.6977, -5.6697, -5.6929, -5.7243, -5.8136, -3.8855, -4.3006, -4.3736, -4.4536, -4.4644, -4.6175, -4.8298, -4.8618, -4.9208, -4.9619, -4.9825, -5.0248, -5.0556, -5.0978, -5.1558, -5.2634, -5.267, -5.3855, -5.4102, -5.4586, -5.4845, -5.5509, -5.562, -5.562, -5.562, -5.5787, -5.6116, -5.6154, -5.7008, -5.7249, -3.6298, -3.5796, -4.9357, -4.8747, -4.3547, -4.8148, -4.7722, -3.9445, -4.783, -3.1932, -4.9043, -4.7171, -4.7408, -4.7622, -4.5261, -4.7831, -4.8885, -4.7024, -4.9894, -3.1343, -3.4126, -3.9, -4.1188, -4.1508, -4.2245, -4.4854, -4.77, -4.8825, -5.0252, -5.0252, -5.0298, -5.097, -5.1305, -5.2674, -5.3156, -5.3195, -5.4124, -5.4925, -5.5015, -5.5392, -5.6148, -5.6381, -5.697, -5.7728, -5.7887, -5.7949, -5.9283, -6.0627, -6.1047, -1.4139, -4.23, -4.826, -4.7528, -5.1708, -5.2688, -5.2919, -5.4142], \"loglift\": [30.0, 29.0, 28.0, 27.0, 26.0, 25.0, 24.0, 23.0, 22.0, 21.0, 20.0, 19.0, 18.0, 17.0, 16.0, 15.0, 14.0, 13.0, 12.0, 11.0, 10.0, 9.0, 8.0, 7.0, 6.0, 5.0, 4.0, 3.0, 2.0, 1.0, 1.3625, 1.3612, 1.3606, 1.3605, 1.3605, 1.3603, 1.3602, 1.3599, 1.3596, 1.3591, 1.3589, 1.3589, 1.3586, 1.3581, 1.358, 1.3576, 1.3576, 1.3575, 1.3574, 1.3574, 1.3573, 1.3573, 1.3565, 1.3564, 1.3556, 1.3551, 1.355, 1.355, 1.3539, 1.3533, 1.3481, 1.3242, 1.3418, 1.3414, 1.3112, 1.285, 1.3093, 1.2309, 1.3168, 1.3131, 1.3248, 1.2431, 1.2453, 1.1963, 1.1024, 1.2131, 1.1112, 0.992, 1.1376, 1.2683, 1.0407, 1.1075, 0.9864, 1.0815, 1.1087, 0.9747, 0.8978, 1.1, 0.9475, 1.174, 0.9584, 1.1039, 0.9448, 1.1385, 1.0565, 1.0558, 0.7259, 0.5749, 0.8351, 0.3901, 0.7263, 0.7746, 0.0806, 0.6141, 0.2372, 0.99, -0.48, 1.7457, 1.7443, 1.7441, 1.744, 1.7436, 1.7436, 1.7432, 1.7432, 1.7431, 1.7428, 1.7428, 1.7427, 1.7426, 1.7425, 1.7414, 1.7413, 1.7412, 1.7411, 1.7409, 1.7407, 1.7406, 1.7404, 1.7404, 1.7403, 1.7401, 1.7401, 1.7398, 1.7394, 1.7389, 1.7388, 1.7184, 1.7286, 1.7265, 1.5926, 1.683, 1.7276, 1.5729, 1.5322, 1.613, 1.6402, 1.6992, 1.5197, 1.5014, 1.5677, 1.487, 1.3383, 1.5911, 1.0518, 1.5341, 1.4438, 1.4957, 0.968, 1.4268, 1.5359, 1.1382, 1.5491, 1.4329, 1.0729, 1.2987, 0.5603, 1.232, 0.1665, 0.5029, 0.0859, 0.8194, 0.8659, -0.2718, -0.2188, -1.0702, -0.0182, 1.9103, 1.9101, 1.9097, 1.9089, 1.9082, 1.9081, 1.9072, 1.907, 1.9069, 1.9068, 1.9063, 1.9062, 1.9061, 1.9057, 1.9055, 1.9055, 1.9052, 1.9049, 1.9049, 1.9045, 1.9039, 1.9038, 1.9033, 1.9032, 1.9032, 1.903, 1.9026, 1.9025, 1.9025, 1.902, 1.8667, 1.8806, 1.8929, 1.8548, 1.7725, 1.7981, 1.7425, 1.8197, 1.6124, 1.7336, 1.4934, 1.6156, 1.2459, 1.2184, 1.4317, 1.2992, 1.5034, 1.4554, 1.5227, 1.7147, 1.0054, 0.5787, 1.4881, 1.122, 1.5837, 0.399, 1.1313, 0.1023, 0.4244, 0.2303, 0.1988, 0.2411, 0.7358, -0.4798, 0.3907, -0.6378, -0.1789, -0.6207, 2.0061, 2.0058, 2.0054, 2.0052, 2.005, 2.0045, 2.0041, 2.004, 2.0032, 2.0031, 2.0029, 2.0021, 2.002, 2.0012, 2.0012, 2.0009, 2.0008, 2.0007, 2.0005, 2.0005, 2.0, 1.9999, 1.9995, 1.9993, 1.9993, 1.9991, 1.9989, 1.9989, 1.9988, 1.9984, 1.9868, 1.9465, 1.9744, 1.9844, 1.9317, 1.9264, 1.9292, 1.8643, 1.8843, 1.8606, 1.5759, 1.8363, 1.897, 1.8316, 1.8201, 1.3875, 1.4911, 1.8129, 1.6555, 1.8352, 1.6437, 1.5171, 0.7075, 1.3017, 1.0928, 1.0402, 0.5019, 1.0035, 0.0494, -0.3136, 0.1956, 1.1776, 1.4082, -0.0729, 0.494, 0.8472, 2.183, 2.1822, 2.1819, 2.181, 2.18, 2.1799, 2.1799, 2.1798, 2.1797, 2.1795, 2.1793, 2.1793, 2.1789, 2.1788, 2.1787, 2.1786, 2.1783, 2.1783, 2.1782, 2.1775, 2.1773, 2.1771, 2.1771, 2.1769, 2.1768, 2.1765, 2.1765, 2.1765, 2.1764, 2.1764, 2.1591, 1.9347, 2.0642, 1.9491, 1.8009, 1.7999, 1.6766, 1.902, 1.7371, 1.7292, 1.582, 1.6965, 1.8689, 1.997, 1.601, 1.092, 1.8133, 1.6856, 0.7146, 1.3328, 1.9612, 1.3068, 1.4955, 1.6454, 0.9605, 0.7216, 1.1017, 1.0064, 1.2766, 0.0429, -0.4216, 0.8718, 0.117, 0.2792, 0.9554, 0.6239, -0.1784, 2.2895, 2.2882, 2.2862, 2.2855, 2.2855, 2.2854, 2.2837, 2.2831, 2.283, 2.283, 2.283, 2.2826, 2.2824, 2.2823, 2.282, 2.2816, 2.2816, 2.2816, 2.2814, 2.2813, 2.281, 2.2808, 2.2807, 2.2803, 2.2803, 2.2803, 2.2801, 2.2801, 2.28, 2.28, 2.209, 2.1728, 2.1086, 2.099, 2.2275, 1.8956, 2.1187, 1.8682, 1.8456, 2.1427, 1.8821, 1.7713, 0.9571, 1.1986, 1.5328, 1.8211, 1.5571, 1.8399, 1.3842, 1.05, 1.3785, 1.6328, 1.4769, 1.7706, 1.1315, 0.1665, 1.0314, 0.4921, 0.1093, 0.5241, -0.1268, 0.1091, -1.4067, -0.3122, -0.5473, 3.5791, 3.5757, 3.5754, 3.5746, 3.5746, 3.5733, 3.5717, 3.5701, 3.5692, 3.569, 3.5689, 3.5683, 3.5678, 3.5673, 3.5673, 3.5671, 3.5665, 3.5652, 3.5651, 3.565, 3.5647, 3.5647, 3.5647, 3.564, 3.5626, 3.5616, 3.5614, 3.5601, 3.5599, 3.5598, 3.5319, 3.1023, 2.6005, 2.7866, 2.7058, 2.6468, 1.4558, 0.4725, 0.4274, 1.5371, -0.2772, 1.704, 0.8252, -0.3476, 0.9209, 3.6811, 3.6732, 3.6716, 3.6681, 3.6642, 3.6618, 3.6618, 3.6613, 3.6602, 3.6601, 3.6595, 3.6571, 3.6558, 3.6551, 3.6547, 3.6547, 3.6544, 3.6536, 3.6502, 3.6502, 3.6492, 3.6482, 3.6459, 3.6429, 3.6396, 3.6392, 3.6363, 3.6355, 3.6348, 3.6345, 3.4609, 3.2665, 3.0932, 3.2933, 2.9861, 3.2651, 2.765, 1.6292, 0.5268, 2.791, 2.3947, 2.0573, 1.746, -0.1719, 0.3203, 0.8536, 0.9747, 0.0445, -1.1285, 0.4976, 1.6621, -0.6381, -0.3815, -0.4346, 1.5697, 4.2046, 4.2021, 4.2015, 4.2008, 4.2007, 4.1993, 4.1969, 4.1965, 4.1957, 4.1951, 4.1948, 4.1942, 4.1937, 4.193, 4.192, 4.1901, 4.19, 4.1876, 4.1871, 4.1859, 4.1853, 4.1837, 4.1834, 4.1834, 4.1834, 4.183, 4.1821, 4.182, 4.1796, 4.1789, 4.0716, 4.0435, 3.9793, 3.844, 3.4337, 3.6892, 3.6272, 2.9189, 3.5618, 2.1182, 3.5792, 3.2298, 3.1424, 3.059, 2.1986, 2.4301, 2.6711, 0.6002, 3.2003, 5.0318, 5.0302, 5.0257, 5.0228, 5.0224, 5.0212, 5.0165, 5.0096, 5.0064, 5.0018, 5.0018, 5.0016, 4.9991, 4.9979, 4.9922, 4.99, 4.9898, 4.9853, 4.9811, 4.9806, 4.9785, 4.9739, 4.9726, 4.9688, 4.9636, 4.9625, 4.962, 4.9516, 4.94, 4.936, 4.8923, 4.1328, 2.0167, 0.5498, 1.599, 0.4876, -0.1411, -1.1004]}, \"token.table\": {\"Topic\": [10, 1, 1, 3, 6, 7, 8, 10, 1, 10, 1, 2, 1, 2, 3, 6, 9, 10, 1, 2, 2, 3, 4, 1, 2, 3, 4, 5, 6, 7, 4, 5, 6, 8, 4, 1, 2, 3, 7, 4, 6, 9, 1, 2, 3, 8, 1, 2, 3, 6, 7, 8, 1, 2, 3, 4, 5, 6, 8, 1, 3, 4, 6, 4, 6, 6, 10, 2, 7, 3, 1, 2, 3, 6, 8, 2, 4, 5, 6, 10, 3, 4, 5, 6, 5, 6, 7, 2, 8, 9, 5, 2, 4, 5, 8, 5, 7, 7, 2, 3, 9, 4, 5, 6, 9, 6, 7, 6, 7, 1, 3, 4, 5, 6, 8, 10, 2, 3, 4, 5, 7, 9, 1, 2, 5, 6, 8, 9, 4, 2, 3, 6, 6, 8, 6, 4, 6, 5, 3, 1, 2, 3, 4, 5, 6, 2, 3, 9, 10, 4, 4, 1, 2, 3, 4, 5, 6, 9, 3, 3, 8, 1, 8, 2, 4, 3, 2, 8, 6, 1, 2, 3, 4, 5, 6, 7, 3, 1, 6, 8, 2, 3, 10, 8, 1, 3, 6, 5, 1, 2, 6, 7, 4, 5, 8, 5, 3, 1, 7, 2, 3, 3, 5, 9, 1, 3, 4, 6, 8, 2, 3, 4, 1, 3, 2, 5, 1, 2, 3, 5, 7, 8, 5, 10, 7, 4, 1, 5, 4, 5, 9, 9, 1, 2, 3, 5, 6, 7, 10, 10, 10, 4, 4, 3, 4, 6, 7, 3, 3, 3, 9, 1, 10, 7, 7, 1, 4, 5, 6, 3, 3, 1, 3, 8, 10, 1, 3, 5, 6, 1, 2, 3, 4, 6, 1, 2, 5, 7, 1, 2, 5, 6, 7, 9, 2, 1, 2, 3, 5, 9, 1, 5, 6, 1, 2, 5, 5, 2, 1, 9, 10, 1, 2, 3, 6, 8, 9, 1, 5, 2, 3, 4, 6, 7, 5, 3, 2, 3, 4, 6, 3, 2, 6, 9, 4, 1, 2, 9, 6, 1, 2, 6, 4, 5, 6, 6, 4, 5, 6, 7, 8, 10, 1, 2, 3, 4, 6, 8, 4, 5, 6, 1, 2, 3, 4, 5, 6, 7, 8, 10, 2, 3, 6, 1, 2, 3, 4, 6, 7, 10, 1, 2, 3, 4, 5, 6, 7, 2, 3, 5, 6, 6, 1, 2, 3, 4, 3, 4, 5, 6, 8, 1, 3, 4, 1, 2, 1, 8, 1, 2, 3, 4, 5, 6, 1, 3, 4, 5, 8, 4, 6, 8, 6, 3, 6, 7, 7, 9, 9, 9, 6, 2, 2, 2, 6, 8, 9, 6, 8, 1, 2, 1, 2, 8, 9, 8, 1, 6, 1, 2, 1, 6, 7, 8, 1, 2, 3, 10, 3, 4, 7, 8, 1, 2, 9, 1, 1, 3, 4, 5, 6, 8, 1, 2, 3, 8, 4, 6, 5, 1, 2, 3, 4, 1, 2, 2, 4, 3, 4, 2, 3, 4, 6, 2, 3, 3, 4, 6, 9, 4, 9, 1, 2, 2, 4, 7, 7, 1, 6, 3, 6, 5, 9, 4, 8, 6, 1, 2, 3, 4, 5, 6, 2, 3, 5, 10, 6, 2, 5, 2, 3, 6, 1, 1, 2, 3, 4, 5, 6, 8, 7, 4, 1, 4, 5, 8, 1, 2, 3, 4, 5, 6, 7, 10, 1, 1, 2, 3, 5, 9, 10, 2, 6, 9, 1, 2, 3, 5, 9, 10, 1, 2, 3, 4, 5, 6, 7, 4, 5, 6, 2, 3, 4, 1, 2, 3, 4, 6, 7, 2, 3, 5, 6, 8, 7, 7, 1, 1, 2, 4, 6, 6, 9, 1, 2, 3, 4, 5, 8, 1, 2, 3, 6, 7, 8, 2, 8, 1, 2, 8, 2, 1, 7, 4, 5, 1, 2, 4, 6, 1, 2, 3, 4, 5, 6, 7, 8, 7, 1, 2, 3, 4, 5, 6, 7, 9, 1, 2, 4, 5, 6, 9, 1, 2, 2, 3, 2, 7, 8, 10, 2, 9, 3, 1, 2, 1, 2, 3, 2, 10, 1, 2, 8, 6, 4, 5, 6, 1, 5, 9, 5, 9, 5, 8, 7, 2, 3, 5, 6, 1, 2, 3, 4, 7, 1, 1, 2, 3, 4, 6, 7, 10, 1, 2, 3, 4, 6, 4, 5, 6, 1, 2, 3, 8, 8, 6, 4, 6, 1, 3, 4, 5, 9, 2, 3, 7, 8, 10, 10, 1, 2, 3, 5, 1, 2, 3, 4, 5, 6, 9, 8, 4, 8, 5, 5, 6, 8, 7, 1, 4, 4, 7, 8, 5, 1, 2, 3, 5, 1, 4, 9, 8, 9, 4, 7, 4, 5, 9, 9, 1, 2, 4, 5, 6, 7, 9, 5, 3, 5, 1, 9, 9, 4, 5, 6, 1, 2, 3, 4, 5, 6, 7, 4, 6, 5, 9, 6, 5, 5, 4, 3, 5, 1, 3, 4, 5, 1, 3, 8, 8, 4, 6, 1, 2, 3, 4, 5, 6, 1, 3, 8, 4, 5, 6, 2, 3, 4, 5, 7, 2, 3, 4, 6, 2, 2, 4, 9, 1, 2, 3, 4, 9, 3, 5, 1, 1, 2, 3, 5, 6, 8, 2, 2, 1, 2, 3, 4, 5, 6, 8, 10, 8, 1, 2, 10, 7, 1, 2, 3, 4, 5, 6, 7, 9, 1, 7, 1, 5, 8, 4, 6, 3, 4, 5, 6, 2, 3, 4, 5, 7, 1, 7, 1, 3, 4, 7, 9, 9, 2, 8, 2, 4, 7, 9, 4, 10, 1, 2, 4, 6, 10, 4, 4, 1, 1, 4, 5, 6, 6, 2, 5, 7, 2, 7, 1, 2, 10, 1, 1, 1, 2, 2, 6, 10, 3, 1, 3, 4, 5, 9, 7, 1, 2, 3, 4, 5, 1, 3, 5, 2, 4, 1, 2, 3, 4, 5, 6, 1, 3, 4, 5, 6, 8, 2, 6, 2, 4, 10, 2, 10, 3, 10, 9, 6, 1, 2, 3, 4, 5, 6, 7, 8, 9, 10, 2, 5, 6, 4, 5, 6, 1, 3, 5, 6, 7, 7, 7, 4, 1, 2, 3, 4, 6, 8, 2, 6, 10, 6, 1, 2, 3, 6, 10, 1, 2, 3, 4, 5, 6, 8, 10, 2, 3, 4, 6, 7, 8, 6, 3, 4, 5, 10, 10, 10, 10, 10, 8, 1, 3, 4, 5, 1, 2, 3, 6, 1, 2, 6, 1, 2, 3, 7, 3, 4, 5, 8, 10, 3, 2, 6, 3, 2, 8, 1, 3, 4, 5, 6, 8, 3, 8, 1, 2, 3, 4, 5, 6, 3, 4, 6, 8, 9, 7, 1, 2, 3, 4, 6, 1, 6, 8, 1, 2, 3, 6, 7, 3, 2, 1, 3, 4, 5, 6, 7, 10, 1, 2, 3, 4, 6, 3, 3, 1, 2, 3, 4, 5, 5, 2, 5, 9, 3, 4, 9, 9, 1, 2, 7, 8, 4, 7, 10, 8, 2, 6, 7, 3, 4, 7, 8, 1, 3, 4, 5, 7, 9, 5, 1, 2, 5, 9, 9, 4, 1, 4, 6, 3, 5, 6, 7, 8, 6, 3, 4, 6, 8, 2, 5, 4, 5, 6, 7, 1, 2, 3, 4, 5, 8, 10, 6], \"Freq\": [0.9026342221774702, 0.9948935922339246, 0.9947577348843091, 0.06200015239894108, 0.01604709826796122, 0.11962382345207455, 0.8016254998404264, 0.9448417782336068, 0.9978694505207137, 0.9509927113605785, 0.8273571650133723, 0.1719333578619142, 0.8598883095621166, 0.005930264203876666, 0.002965132101938333, 0.11366339724096942, 0.014825660509691665, 0.002965132101938333, 0.990495419397108, 0.9950349428440733, 0.8199762447093322, 0.0022465102594776223, 0.17522780023925455, 0.36874407365526185, 0.2227481168913007, 0.19938876380906692, 0.013348201761276447, 0.09927725059949356, 0.026696403522552894, 0.07007805924670134, 0.4365780298425395, 0.08291985463828554, 0.48053554314476316, 0.9450423621668714, 0.9951057846628989, 0.5828198603204419, 0.4144129884998043, 0.0016510477629474273, 0.9912652866467048, 0.001256648124291138, 0.9987210967803819, 0.975595038119614, 0.3334167116632528, 0.05209636119738325, 0.416770889579066, 0.19796617255005636, 0.1488451231770916, 0.30535974697590357, 0.4990856515689884, 0.005397055993062482, 0.006249222728809189, 0.03465478058703277, 0.5283627690993923, 0.014421812556062816, 0.12350315843464701, 0.022288255768460715, 0.008915302307384286, 0.2892228954424961, 0.013372953461076429, 0.018804061543902132, 0.5413290444456674, 0.40058349288979395, 0.039317583228159, 0.9797974834622233, 0.01811390305560413, 0.9947473601273122, 0.9679004827341753, 0.544664266124395, 0.4522363906608613, 0.9903406136467174, 0.7358846895216598, 0.038867149094453865, 0.20988260511005086, 0.006909715394569575, 0.007773429818890772, 0.022134538464861006, 0.6127772227640468, 0.29823378142128515, 0.06057873685119854, 0.00698985425206137, 0.9846260561795352, 0.5382261493364808, 0.12612567659889964, 0.3354358457853089, 0.8848080577692151, 0.10811159548305523, 0.00569008397279238, 0.28963326517814575, 0.17377995910688745, 0.5296151134686095, 0.9878002182772191, 0.30292763453975047, 0.12117105381590018, 0.4516375642229007, 0.12117105381590018, 0.9907646627910146, 0.9870763158010104, 0.9760556518470921, 0.28811887166446576, 0.1800742947902911, 0.5258169407876501, 0.9929589235522392, 0.34628592287305204, 0.050675988713129574, 0.591219868319845, 0.9376518475278627, 0.05336230026581332, 0.04449407612304369, 0.9534444883509361, 0.04644225941284832, 0.24459589957433447, 0.04850635983119713, 0.6378070292697835, 0.011352552300918478, 0.004128200836697628, 0.006192301255046442, 0.04970873280712035, 0.4576955020731081, 0.031888621046077203, 0.41455207359900365, 0.021571714237052227, 0.02438541609405904, 0.24561036145419898, 0.34876671326496256, 0.0409350602423665, 0.0409350602423665, 0.050759474700534456, 0.27508360482870287, 0.9960431103853361, 0.05293866614193325, 0.9433670306492506, 0.003176319968515995, 0.9962594921213419, 0.9894779749535275, 0.9935591901017257, 0.8951143357989759, 0.10300918943718373, 0.9953332976257877, 0.9866122570770842, 0.06787518607546993, 0.020299121069299417, 0.7402835714960132, 0.011418255601480923, 0.048844760073001724, 0.11101081834773119, 0.9971217077234723, 0.993554820961867, 0.9819523451990045, 0.9588957731225433, 0.9940943614310475, 0.9981398455019723, 0.6778481271675364, 0.11638361384431989, 0.11551937908805018, 0.03456939025078808, 0.0394667205363164, 0.00835426931060712, 0.007778112806427319, 0.9900524610030473, 0.9924182817172537, 0.9823649850542613, 0.5802054424273361, 0.40700978797141485, 0.9968867373426288, 0.9950974578336987, 0.9957562945666422, 0.9989266944085725, 0.975276166116222, 0.9916444776833873, 0.07409152012096405, 0.6647188083579673, 0.1439732947805097, 0.07619639285167325, 0.005051694553702094, 0.019785803668666536, 0.015997032753389963, 0.988850860893643, 0.14992559222956078, 0.8254726725109935, 0.02469362695545707, 0.8558254942508268, 0.14192081060440845, 0.8539546614865586, 0.9752713952407714, 0.0559722319547734, 0.8369181349428023, 0.10661377515194935, 0.9918584676428249, 0.7979011593247747, 0.19779902689143575, 0.00335252587951586, 0.0009578645370045314, 0.9983778750721322, 0.9897218428222097, 0.9575150457071828, 0.9947732803247008, 0.9965623781933651, 0.9093308234461499, 0.08871520228742925, 0.029984593477476104, 0.9685023693224781, 0.9965258683298449, 0.9861012096173489, 0.98292048230054, 0.0700406574832525, 0.17176637430416683, 0.156757661986327, 0.5953455886076462, 0.005002904105946607, 0.8107320809282879, 0.022577349089142194, 0.1662513887473198, 0.9970121931037583, 0.9893490204479086, 0.9942640086058523, 0.9954671133262581, 0.0028217684489324543, 0.807025776394682, 0.11287073795729817, 0.07712833760415376, 0.9889589666813637, 0.9513534419264353, 0.5867074385594439, 0.40336136400961764, 0.9860852307846285, 0.9992928362913187, 0.4423544041738101, 0.5570797359296112, 0.992349351819858, 0.9941165433367944, 0.9936073019323819, 0.9817614617912318, 0.16884535495633293, 0.2586744107951702, 0.08650205377073214, 0.16302310133714903, 0.313569944918904, 0.009149255687288976, 0.9538657618230378, 0.9907886275795386, 0.9895366102985228, 0.9981923208802107, 0.9916940051803386, 0.15621281101741366, 0.8428226082799993, 0.9863349016346522, 0.980250637728841, 0.9951364302560073, 0.9847733051149684, 0.9850430360659662, 0.9830830035352672, 0.9881747894218831, 0.007374438727028978, 0.9981769809372761, 0.9853653923329856, 0.22876302451284103, 0.3667470710443959, 0.2936051516423311, 0.11100972164568702, 0.9873412682089159, 0.996536556523373, 0.657159510849575, 0.1971478532548725, 0.14496165680505332, 0.9430783602694519, 0.688180709969998, 0.17653331255752122, 0.1279118493531192, 0.006732202597532589, 0.7683369333168307, 0.17322505405688546, 0.02863801296908187, 0.027241036726687633, 0.0020954643635913562, 0.45642570498904317, 0.5096510667529411, 0.008749374536531178, 0.024789894520171673, 0.14309139221597372, 0.009539426147731582, 0.6118860486187829, 0.03815770459092633, 0.15263081836370532, 0.04360880524677294, 0.997833489640886, 0.7987836751319608, 0.17656203737936818, 0.01701802769921621, 0.006381760387206079, 0.9788596113224447, 0.05182064075507492, 0.8291302520811987, 0.11777418353426118, 0.9923810473027387, 0.9969767193354641, 0.9906291840192949, 0.9871850836515138, 0.9974265009544554, 0.9613006018505481, 0.027161211568738665, 0.011345822554030075, 0.2475387587260121, 0.004446804048970278, 0.08893608097940554, 0.6403397830517199, 0.01778721619588111, 0.988515367178767, 0.9933263320542688, 0.9919701047761585, 0.8094786062522535, 0.04223366641316105, 0.0387141942120643, 0.05807129131809645, 0.051032346915902936, 0.9905765778127074, 0.99138513140036, 0.21608170473122232, 0.10393803518717022, 0.08479155502111255, 0.5935408851477878, 0.995187504186051, 0.34840766327623907, 0.2709837381037415, 0.37744163521592566, 0.9977353583165159, 0.1313982520804582, 0.650421347798268, 0.21352215963074456, 0.9942898820123102, 0.7349635696863445, 0.04935007182546198, 0.21502531295379862, 0.03167195100200252, 0.04675383243152753, 0.9215029553439782, 0.9973691434859822, 0.0024040986181889106, 0.16347870603684594, 0.8330201712024576, 0.978575896261141, 0.9694574754926031, 0.976066312958844, 0.26844349556546576, 0.015123577214955818, 0.10019369904908229, 0.083179674682257, 0.5179825196122367, 0.015123577214955818, 0.24340659019770144, 0.08155375444768347, 0.6737594790524004, 0.4543979716282255, 0.006541916323052273, 0.0793870386229857, 0.22189472933596224, 0.11722406816712587, 0.11280385443533379, 0.006011490675237224, 0.0014144683941734646, 0.968667032945339, 0.00702973571859402, 0.9546381105850679, 0.0379605728804077, 0.7739677116875079, 0.036804059017308065, 0.015154612536538615, 0.06819575641442377, 0.031932933559134936, 0.06386586711826987, 0.010824723240384726, 0.6275535486720434, 0.08168999682200263, 0.020848955105383503, 0.16337999364400527, 0.0032221112435592684, 0.05856661025057729, 0.04473048549882279, 0.1092640514329749, 0.19365498546657342, 0.6795691003758195, 0.0159898611853134, 0.9956448827653361, 0.13746393925926717, 0.7314439237128908, 0.09333971184271228, 0.037335884737084914, 0.15967528866362998, 0.2203618469719255, 0.600398982607481, 0.013430631756753924, 0.005969169669668411, 0.9490936341726653, 0.044112802715067546, 0.005347006389705157, 0.8866851949660648, 0.11282454356827579, 0.9962915493329774, 0.970076138739527, 0.15823799902153873, 0.000129490997562634, 0.22000520485891514, 0.27257854986934454, 0.2294580476809874, 0.11952019075031116, 0.5483725999208362, 0.1678691632410723, 0.004896183927864609, 0.2685906611857157, 0.009792367855729218, 0.9918995960340341, 0.9947473601273122, 0.9708469729034068, 0.9932597941260414, 0.9115313951892348, 0.08558980236518636, 0.9915005547670861, 0.9935800148803017, 0.9841425761368157, 0.9931145739319893, 0.9588400671250958, 0.9940607754069613, 0.9952799018675148, 0.9969464232853505, 0.5685945626755289, 0.031588586815307164, 0.39801619387287024, 0.9953259279915163, 0.9868043136646854, 0.9767632117438821, 0.1239364638854004, 0.8751123486542296, 0.07617976172814221, 0.8407988516661621, 0.05925092578855505, 0.023982517581081806, 0.9962265923789628, 0.15332334170258302, 0.8432783793642066, 0.014050150555762229, 0.983510538903356, 0.31226251830825236, 0.6245250366165047, 0.04788025280726536, 0.012490500732330094, 0.9778983568977808, 0.010805506706052827, 0.00810413002953962, 0.9490751395035141, 0.6571643966925325, 0.1769288760326049, 0.037070812121117215, 0.1286244844808461, 0.9932583785375306, 0.003910466057234372, 0.9938984220912427, 0.9912750764490942, 0.09133035898208317, 0.11888693281288411, 0.31335761099025083, 0.3070589655432106, 0.15746613617600544, 0.011022629532320381, 0.4361548322168763, 0.24280784473929196, 0.04496441569246148, 0.274282935724015, 0.7039614911871039, 0.2947544773790101, 0.9889635450689819, 0.7746932297527507, 0.13528526427480703, 0.031633867765750896, 0.057883247401161214, 0.2170878770625, 0.782680813470546, 0.993090187070483, 0.9960497964211859, 0.9970856419765374, 0.9946054485278042, 0.04105907079774608, 0.03079430309830956, 0.864293440292555, 0.06364155973650643, 0.9922782408978157, 0.9946881770711874, 0.07235566481413533, 0.03872556708362172, 0.8886498551820564, 0.9899534113441449, 0.8293952517461969, 0.1695962279481019, 0.9541368831923946, 0.04313916759114551, 0.06030396311609486, 0.9264881606018209, 0.010964356930199065, 0.9932553640944346, 0.9932642479020413, 0.9950410573095241, 0.9807459648245412, 0.012736960582136898, 0.9916248119753334, 0.9803542299129134, 0.9905620841094267, 0.9513534419264353, 0.993489940875197, 0.6669450025889213, 0.027474152345454073, 0.1146747228331996, 0.14891786923478004, 0.01552886871699578, 0.026677800103556852, 0.18036583116797497, 0.11931893446496807, 0.6881650173793507, 0.011099435764183076, 0.9933030072129947, 0.022496154449697842, 0.9729586799494316, 0.899593342243996, 0.03938311866966803, 0.06011107586423015, 0.9930418922072235, 0.6895846127766202, 0.03012327503958209, 0.26330776383519594, 0.0007584997312124986, 0.007801711521042843, 0.008126782834419628, 0.0003250713133767851, 0.9996492227273046, 0.9915277954821757, 0.887870148148059, 0.08632070884772795, 0.0022420963337072197, 0.0224209633370722, 0.6857716058343616, 0.20599988550993054, 0.0017893583974803954, 0.03735285654740326, 0.002013028197165445, 0.02370899876661524, 0.04272093173984444, 0.0006710093990551483, 0.9993563835814532, 0.5174075704778914, 0.06674095098118396, 0.3079334966062547, 0.09515541526030188, 0.01057282391781132, 0.0019824044845896224, 0.17796379446642863, 0.11515304347827734, 0.690918260869664, 0.07779934119981283, 0.7967725633222211, 0.03129858554015459, 0.08495330360899102, 0.008942453011472739, 0.9775474174272762, 0.27724504466498473, 0.05977259043593639, 0.1635200696624535, 0.14116308838657002, 0.07363022345817821, 0.26347979586289116, 0.021155986413955847, 0.2774518843251123, 0.40296583199599645, 0.3197302666984627, 0.016741275480268998, 0.05692033663291459, 0.9207701514147949, 0.09067137047663211, 0.7712048433946511, 0.009963886865563968, 0.029891660596691905, 0.07672192886484255, 0.02092416241768433, 0.9947476515061707, 0.07531974967360072, 0.4707484354600045, 0.3174189450530316, 0.13180956192880125, 0.9924403832171877, 0.9968218801007217, 0.9973035148029623, 0.2286183640886558, 0.26291111870195416, 0.10422307774629896, 0.4041165788743592, 0.15052190330183454, 0.8471232697452084, 0.9923817014598061, 0.16426992573299115, 0.04219777908737388, 0.27880675468443455, 0.5003450948931474, 0.013563571849513031, 0.37771965582167805, 0.49924787841843976, 0.09135325009221036, 0.0028399974121930682, 0.007573326432514849, 0.021181647365939967, 0.9805785466377859, 0.01485725070663312, 0.09630968359187651, 0.34755233644025, 0.5569212138138947, 0.996602902960097, 0.9478026736382485, 0.05226852979622694, 0.9939428065920324, 0.9911101141806038, 0.13495919144627896, 0.3959300036352162, 0.0007456308919683921, 0.4682562001561502, 0.3242476399294758, 0.1900678959170553, 0.18573174620031638, 0.12502565016597172, 0.09394991052934291, 0.07395544239104686, 0.0060224301621373665, 0.0009635888259419787, 0.9897309518785378, 0.027150494671247, 0.06863041708565214, 0.025642133856177723, 0.011312706113019584, 0.5460266150550785, 0.2835718332330242, 0.014329427743158138, 0.022625412226039168, 0.2271923728818469, 0.031634381034181216, 0.005751705642578402, 0.7275907637861679, 0.002875852821289201, 0.9700815498720957, 0.963566329107151, 0.03642346948515004, 0.9392020249698867, 0.05933956149047214, 0.9830777021918515, 0.016568725317840195, 0.9871092255800727, 0.9158256895529769, 0.994692544752689, 0.9645304352701498, 0.9960159827600702, 0.9788691523004394, 0.01909988589854516, 0.9245265050099627, 0.07037661696790581, 0.004444838966394051, 0.997527168705947, 0.9914760586066308, 0.9942518772560157, 0.33919232141998634, 0.660104817134704, 0.9901682300532113, 0.4938473899363227, 0.426035509527156, 0.07960525091510874, 0.99633438476777, 0.992706627857367, 0.9645304352701498, 0.9958478040272072, 0.9645304352701498, 0.9866889892265001, 0.9995373854613138, 0.9861495838608932, 0.17676575508881656, 0.6643446295421356, 0.023568767345175542, 0.13552041223475936, 0.2758932316140779, 0.1427033956624541, 0.5130979870707795, 0.05771559557903699, 0.010147797024885625, 0.9955316834789332, 0.8758070273380908, 0.013292180853360569, 0.048147232868839394, 0.007679926715274996, 0.048147232868839394, 0.0011815271869653839, 0.005612254138085574, 0.03939916113347427, 0.33135704748152717, 0.05859362424978224, 0.16870922844333852, 0.40106325564075085, 0.6496165751466777, 0.3346916712129412, 0.015544739316656099, 0.6579178401598531, 0.28851656868860476, 0.04919791200181411, 0.004586246034067417, 0.9734097548270932, 0.98446609599576, 0.13555200288101824, 0.8649508755264972, 0.21845010322494773, 0.03449212156183385, 0.13988471522299284, 0.6055283563077498, 0.985223220503869, 0.8573851313389835, 0.07802550053957631, 0.019698241119827462, 0.04259424865521133, 0.002174481162578356, 0.9851519108602911, 0.251726878373918, 0.1021500376010102, 0.013376790638227528, 0.6323573756253013, 0.2391427481556614, 0.4589958020443718, 0.1800371464915424, 0.0009892150906128702, 0.028934541400426457, 0.08902935815515832, 0.0024730377265321755, 0.9893174769884994, 0.024118802155903292, 0.9757315409488937, 0.9919120922703957, 0.7978947859551546, 0.1703370891364937, 0.03137788484093305, 0.9892592078111907, 0.9947132777321089, 0.9920303551923728, 0.989215998848318, 0.9924295564069915, 0.9889300091425882, 0.9856499773147157, 0.1644471192361096, 0.638666718893728, 0.043342651581610284, 0.151699280535636, 0.2905793537733298, 0.3632241922166622, 0.3450629826058291, 0.9737836067143361, 0.9823090443662292, 0.9986196625869185, 0.9832178298800198, 0.9958088851271503, 0.1249094376772196, 0.8705809292654699, 0.9841037247123819, 0.19121797839713048, 0.06785154072156242, 0.043178253186448814, 0.2405645534673577, 0.03700993130267041, 0.05551489695400562, 0.3639309911429257, 0.9897117388628753, 0.9884065416506267, 0.9974544949970726, 0.191097441419633, 0.7898694245344831, 0.9815475774766005, 0.8672367121341061, 0.018373659155383606, 0.11391668676337835, 0.30347838109843184, 0.0817848518553401, 0.1702565154975948, 0.38011953157922224, 0.005658071512004661, 0.058638195669866486, 0.9958475450909884, 0.8425464612252055, 0.15431253868593506, 0.9948888133437082, 0.9850629332345823, 0.9910534202307806, 0.9979276976969866, 0.9922761285487762, 0.9905866292120374, 0.8200774565281266, 0.1782777079408971, 0.2867066001184522, 0.011263473576082051, 0.022526947152164103, 0.6788802709947637, 0.983643109526519, 0.013661709854534985, 0.9828021433063239, 0.9884342147929476, 0.9977387496913499, 0.9897961499516857, 0.5546893492766741, 0.01709240841498189, 0.40329944617254887, 0.015464559994507424, 0.00447658315630478, 0.00447658315630478, 0.3806748246279046, 0.1115771037702479, 0.4988152874434612, 0.8397010825228569, 0.07783745989678167, 0.08019617080274476, 0.03166658917994489, 0.6768733437213219, 0.13260384219101923, 0.15833294589972444, 0.9846260124393953, 0.001594452292241014, 0.7430147681843126, 0.2535179144663212, 0.9952230794045663, 0.9972759926984316, 0.3423370607164325, 0.09889737309585828, 0.5553467873844349, 0.04457937386139906, 0.27242950693077206, 0.6181673175447336, 0.03467284633664371, 0.030710235326741574, 0.719562930780423, 0.2781953338333234, 0.995591593339347, 0.2587690649883, 0.11202407623544125, 0.4533371973972243, 0.10874851845077922, 0.056339593896186826, 0.01048178491091848, 0.9969760341984872, 0.9968628521035473, 0.6594222771020135, 0.04857414632186138, 0.18780120525603383, 0.03840746453356481, 0.00931945830593852, 0.0273935592629102, 0.026263927953099467, 0.0028240782745268247, 0.9912768229861186, 0.9955468460431406, 0.0035555244501540733, 0.9723914701253754, 0.9950314130739619, 0.4725904337939318, 0.17131810349800697, 0.0270330847724992, 0.09477864661201527, 0.2312468697406558, 0.0026055985322890793, 0.0003256998165361349, 0.0003256998165361349, 0.9969139864525437, 0.9874709732703796, 0.9961817552598798, 0.992548227772074, 0.9620641832953337, 0.8240922409504806, 0.17400188078719825, 0.007033769219025216, 0.049848016639178705, 0.7773844067287868, 0.1654464846735931, 0.007598452230973779, 0.06458684396327712, 0.12917368792655423, 0.7883394189635295, 0.011397678346460667, 0.9858519333735478, 0.9823800724319165, 0.5031227936020296, 0.35204342781785075, 0.0014252770356998005, 0.008551662214198803, 0.13397604135578126, 0.9857428242531463, 0.9978949714076061, 0.9853383970735863, 0.9937315462449643, 0.975324534610402, 0.020862556890062074, 0.9923467184667139, 0.9974850521076561, 0.9930400743340798, 0.46191401581978353, 0.39775929140036914, 0.041700570872619344, 0.04971991142504614, 0.048116043314560784, 0.9973423950738969, 0.994910319563033, 0.9928905028107761, 0.12539040901042323, 0.12762952345703793, 0.5821697561198221, 0.16345535460287314, 0.9952562365785875, 0.9965300755543325, 0.987141082533646, 0.9864937301333602, 0.9718092388702422, 0.025618872729443992, 0.7873031845341404, 0.17893254193957736, 0.032804299355589185, 0.9972022450217872, 0.9958052636449973, 0.996590486379379, 0.989233285542987, 0.9956386261802264, 0.9863174945855226, 0.9545655878656013, 0.9906661352626804, 0.3029369956097977, 0.1578685751769368, 0.05120061897630383, 0.17066872992101279, 0.3157371503538736, 0.9841951417018459, 0.0016837856372833014, 0.7779089644248852, 0.09429199568786488, 0.06061628294219885, 0.06398385421676545, 0.7714956225297714, 0.21640584166741594, 0.011436081063725232, 0.02993811975887288, 0.9689064212871586, 0.5289871654392713, 0.14975892354901743, 0.02657013159740632, 0.00422706639049646, 0.20954171964318166, 0.08031426141943274, 0.01643022420055884, 0.031217425981061798, 0.6949984836836389, 0.21852198186743257, 0.031217425981061798, 0.00821511210027942, 0.9921673007697144, 0.991591869629549, 0.9971616072060706, 0.9979707793573335, 0.954042235146903, 0.9938582353990754, 0.9088788465564736, 0.9956790132848925, 0.9940640927150862, 0.9832762698563191, 0.9956729874252017, 0.5285841083507027, 0.04578287552643881, 0.04266131583145435, 0.09087207112065886, 0.14844750549481675, 0.0006936799322187698, 0.0010405198983281549, 0.017341998305469248, 0.12347502793494104, 0.0010405198983281549, 0.23227696966227226, 0.11108898549065195, 0.6549922001656622, 0.030077564953368614, 0.7519391238342154, 0.21483974966691866, 0.06672600876295631, 0.409252853746132, 0.0711744093471534, 0.057829207594562136, 0.3914592514093437, 0.9944036471946064, 0.9735793756459963, 0.9953605791031389, 0.7768405963376963, 0.05599768387755347, 0.027829151987632632, 0.009842017166357882, 0.11267412755968334, 0.016290235309833735, 0.9960996861176684, 0.9915571924894444, 0.9682951887255676, 0.989294054834155, 0.22156804843964514, 0.5444561592310878, 0.20765045745725536, 0.023938256489710406, 0.0022268145571823633, 0.7540654139081155, 0.08877033663409677, 0.05306922298777524, 0.013990976969504382, 0.02894684890242286, 0.05596390787801753, 0.0033771323719493334, 0.001447342445121143, 0.23773162757020933, 0.08404653499956896, 0.009605318285665024, 0.6651682912823029, 0.004802659142832512, 0.9382183846256339, 0.9885743693398232, 0.6528209417606431, 0.2972666788374357, 0.04663006726861736, 0.9644633326598219, 0.9726632594516762, 0.9682951887255676, 0.9783941270983062, 0.9752939186184801, 0.9388871645319684, 0.8457880955993049, 0.05337137851283957, 0.023720612672373142, 0.07635072203920105, 0.7701106913863617, 0.14023620614751647, 0.07273267640871194, 0.016875882434701134, 0.9499778995423664, 0.04523704283535078, 0.0023808969913342516, 0.25119200646784384, 0.7265661262349462, 0.016205935901151214, 0.005401978633717072, 0.412110999103115, 0.5490249522935187, 0.005476558127616146, 0.03149020923379284, 0.9248082080479675, 0.9952401288406032, 0.9540985271153709, 0.042030772119619864, 0.9972858422216643, 0.9961150003543711, 0.9815506945913124, 0.1331910186422853, 0.18646742609919945, 0.09145783280103592, 0.3383051873514047, 0.18380360572635374, 0.06659550932114265, 0.3240592366948425, 0.6671807814305581, 0.10765278100118049, 0.13994861530153463, 0.0017942130166863413, 0.24580718328602877, 0.2915596152115305, 0.21351134898567464, 0.21803488625845788, 0.596769559055557, 0.170793994235792, 0.013728122468125126, 0.9916078388329972, 0.9880292090933156, 0.06038475333382855, 0.3741229282639377, 0.09451526608773164, 0.027566952608921728, 0.4436966658007402, 0.3616255578222083, 0.6377315580513268, 0.9594556171453121, 0.519473678439758, 0.10843883943573478, 0.12496285306403722, 0.116700846249886, 0.13012660732288173, 0.9971721392302508, 0.9954385451764839, 0.7240205418759937, 0.22573064919061772, 0.03252764634299585, 0.0014020537216808554, 0.01037519754043833, 0.0028041074433617108, 0.003364928932034053, 0.013557997668104364, 0.1329558481001202, 0.8432199840033939, 0.0013120642904617126, 0.008965772651488369, 0.9905089503465437, 0.9915431871817607, 0.5892425332076613, 0.18978537936769135, 0.15476803146613555, 0.007349319929956157, 0.058362246502593015, 0.9929951597851322, 0.14866262068444286, 0.38817462067604525, 0.45837641377703214, 0.9901512788029296, 0.9257927248242457, 0.0720461264454666, 0.9777060377738067, 0.2597859702198809, 0.7391977606739607, 0.31255223981759017, 0.6829845240458451, 0.11724801821028821, 0.0168837146222815, 0.8648213823190859, 0.9427889921472716, 0.17924638434435733, 0.1982573645020922, 0.6192147822805071, 0.001223007626942404, 0.9411043689321799, 0.015899099150251252, 0.04158225931604173, 0.2645527478545959, 0.1104725760271939, 0.1424514796140132, 0.08576160507374264, 0.37502532388178983, 0.02180379790010406, 0.9933254600625098, 0.20346931549195868, 0.5973192770582647, 0.1737223395428419, 0.024987459797258086, 0.9829504815358538, 0.9946362733374733, 0.9908255549318258, 0.8846643477042831, 0.11463256336449866, 0.8917347990457221, 0.0007647811312570515, 0.07188942633816284, 0.028296901856510907, 0.007647811312570515, 0.9913566050288881, 0.8688574057144607, 0.09819278900197671, 0.02479615883888301, 0.008133140099153627, 0.8358778913516111, 0.1622070733217287, 0.09597860624745928, 0.3393529292320882, 0.1473957167371696, 0.41819249864964403, 0.005466081028591822, 0.03962908745729071, 0.6326988790595034, 0.23504148422944834, 0.07105905337169369, 0.010932162057183644, 0.005466081028591822, 0.9931499162309614], \"Term\": [\"achilles\", \"admit\", \"afraid\", \"ah\", \"ah\", \"ah\", \"ah\", \"ahh_ahh\", \"alive\", \"allergic_allergic\", \"alone\", \"alone\", \"always\", \"always\", \"always\", \"always\", \"always\", \"always\", \"anymore\", \"apart\", \"arm\", \"arm\", \"arm\", \"around\", \"around\", \"around\", \"around\", \"around\", \"around\", \"around\", \"as\", \"as\", \"as\", \"ate\", \"aw\", \"away\", \"away\", \"away\", \"ay_ay\", \"ayy\", \"ayy\", \"ba\", \"babe\", \"babe\", \"babe\", \"babe\", \"baby\", \"baby\", \"baby\", \"baby\", \"baby\", \"baby\", \"back\", \"back\", \"back\", \"back\", \"back\", \"back\", \"back\", \"bad\", \"bad\", \"bad\", \"bad\", \"bag\", \"bag\", \"banging_bobby\", \"basic\", \"beautiful\", \"beautiful\", \"benz\", \"better\", \"better\", \"better\", \"better\", \"better\", \"big\", \"big\", \"big\", \"big\", \"big\", \"bit\", \"bitch\", \"bitch\", \"bitch\", \"black\", \"black\", \"black\", \"blame\", \"blame\", \"blame\", \"blew\", \"blue\", \"blue\", \"blue\", \"blue\", \"bobby\", \"boca\", \"bom_bom\", \"bone\", \"bone\", \"bone\", \"boom_boom\", \"born\", \"born\", \"born\", \"bos\", \"bos\", \"bounce\", \"bounce\", \"bout\", \"bout\", \"bout\", \"bout\", \"bout\", \"bout\", \"bout\", \"boy\", \"boy\", \"boy\", \"boy\", \"boy\", \"boy\", \"break\", \"break\", \"break\", \"break\", \"break\", \"break\", \"brick\", \"bring\", \"bring\", \"bring\", \"brown\", \"brown_skin\", \"buck\", \"bust\", \"bust\", \"bust_bust\", \"busy\", \"call\", \"call\", \"call\", \"call\", \"call\", \"call\", \"calling\", \"calm\", \"candle\", \"card_write\", \"cardi\", \"cash\", \"cause\", \"cause\", \"cause\", \"cause\", \"cause\", \"cause\", \"cause\", \"celebrate\", \"changed\", \"changin\", \"chase\", \"chase\", \"child\", \"chop\", \"chop_chop\", \"christmas\", \"chyeah\", \"clean\", \"come\", \"come\", \"come\", \"come\", \"come\", \"come\", \"come\", \"comfortable\", \"comin\", \"comin\", \"comin\", \"coming\", \"coming\", \"confess\", \"constantly\", \"cool\", \"cool\", \"cool\", \"copy\", \"could\", \"could\", \"could\", \"could\", \"coupe\", \"crack\", \"craft\", \"crash\", \"crowd\", \"cry\", \"cry\", \"da\", \"da\", \"da_da\", \"dad\", \"damage\", \"damn\", \"damn\", \"damn\", \"damn\", \"damn\", \"dance\", \"dance\", \"dance\", \"danger\", \"dangerous\", \"darling\", \"dawg\", \"day\", \"day\", \"day\", \"day\", \"de\", \"de_kah\", \"demon\", \"demon\", \"di\", \"diamond\", \"die\", \"die\", \"dip\", \"dirty\", \"distant\", \"dna\", \"done\", \"done\", \"done\", \"done\", \"done\", \"done\", \"doo\", \"doo_doo\", \"dreaming\", \"drip\", \"drippin\", \"drop\", \"drop\", \"dub\", \"dum\", \"dumb\", \"dyin\", \"eah\", \"easier\", \"easy\", \"easy\", \"eh\", \"el\", \"em\", \"em\", \"em\", \"em\", \"emotion\", \"energy\", \"enough\", \"enough\", \"enough\", \"erase\", \"even\", \"even\", \"even\", \"even\", \"ever\", \"ever\", \"ever\", \"ever\", \"ever\", \"every\", \"every\", \"every\", \"every\", \"everybody\", \"everybody\", \"everybody\", \"everybody\", \"everybody\", \"everybody\", \"everyone\", \"everything\", \"everything\", \"everything\", \"everything\", \"evil\", \"fact\", \"fact\", \"fact\", \"faded\", \"falling\", \"fame\", \"famous\", \"far\", \"feel\", \"feel\", \"feel\", \"feelin\", \"feelin\", \"feelin\", \"feelin\", \"feelin\", \"fi\", \"finally\", \"finna\", \"fire\", \"fire\", \"fire\", \"fire\", \"fire\", \"flip\", \"float\", \"fly\", \"fly\", \"fly\", \"fly\", \"focused\", \"follow\", \"follow\", \"follow\", \"foreign\", \"found\", \"found\", \"found\", \"freak\", \"friend\", \"friend\", \"friend\", \"fuck\", \"fuck\", \"fuck\", \"fucked\", \"fuckin\", \"fuckin\", \"fuckin\", \"fuego\", \"fuego_fuego\", \"gain\", \"game\", \"game\", \"game\", \"game\", \"game\", \"game\", \"gang\", \"gang\", \"gang\", \"get\", \"get\", \"get\", \"get\", \"get\", \"get\", \"get\", \"get\", \"gift\", \"girl\", \"girl\", \"girl\", \"give\", \"give\", \"give\", \"give\", \"give\", \"give\", \"give\", \"go\", \"go\", \"go\", \"go\", \"go\", \"go\", \"go\", \"god\", \"god\", \"god\", \"god\", \"goddamn\", \"going\", \"going\", \"going\", \"going\", \"gon\", \"gon\", \"gon\", \"gon\", \"gon\", \"gone\", \"gone\", \"gone\", \"gonna\", \"gonna\", \"goodbye\", \"gorgeous\", \"got\", \"got\", \"got\", \"got\", \"got\", \"got\", \"gotta\", \"gotta\", \"gotta\", \"gotta\", \"gotta\", \"great\", \"grieve\", \"grindin\", \"gucci\", \"guy\", \"guy\", \"gyal\", \"ha_ha\", \"hallelujah\", \"hallelujah_hallelujah\", \"halo\", \"hangin\", \"happiness\", \"happy\", \"harder\", \"harder\", \"harder\", \"harder_harder\", \"hater\", \"havana\", \"hear\", \"hear\", \"heart\", \"heart\", \"heart\", \"heart\", \"heart_takeaway\", \"heat\", \"heat\", \"heaven\", \"heaven\", \"hell\", \"hell\", \"hell\", \"hell\", \"help\", \"help\", \"help\", \"hercules\", \"hey\", \"hey\", \"hey\", \"hey\", \"hide\", \"hide\", \"higher\", \"highway_hell\", \"hit\", \"hit\", \"hit\", \"hit\", \"hit\", \"hit\", \"hmm\", \"hmm\", \"hmm\", \"hmm\", \"ho\", \"ho\", \"hol\", \"hold\", \"hold\", \"hold\", \"hold\", \"home\", \"home\", \"honey\", \"hoo\", \"hoo_hoo\", \"horse\", \"hot\", \"hot\", \"hot\", \"hot\", \"hour\", \"however\", \"huh\", \"huh\", \"huh\", \"human\", \"hundred\", \"hundred\", \"hurt\", \"hurt\", \"ice\", \"ice\", \"ice\", \"internet\", \"issue\", \"jack\", \"jealous\", \"jealous\", \"jesus\", \"jesus_christ\", \"jingle_bell\", \"kah_buba\", \"keanu_reef\", \"keep\", \"keep\", \"keep\", \"keep\", \"keep\", \"keep\", \"kid\", \"kid\", \"kid\", \"kid\", \"killed\", \"king\", \"king\", \"kiss\", \"kiss\", \"kiss\", \"knock\", \"know\", \"know\", \"know\", \"know\", \"know\", \"know\", \"know\", \"la\", \"lambo\", \"left\", \"left\", \"left\", \"left\", \"let\", \"let\", \"let\", \"let\", \"let\", \"let\", \"let\", \"let\", \"lie\", \"life\", \"life\", \"life\", \"life\", \"life\", \"life\", \"lift\", \"lift\", \"lift\", \"light\", \"light\", \"light\", \"light\", \"light\", \"lightning_thunder\", \"like\", \"like\", \"like\", \"like\", \"like\", \"like\", \"like\", \"lil\", \"lil\", \"lil\", \"lit\", \"lit\", \"lit\", \"little\", \"little\", \"little\", \"little\", \"little\", \"little\", \"little_bit\", \"livin\", \"livin\", \"livin\", \"livin\", \"loca\", \"loco\", \"lonely\", \"look\", \"look\", \"look\", \"look\", \"lord\", \"lord\", \"losing\", \"lot\", \"lot\", \"lot\", \"lot\", \"lot\", \"love\", \"love\", \"love\", \"love\", \"love\", \"love\", \"loved\", \"loved\", \"lover\", \"lover\", \"lover\", \"loving\", \"low\", \"low\", \"luck\", \"mac\", \"made\", \"made\", \"made\", \"made\", \"make\", \"make\", \"make\", \"make\", \"make\", \"make\", \"make\", \"make\", \"mami\", \"man\", \"man\", \"man\", \"man\", \"man\", \"man\", \"man\", \"man\", \"many\", \"many\", \"many\", \"many\", \"many\", \"mary\", \"matter\", \"matter\", \"maybe\", \"maybe\", \"meant\", \"meant\", \"melody\", \"mentally\", \"merry_christmas\", \"mfalme\", \"mi\", \"middle\", \"middle\", \"mind\", \"mind\", \"mind\", \"mm\", \"mm_mm\", \"mmh\", \"mmm\", \"mmm\", \"momma\", \"money\", \"money\", \"money\", \"morning\", \"motherfucker\", \"mrefu\", \"mud\", \"muda\", \"murder\", \"na\", \"nah_nah\", \"name\", \"name\", \"name\", \"name\", \"need\", \"need\", \"need\", \"need\", \"need\", \"needed\", \"never\", \"never\", \"never\", \"never\", \"never\", \"never\", \"never\", \"new\", \"new\", \"new\", \"new\", \"new\", \"nigga\", \"nigga\", \"nigga\", \"night\", \"night\", \"night\", \"night\", \"nod\", \"non\", \"nose\", \"nose\", \"nothin\", \"nothin\", \"nothin\", \"nothin\", \"nuh\", \"oh\", \"oh\", \"oh\", \"oh\", \"oh\", \"ohh\", \"okay\", \"okay\", \"okay\", \"okay\", \"one\", \"one\", \"one\", \"one\", \"one\", \"one\", \"one\", \"oo_oo\", \"ooh\", \"ooh\", \"opps\", \"outta\", \"outta\", \"outta\", \"pa\", \"passport\", \"patek\", \"percs\", \"pero\", \"pickin\", \"pistol\", \"place\", \"place\", \"place\", \"place\", \"point\", \"point\", \"point\", \"point_blank\", \"police\", \"pop\", \"porque\", \"pour\", \"power\", \"power\", \"praise_lord\", \"pray\", \"pray\", \"pray\", \"pray\", \"pray\", \"pray\", \"pray\", \"prayin\", \"pretend\", \"price\", \"prove\", \"prove\", \"puppet\", \"pussy\", \"pussy\", \"pussy\", \"put\", \"put\", \"put\", \"put\", \"put\", \"put\", \"que\", \"rack\", \"rack\", \"rack_rack\", \"raise\", \"ran\", \"rap\", \"rapper\", \"raw\", \"ready\", \"ready\", \"real\", \"real\", \"real\", \"real\", \"reason\", \"reason\", \"regretted\", \"ri_ri\", \"ridin\", \"riding\", \"right\", \"right\", \"right\", \"right\", \"right\", \"right\", \"rise\", \"rise\", \"rise\", \"rock\", \"rock\", \"rock\", \"roll\", \"roll\", \"roll\", \"roll\", \"ropa\", \"round\", \"round\", \"round\", \"rubbin\", \"ruin\", \"rule\", \"rule\", \"rule\", \"run\", \"run\", \"run\", \"run\", \"run\", \"runnin\", \"runnin\", \"sad\", \"said\", \"said\", \"said\", \"said\", \"said\", \"said\", \"santa\", \"santa_claus\", \"say\", \"say\", \"say\", \"say\", \"say\", \"say\", \"say\", \"say\", \"scar\", \"scared\", \"scared\", \"scheme\", \"se\", \"see\", \"see\", \"see\", \"see\", \"see\", \"see\", \"see\", \"see\", \"seem\", \"sellin\", \"sense\", \"sent\", \"shake_shake\", \"shawty\", \"shawty\", \"shit\", \"shit\", \"shit\", \"shit\", \"shot\", \"shot\", \"shot\", \"shot\", \"shot\", \"shut_mouth\", \"si\", \"side\", \"side\", \"side\", \"side\", \"side\", \"silent\", \"sing\", \"singin\", \"singing\", \"sip\", \"sip\", \"sittin\", \"skrrt\", \"slatt\", \"sleep\", \"sleep\", \"sleep\", \"sleep\", \"sleep\", \"slide\", \"slime\", \"slowly\", \"smoke\", \"smoke\", \"smoke\", \"smoke\", \"smokin\", \"snow\", \"sold\", \"solo\", \"someone\", \"someone\", \"something\", \"something\", \"something\", \"sometimes\", \"somewhere\", \"sorry\", \"space\", \"spirit\", \"spit\", \"splish\", \"squad\", \"stand\", \"stand\", \"stand\", \"stand\", \"stand\", \"star_closer\", \"start\", \"start\", \"start\", \"start\", \"start\", \"stay\", \"stay\", \"stay\", \"stick\", \"stick\", \"still\", \"still\", \"still\", \"still\", \"still\", \"still\", \"straight\", \"straight\", \"straight\", \"straight\", \"straight\", \"straight\", \"stranger\", \"suck\", \"sugar\", \"suicide\", \"suit\", \"sun\", \"superman\", \"surf\", \"surf_surf\", \"ta_ta\", \"tag\", \"take\", \"take\", \"take\", \"take\", \"take\", \"take\", \"take\", \"take\", \"take\", \"take\", \"talk\", \"talk\", \"talk\", \"talkin\", \"talkin\", \"talkin\", \"taste\", \"taste\", \"taste\", \"taste\", \"taste\", \"taste_taste\", \"te\", \"team\", \"tell\", \"tell\", \"tell\", \"tell\", \"tell\", \"tell\", \"telling\", \"test\", \"th_thunder\", \"thank_next\", \"thing\", \"thing\", \"thing\", \"thing\", \"thing\", \"think\", \"think\", \"think\", \"think\", \"think\", \"think\", \"think\", \"think\", \"three\", \"three\", \"three\", \"three\", \"three\", \"thriller\", \"throat\", \"throw\", \"throw\", \"throw\", \"thun\", \"thunder\", \"thunder_th\", \"thunder_thun\", \"thunder_thunder\", \"thundercloud\", \"til\", \"til\", \"til\", \"til\", \"time\", \"time\", \"time\", \"time\", \"tired\", \"tired\", \"tired\", \"tonight\", \"tonight\", \"tonight\", \"tonight\", \"top\", \"top\", \"top\", \"top\", \"top_glisten\", \"totally\", \"tough\", \"tough\", \"treat\", \"tree\", \"trembling\", \"tryna\", \"tryna\", \"tryna\", \"tryna\", \"tryna\", \"tryna\", \"turnin\", \"turnin\", \"two\", \"two\", \"two\", \"two\", \"two\", \"two\", \"uh\", \"uh\", \"uh\", \"uh\", \"uishi_kwa\", \"un\", \"used\", \"used\", \"used\", \"used\", \"used\", \"vibe\", \"vibe\", \"vibin\", \"wait\", \"wait\", \"wait\", \"wait\", \"wait\", \"waitin\", \"waiting\", \"wanna\", \"wanna\", \"wanna\", \"wanna\", \"wanna\", \"wanna\", \"wanna\", \"want\", \"want\", \"want\", \"want\", \"want\", \"waste\", \"watching\", \"way\", \"way\", \"way\", \"way\", \"way\", \"whack\", \"whatever\", \"whatever\", \"whatever\", \"wherever\", \"whip\", \"whip\", \"winner\", \"wish\", \"wish\", \"wishin\", \"wishin\", \"woah\", \"woah\", \"woah\", \"wolf\", \"woman\", \"woman\", \"woman\", \"woo\", \"woo\", \"woo\", \"woo\", \"work\", \"work\", \"work\", \"work\", \"work\", \"work\", \"workin\", \"world\", \"world\", \"world\", \"world\", \"worship\", \"wow\", \"wrapped\", \"wrist\", \"wrist\", \"ya\", \"ya\", \"ya\", \"ya\", \"ya\", \"yah\", \"yeah\", \"yeah\", \"yeah\", \"yeah\", \"year\", \"year\", \"yo\", \"yo\", \"yo\", \"yo\", \"young\", \"young\", \"young\", \"young\", \"young\", \"young\", \"young\", \"youngin\"]}, \"R\": 30, \"lambda.step\": 0.01, \"plot.opts\": {\"xlab\": \"PC1\", \"ylab\": \"PC2\"}, \"topic.order\": [10, 3, 9, 1, 2, 5, 4, 8, 7, 6]};\n",
       "\n",
       "function LDAvis_load_lib(url, callback){\n",
       "  var s = document.createElement('script');\n",
       "  s.src = url;\n",
       "  s.async = true;\n",
       "  s.onreadystatechange = s.onload = callback;\n",
       "  s.onerror = function(){console.warn(\"failed to load library \" + url);};\n",
       "  document.getElementsByTagName(\"head\")[0].appendChild(s);\n",
       "}\n",
       "\n",
       "if(typeof(LDAvis) !== \"undefined\"){\n",
       "   // already loaded: just create the visualization\n",
       "   !function(LDAvis){\n",
       "       new LDAvis(\"#\" + \"ldavis_el1398818424965890409861198796\", ldavis_el1398818424965890409861198796_data);\n",
       "   }(LDAvis);\n",
       "}else if(typeof define === \"function\" && define.amd){\n",
       "   // require.js is available: use it to load d3/LDAvis\n",
       "   require.config({paths: {d3: \"https://d3js.org/d3.v5\"}});\n",
       "   require([\"d3\"], function(d3){\n",
       "      window.d3 = d3;\n",
       "      LDAvis_load_lib(\"https://cdn.jsdelivr.net/gh/bmabey/pyLDAvis@3.3.1/pyLDAvis/js/ldavis.v3.0.0.js\", function(){\n",
       "        new LDAvis(\"#\" + \"ldavis_el1398818424965890409861198796\", ldavis_el1398818424965890409861198796_data);\n",
       "      });\n",
       "    });\n",
       "}else{\n",
       "    // require.js not available: dynamically load d3 & LDAvis\n",
       "    LDAvis_load_lib(\"https://d3js.org/d3.v5.js\", function(){\n",
       "         LDAvis_load_lib(\"https://cdn.jsdelivr.net/gh/bmabey/pyLDAvis@3.3.1/pyLDAvis/js/ldavis.v3.0.0.js\", function(){\n",
       "                 new LDAvis(\"#\" + \"ldavis_el1398818424965890409861198796\", ldavis_el1398818424965890409861198796_data);\n",
       "            })\n",
       "         });\n",
       "}\n",
       "</script>"
      ],
      "text/plain": [
       "PreparedData(topic_coordinates=              x         y  topics  cluster       Freq\n",
       "topic                                                \n",
       "9     -0.159147  0.177373       1        1  25.572801\n",
       "2     -0.098027  0.242633       2        1  17.439113\n",
       "8     -0.170246  0.091091       3        1  14.762039\n",
       "0     -0.149274 -0.222368       4        1  13.437047\n",
       "1     -0.139642 -0.172902       5        1  11.230218\n",
       "4     -0.166846 -0.119018       6        1  10.117474\n",
       "3      0.178884  0.068309       7        1   2.789111\n",
       "7      0.184468  0.064577       8        1   2.517811\n",
       "6      0.249937 -0.059969       9        1   1.485302\n",
       "5      0.269893 -0.069726      10        1   0.649084, topic_info=          Term          Freq         Total Category  logprob  loglift\n",
       "248       yeah  15123.000000  15123.000000  Default  30.0000  30.0000\n",
       "195        ooh   5555.000000   5555.000000  Default  29.0000  29.0000\n",
       "57          oh   7817.000000   7817.000000  Default  28.0000  28.0000\n",
       "528         la   2593.000000   2593.000000  Default  27.0000  27.0000\n",
       "135        ayy   3183.000000   3183.000000  Default  26.0000  26.0000\n",
       "..         ...           ...           ...      ...      ...      ...\n",
       "644       feel     32.716906   2908.559502  Topic10  -4.7528   0.5498\n",
       "117  something     21.539919    670.643801  Topic10  -5.1708   1.5990\n",
       "33        give     19.528856   1847.622295  Topic10  -5.2688   0.4876\n",
       "325      never     19.082694   3385.448972  Topic10  -5.2919  -0.1411\n",
       "57          oh     16.885517   7817.956896  Topic10  -5.4142  -1.1004\n",
       "\n",
       "[630 rows x 6 columns], token_table=      Topic      Freq      Term\n",
       "term                           \n",
       "88       10  0.902634  achilles\n",
       "616       1  0.994894     admit\n",
       "1015      1  0.994758    afraid\n",
       "886       3  0.062000        ah\n",
       "886       6  0.016047        ah\n",
       "...     ...       ...       ...\n",
       "615       4  0.235041     young\n",
       "615       5  0.071059     young\n",
       "615       8  0.010932     young\n",
       "615      10  0.005466     young\n",
       "3676      6  0.993150   youngin\n",
       "\n",
       "[1170 rows x 3 columns], R=30, lambda_step=0.01, plot_opts={'xlab': 'PC1', 'ylab': 'PC2'}, topic_order=[10, 3, 9, 1, 2, 5, 4, 8, 7, 6])"
      ]
     },
     "execution_count": 21,
     "metadata": {},
     "output_type": "execute_result"
    }
   ],
   "source": [
    "pyLDAvis.enable_notebook()\n",
    "vis = pyLDAvis.gensim_models.prepare(lda_model, corpus, id2word)\n",
    "vis"
   ]
  },
  {
   "cell_type": "markdown",
   "metadata": {},
   "source": [
    "# Code for Covid Dataset"
   ]
  },
  {
   "cell_type": "code",
   "execution_count": 22,
   "metadata": {},
   "outputs": [
    {
     "name": "stdout",
     "output_type": "stream",
     "text": [
      "['yeah', 'tryna', 'call', 'long', 'enough', 'maybe', 'show', 'love', 'maybe', 'going', 'withdrawal', 'even', 'much', 'turn', 'touch', 'baby', 'look', 'around', 'sin', 'city', 'cold', 'empty', 'oh', 'one', 'around', 'judge', 'oh', 'see', 'clearly', 'gone', 'said', 'ooh', 'blinded_light_sleep', 'feel', 'touch', 'said', 'ooh', 'drowning', 'night', 'oh', 'like', 'one', 'trust', 'hey', 'hey', 'hey', 'running', 'time', 'cause', 'see', 'sun', 'light', 'sky', 'hit', 'road', 'overdrive', 'baby', 'oh', 'city', 'cold', 'empty', 'oh', 'one', 'around', 'judge', 'oh', 'see', 'clearly', 'gone', 'said', 'ooh', 'blinded_light_sleep', 'feel', 'touch', 'said', 'ooh', 'drowning', 'night', 'oh', 'like', 'one', 'trust', 'calling', 'back', 'let', 'know', 'back', 'let', 'know', 'could', 'never', 'say', 'phone', 'say', 'phone', 'never', 'let', 'go', 'time', 'ooh', 'said', 'ooh', 'blinded_light_sleep', 'feel', 'touch', 'hey', 'hey', 'hey', 'hey', 'hey', 'hey', 'said', 'ooh', 'blinded_light_sleep', 'feel', 'touch']\n"
     ]
    }
   ],
   "source": [
    "# Build the bigram and trigram models\n",
    "bigram = gensim.models.Phrases(datawordscov, min_count=5, threshold=100) # higher threshold fewer phrases.\n",
    "trigram = gensim.models.Phrases(bigram[datawordscov], threshold=100)\n",
    "# Faster way to get a sentence clubbed as a trigram/bigram\n",
    "bigram_mod = gensim.models.phrases.Phraser(bigram)\n",
    "trigram_mod = gensim.models.phrases.Phraser(trigram)\n",
    "print(trigram_mod[bigram_mod[datawordscov][0]])"
   ]
  },
  {
   "cell_type": "code",
   "execution_count": 23,
   "metadata": {},
   "outputs": [],
   "source": [
    "# Form Bigrams\n",
    "data_words_bigrams = make_bigrams(datawordscov)"
   ]
  },
  {
   "cell_type": "code",
   "execution_count": 24,
   "metadata": {},
   "outputs": [
    {
     "name": "stdout",
     "output_type": "stream",
     "text": [
      "[[(0, 3), (1, 2), (2, 2), (3, 4), (4, 1), (5, 1), (6, 1), (7, 2), (8, 2), (9, 2), (10, 1), (11, 2), (12, 2), (13, 1), (14, 1), (15, 4), (16, 1), (17, 1), (18, 2), (19, 9), (20, 1), (21, 2), (22, 2), (23, 3), (24, 1), (25, 2), (26, 1), (27, 1), (28, 1), (29, 2), (30, 1), (31, 2), (32, 2), (33, 7), (34, 4), (35, 7), (36, 1), (37, 2), (38, 1), (39, 1), (40, 6), (41, 2), (42, 3), (43, 1), (44, 1), (45, 1), (46, 4), (47, 1), (48, 2), (49, 5), (50, 2), (51, 1), (52, 1), (53, 1), (54, 1)]]\n"
     ]
    },
    {
     "data": {
      "text/plain": [
       "[[('around', 3),\n",
       "  ('baby', 2),\n",
       "  ('back', 2),\n",
       "  ('blinded_light', 4),\n",
       "  ('call', 1),\n",
       "  ('calling', 1),\n",
       "  ('cause', 1),\n",
       "  ('city', 2),\n",
       "  ('clearly', 2),\n",
       "  ('cold', 2),\n",
       "  ('could', 1),\n",
       "  ('drowning', 2),\n",
       "  ('empty', 2),\n",
       "  ('enough', 1),\n",
       "  ('even', 1),\n",
       "  ('feel', 4),\n",
       "  ('go', 1),\n",
       "  ('going', 1),\n",
       "  ('gone', 2),\n",
       "  ('hey', 9),\n",
       "  ('hit', 1),\n",
       "  ('judge', 2),\n",
       "  ('know', 2),\n",
       "  ('let', 3),\n",
       "  ('light', 1),\n",
       "  ('like', 2),\n",
       "  ('long', 1),\n",
       "  ('look', 1),\n",
       "  ('love', 1),\n",
       "  ('maybe', 2),\n",
       "  ('much', 1),\n",
       "  ('never', 2),\n",
       "  ('night', 2),\n",
       "  ('oh', 7),\n",
       "  ('one', 4),\n",
       "  ('ooh', 7),\n",
       "  ('overdrive', 1),\n",
       "  ('phone', 2),\n",
       "  ('road', 1),\n",
       "  ('running', 1),\n",
       "  ('said', 6),\n",
       "  ('say', 2),\n",
       "  ('see', 3),\n",
       "  ('show', 1),\n",
       "  ('sin', 1),\n",
       "  ('sky', 1),\n",
       "  ('sleep', 4),\n",
       "  ('sun', 1),\n",
       "  ('time', 2),\n",
       "  ('touch', 5),\n",
       "  ('trust', 2),\n",
       "  ('tryna', 1),\n",
       "  ('turn', 1),\n",
       "  ('withdrawal', 1),\n",
       "  ('yeah', 1)]]"
      ]
     },
     "execution_count": 24,
     "metadata": {},
     "output_type": "execute_result"
    }
   ],
   "source": [
    "# Create Dictionary \n",
    "id2word = corpora.Dictionary(data_words_bigrams)  \n",
    "# Create Corpus \n",
    "texts = data_words_bigrams\n",
    "# Term Document Frequency \n",
    "corpus = [id2word.doc2bow(text) for text in texts]  \n",
    "# View \n",
    "print(corpus[:1])\n",
    "#read corpus\n",
    "[[(id2word[id], freq) for id, freq in cp] for cp in corpus[:1]]"
   ]
  },
  {
   "cell_type": "markdown",
   "metadata": {},
   "source": [
    "### Finding optimal number of topics for Covid\n",
    "Code acquired from and credited to: https://www.machinelearningplus.com/nlp/topic-modeling-gensim-python/#11createthedictionaryandcorpusneededfortopicmodeling"
   ]
  },
  {
   "cell_type": "code",
   "execution_count": 25,
   "metadata": {},
   "outputs": [],
   "source": [
    "model_list, coherence_values = compute_coherence_values(corpus=corpus, texts=datawordscov, start=6, limit=18, step=1)"
   ]
  },
  {
   "cell_type": "code",
   "execution_count": 26,
   "metadata": {},
   "outputs": [
    {
     "data": {
      "image/png": "[encoded data removed]",
      "text/plain": [
       "<Figure size 432x288 with 1 Axes>"
      ]
     },
     "metadata": {
      "needs_background": "light"
     },
     "output_type": "display_data"
    }
   ],
   "source": [
    "# Show graph\n",
    "limit=18; start=6; step=1;\n",
    "x = range(start, limit, step)\n",
    "plt.plot(x, coherence_values)\n",
    "plt.xlabel(\"Num Topics\")\n",
    "plt.ylabel(\"Coherence score\")\n",
    "plt.legend((\"coherence_values\"), loc='best')\n",
    "plt.show()"
   ]
  },
  {
   "cell_type": "code",
   "execution_count": 27,
   "metadata": {},
   "outputs": [
    {
     "name": "stdout",
     "output_type": "stream",
     "text": [
      "Num Topics = 6  has Coherence Value of -4.5784\n",
      "Num Topics = 7  has Coherence Value of -6.5499\n",
      "Num Topics = 8  has Coherence Value of -6.253\n",
      "Num Topics = 9  has Coherence Value of -6.3762\n",
      "Num Topics = 10  has Coherence Value of -5.9393\n",
      "Num Topics = 11  has Coherence Value of -6.5545\n",
      "Num Topics = 12  has Coherence Value of -5.9665\n",
      "Num Topics = 13  has Coherence Value of -5.0258\n",
      "Num Topics = 14  has Coherence Value of -4.2359\n",
      "Num Topics = 15  has Coherence Value of -4.2431\n",
      "Num Topics = 16  has Coherence Value of -3.7483\n",
      "Num Topics = 17  has Coherence Value of -4.5914\n"
     ]
    }
   ],
   "source": [
    "for m, cv in zip(x, coherence_values):\n",
    "    print(\"Num Topics =\", m, \" has Coherence Value of\", round(cv, 4))"
   ]
  },
  {
   "cell_type": "code",
   "execution_count": 28,
   "metadata": {},
   "outputs": [
    {
     "name": "stdout",
     "output_type": "stream",
     "text": [
      "Hence, optimal value is Num Topics = 11\n"
     ]
    }
   ],
   "source": [
    "print(\"Hence, optimal value is Num Topics = 11\")"
   ]
  },
  {
   "cell_type": "markdown",
   "metadata": {},
   "source": [
    "### Running Topic Modelling with Optimal Number of Topics for Covid"
   ]
  },
  {
   "cell_type": "code",
   "execution_count": 29,
   "metadata": {},
   "outputs": [],
   "source": [
    "#topic model for 2017 data\n",
    "lda_model = gensim.models.ldamodel.LdaModel(corpus=corpus,\n",
    "                                           id2word=id2word,\n",
    "                                           num_topics=11, \n",
    "                                           random_state=100,\n",
    "                                           update_every=1,\n",
    "                                           chunksize=100,\n",
    "                                           passes=10,\n",
    "                                           alpha='auto',\n",
    "                                           per_word_topics=True)"
   ]
  },
  {
   "cell_type": "code",
   "execution_count": 30,
   "metadata": {},
   "outputs": [
    {
     "name": "stdout",
     "output_type": "stream",
     "text": [
      "[(0, '0.072*\"ride\" + 0.059*\"turn\" + 0.026*\"highway_hell\" + 0.020*\"raised\" + 0.014*\"wheel\" + 0.013*\"giddy_yap\" + 0.012*\"know\" + 0.011*\"ring_ling\" + 0.008*\"order\" + 0.008*\"tell\"'), (1, '0.084*\"mm_mm\" + 0.022*\"mmh_mmh\" + 0.021*\"seven_summer\" + 0.021*\"ago\" + 0.020*\"baow\" + 0.019*\"mm\" + 0.019*\"hmm\" + 0.013*\"golden\" + 0.013*\"thriller\" + 0.011*\"hero\"'), (2, '0.042*\"like\" + 0.021*\"call\" + 0.021*\"never\" + 0.019*\"think\" + 0.018*\"back\" + 0.017*\"cause\" + 0.010*\"man\" + 0.009*\"everybody\" + 0.008*\"talk\" + 0.008*\"heartless\"'), (3, '0.032*\"baby\" + 0.025*\"run\" + 0.024*\"tonight\" + 0.024*\"like\" + 0.023*\"come\" + 0.017*\"night\" + 0.015*\"na_na\" + 0.014*\"christmas\" + 0.013*\"mmm\" + 0.012*\"kiss\"'), (4, '0.045*\"high\" + 0.036*\"let\" + 0.030*\"low\" + 0.019*\"dreaming\" + 0.017*\"telling\" + 0.012*\"patient\" + 0.012*\"come\" + 0.011*\"light\" + 0.009*\"running\" + 0.009*\"di\"'), (5, '0.198*\"la\" + 0.022*\"prove\" + 0.015*\"warnin\" + 0.015*\"body\" + 0.014*\"ting\" + 0.011*\"lo\" + 0.011*\"mi\" + 0.010*\"ah\" + 0.010*\"sexy\" + 0.009*\"kiss\"'), (6, '0.197*\"oh\" + 0.134*\"ooh\" + 0.048*\"ah\" + 0.027*\"hey\" + 0.019*\"woah\" + 0.018*\"know\" + 0.015*\"boy\" + 0.013*\"yeah\" + 0.012*\"love\" + 0.011*\"stop\"'), (7, '0.030*\"know\" + 0.026*\"love\" + 0.017*\"go\" + 0.015*\"one\" + 0.013*\"wanna\" + 0.013*\"cause\" + 0.013*\"time\" + 0.013*\"feel\" + 0.012*\"like\" + 0.012*\"get\"'), (8, '0.031*\"like\" + 0.027*\"nigga\" + 0.025*\"got\" + 0.021*\"get\" + 0.019*\"bitch\" + 0.019*\"shit\" + 0.016*\"uh\" + 0.014*\"fuck\" + 0.013*\"gon\" + 0.011*\"ayy\"'), (9, '0.385*\"yeah\" + 0.011*\"got\" + 0.010*\"way\" + 0.010*\"get\" + 0.009*\"war\" + 0.009*\"want\" + 0.008*\"uh\" + 0.008*\"need\" + 0.008*\"da\" + 0.007*\"stop\"'), (10, '0.037*\"happier\" + 0.032*\"friend\" + 0.027*\"ghost\" + 0.021*\"wreck\" + 0.021*\"hate\" + 0.019*\"scare\" + 0.018*\"sugar\" + 0.016*\"power\" + 0.016*\"best\" + 0.015*\"le\"')]\n"
     ]
    }
   ],
   "source": [
    "print(lda_model.print_topics())\n",
    "doc_lda = lda_model[corpus]"
   ]
  },
  {
   "cell_type": "code",
   "execution_count": 31,
   "metadata": {},
   "outputs": [
    {
     "name": "stdout",
     "output_type": "stream",
     "text": [
      "-7.90619845539715 -6.554526410580411\n"
     ]
    }
   ],
   "source": [
    "# Perplexity\n",
    "perplexity = lda_model.log_perplexity(corpus)\n",
    "# Coherence\n",
    "coherence_model = gensim.models.coherencemodel.CoherenceModel(model=lda_model, corpus=corpus, \n",
    "                                                              texts = datawordscov, coherence='u_mass')\n",
    "coherence = coherence_model.get_coherence()\n",
    "print(perplexity, coherence)"
   ]
  },
  {
   "cell_type": "markdown",
   "metadata": {},
   "source": [
    "### Visualising outcomes of Covid Data"
   ]
  },
  {
   "cell_type": "code",
   "execution_count": 32,
   "metadata": {},
   "outputs": [
    {
     "name": "stderr",
     "output_type": "stream",
     "text": [
      "C:\\Users\\Djulian\\Anaconda3\\lib\\site-packages\\pyLDAvis\\_prepare.py:247: FutureWarning: In a future version of pandas all arguments of DataFrame.drop except for the argument 'labels' will be keyword-only\n",
      "  by='saliency', ascending=False).head(R).drop('saliency', 1)\n",
      "C:\\Users\\Djulian\\Anaconda3\\lib\\site-packages\\joblib\\numpy_pickle.py:104: DeprecationWarning: tostring() is deprecated. Use tobytes() instead.\n",
      "  pickler.file_handle.write(chunk.tostring('C'))\n",
      "C:\\Users\\Djulian\\Anaconda3\\lib\\site-packages\\joblib\\numpy_pickle.py:104: DeprecationWarning: tostring() is deprecated. Use tobytes() instead.\n",
      "  pickler.file_handle.write(chunk.tostring('C'))\n"
     ]
    },
    {
     "data": {
      "text/html": [
       "\n",
       "<link rel=\"stylesheet\" type=\"text/css\" href=\"https://cdn.jsdelivr.net/gh/bmabey/pyLDAvis@3.3.1/pyLDAvis/js/ldavis.v1.0.0.css\">\n",
       "\n",
       "\n",
       "<div id=\"ldavis_el1398818424968108242233953183\"></div>\n",
       "<script type=\"text/javascript\">\n",
       "\n",
       "var ldavis_el1398818424968108242233953183_data = {\"mdsDat\": {\"x\": [-0.2585887089837676, -0.19127022103534555, -0.15573266138999128, -0.1348163409459666, -0.1585800442375666, -0.1234808999012269, 0.1927713984439084, 0.1999469747646698, 0.2187313187806803, 0.19010673158231325, 0.22091245292229275], \"y\": [0.026366877236458176, 0.1489906446976622, 0.1767477931166047, -0.12607088693520987, -0.2631141248812464, 0.01540947794155895, -0.12215675013686916, 0.030766752761941896, 0.0516969229064219, 0.046883430038626495, 0.014479863254051241], \"topics\": [1, 2, 3, 4, 5, 6, 7, 8, 9, 10, 11], \"cluster\": [1, 1, 1, 1, 1, 1, 1, 1, 1, 1, 1], \"Freq\": [34.888085676201506, 27.817621398011354, 9.20319367659751, 8.46782847557137, 8.071692619402949, 6.720908246323844, 2.049340472206388, 0.993181722855103, 0.8122423359149412, 0.5016344345567864, 0.4742709423582499]}, \"tinfo\": {\"Term\": [\"yeah\", \"oh\", \"ooh\", \"la\", \"let\", \"know\", \"nigga\", \"ah\", \"like\", \"come\", \"love\", \"baby\", \"fuck\", \"tell\", \"get\", \"go\", \"never\", \"bitch\", \"run\", \"got\", \"shit\", \"friend\", \"turn\", \"think\", \"high\", \"hey\", \"tonight\", \"uh\", \"girl\", \"could\", \"without\", \"hope\", \"sometimes\", \"found\", \"waitin\", \"fine\", \"smile\", \"forget\", \"thinkin\", \"matter\", \"living\", \"bone\", \"ohh_ohh\", \"wake\", \"thinking\", \"spendin\", \"tired\", \"livin_gangsta\", \"grow\", \"ground\", \"tryin\", \"understand\", \"kind\", \"hide\", \"fell\", \"promise\", \"part\", \"tight\", \"trying\", \"mistake\", \"would\", \"lord\", \"mind\", \"bed\", \"could\", \"change\", \"someone\", \"love\", \"long\", \"last\", \"heart\", \"always\", \"maybe\", \"find\", \"tell\", \"know\", \"time\", \"feel\", \"lie\", \"leave\", \"alone\", \"wanna\", \"hold\", \"one\", \"stay\", \"home\", \"go\", \"cause\", \"better\", \"life\", \"way\", \"want\", \"need\", \"take\", \"good\", \"every\", \"never\", \"day\", \"let\", \"say\", \"thing\", \"get\", \"right\", \"see\", \"make\", \"like\", \"got\", \"baby\", \"lil\", \"pop\", \"pussy\", \"da_da\", \"gang\", \"hoe\", \"smoke\", \"roof\", \"nigga\", \"gun\", \"rich\", \"big\", \"block\", \"whip\", \"dick\", \"glock\", \"neck\", \"cash\", \"bro\", \"brother\", \"wrist\", \"shoot\", \"dollar\", \"chain\", \"mimi\", \"bae\", \"crib\", \"motherfucker\", \"band\", \"guap\", \"bitch\", \"ho\", \"drop\", \"shit\", \"gon\", \"huh\", \"bag\", \"em\", \"rack\", \"fuck\", \"shot\", \"fact\", \"woo\", \"hit\", \"uh\", \"yo\", \"hundred\", \"ayy\", \"fuckin\", \"playin\", \"as\", \"money\", \"got\", \"pull\", \"get\", \"put\", \"like\", \"two\", \"top\", \"back\", \"man\", \"tryna\", \"go\", \"gotta\", \"see\", \"play\", \"know\", \"look\", \"keep\", \"wanna\", \"one\", \"let\", \"heartless\", \"doo_doo\", \"enemy\", \"father\", \"anymore\", \"anyone\", \"sister\", \"bleed\", \"callin\", \"loving\", \"saved_save\", \"across\", \"doubt\", \"girlfriend\", \"sympathy\", \"grid_grid\", \"risk\", \"jesus_lord\", \"seein\", \"lik\\u0435\", \"small\", \"pity\", \"spotlight\", \"saint\", \"enemy_spare\", \"wonderin\", \"kid_kid\", \"wing\", \"men\", \"ceilin\", \"job\", \"seven\", \"finger\", \"bet\", \"call\", \"sign\", \"everybody\", \"bottle\", \"mad\", \"think\", \"wanted\", \"feelin\", \"talk\", \"hell\", \"sleep\", \"rather\", \"moon\", \"name\", \"loved\", \"bad\", \"kinda\", \"like\", \"never\", \"back\", \"man\", \"lost\", \"cause\", \"many\", \"turn\", \"red\", \"thought\", \"dead\", \"much\", \"say\", \"life\", \"said\", \"goin\", \"look\", \"see\", \"god\", \"tonight\", \"na_na\", \"christmas\", \"ha_ha\", \"dancing\", \"santa\", \"snow\", \"little_bit\", \"lead\", \"born\", \"watching\", \"train\", \"speak\", \"rip\", \"merry_christmas\", \"magic\", \"na\", \"fight_fight\", \"strike\", \"moonlight\", \"tv\", \"staring\", \"sight\", \"glow\", \"stressed\", \"hoo\", \"patience\", \"cheek\", \"ice_cream\", \"singing\", \"started\", \"mmm\", \"loud\", \"leg\", \"tree\", \"run\", \"kiss\", \"diamond\", \"fly\", \"clear\", \"baby\", \"shine\", \"come\", \"night\", \"year\", \"music\", \"sweet\", \"please\", \"fire\", \"light\", \"away\", \"look\", \"like\", \"little\", \"oh\", \"star\", \"give\", \"let\", \"gonna\", \"every\", \"good\", \"ooh\", \"jesus\", \"paradise\", \"holdin\", \"shut\", \"ceiling\", \"shame\", \"santa_claus\", \"knowin\", \"burnin\", \"misery\", \"cave\", \"sunset\", \"escape\", \"\\uc2f6\\uc5b4\", \"\\ub208\\uc744\", \"universe\", \"christ\", \"quiet\", \"layin\", \"final\", \"slowly\", \"rain_rain\", \"\\ub098\\ub97c\", \"whoa\", \"drowning\", \"fruit\", \"chokin\", \"salt\", \"mu\", \"ah\", \"oh\", \"babe\", \"hey\", \"control\", \"dancin\", \"comin\", \"woah\", \"boy\", \"skin\", \"cryin\", \"stop\", \"ya\", \"town\", \"coming\", \"touch\", \"move\", \"lose\", \"dance\", \"ever\", \"know\", \"rain\", \"baby\", \"red\", \"feel\", \"love\", \"say\", \"yeah\", \"see\", \"want\", \"keep\", \"somebody\", \"never\", \"got\", \"need\", \"let\", \"ayy\", \"da\", \"mya\", \"hm\", \"rollin\", \"savin\", \"plane\", \"wee\", \"rocket\", \"changin\", \"thirty_five\", \"ba_ba\", \"cake\", \"shining\", \"sixty\", \"brr\", \"aw\", \"floatin\", \"blast\", \"ba\", \"duh_duh\", \"rest_rest\", \"pipe\", \"social\", \"bill\", \"til_daylight\", \"split\", \"geekin\", \"mhm\", \"popstar_doctor\", \"goosebump_every\", \"yeah\", \"nah_nah\", \"war\", \"chick\", \"hatin\", \"fresh\", \"fiji\", \"grew\", \"busy\", \"stop\", \"way\", \"dead\", \"hey\", \"head\", \"want\", \"ride\", \"uh\", \"bout\", \"got\", \"need\", \"get\", \"girl\", \"actin\", \"stay\", \"spend\", \"time\", \"like\", \"take\", \"play\", \"go\", \"come\", \"see\", \"thing\", \"never\", \"let\", \"la\", \"prove\", \"warnin\", \"ting\", \"lo\", \"mi\", \"sexy\", \"bright\", \"este\", \"crime_lettin\", \"que\", \"field\", \"superstar\", \"bother\", \"terrifying\", \"pew\", \"buck\", \"fi\", \"de\", \"whiskey\", \"dey\", \"callin_phone\", \"dolla\", \"woh\", \"lalisa\", \"mistress\", \"todo\", \"si\", \"purple\", \"joint\", \"body\", \"breakin\", \"kiss\", \"ah\", \"savage\", \"gonna\", \"girl\", \"like\", \"mm_mm\", \"mmh_mmh\", \"seven_summer\", \"ago\", \"baow\", \"golden\", \"thriller\", \"hero\", \"hometown\", \"born_choker\", \"status\", \"circumstance\", \"luck\", \"junya_watanabe\", \"coke_southern\", \"comfort_dumb\", \"east_tennessee\", \"river_sippin\", \"sixer\", \"wonder_drinking\", \"passion\", \"mob\", \"lasted\", \"secondhand\", \"ol\", \"buried\", \"eventually\", \"search\", \"cell\", \"co\", \"hmm\", \"mm\", \"foot\", \"dance\", \"happier\", \"ghost\", \"wreck\", \"scare\", \"sugar\", \"power\", \"reminds\", \"raise_spirit\", \"eh\", \"hook\", \"rainy\", \"sunshine\", \"hennessy\", \"art\", \"dirt\", \"strawberry\", \"fakin\", \"tragic\", \"maniac_maniac\", \"wonderful\", \"belly\", \"fence\", \"patch\", \"lonely_lonely\", \"relax\", \"jealousy\", \"television\", \"glory\", \"heat_wave\", \"wrecked_along\", \"le\", \"friend\", \"hate\", \"eh_eh\", \"tellin\", \"fucked\", \"best\", \"fuck\", \"hot\", \"girl\", \"go\", \"day\", \"turn\", \"highway_hell\", \"raised\", \"wheel\", \"giddy_yap\", \"ring_ling\", \"order\", \"everythin\", \"lovely_weather\", \"bird_feather\", \"suh\", \"silly\", \"rosy_comfy\", \"snuggled_together\", \"ding_ring\", \"dong_ding\", \"ling_ding\", \"due\", \"boogie\", \"heh\", \"touching\", \"popping\", \"handle_behavior\", \"wink\", \"stride\", \"yoo\", \"whispering\", \"suh_suh\", \"tingle\", \"apply\", \"aerobics_might\", \"ride\", \"turn\", \"raw\", \"rose\", \"lit\", \"know\", \"tell\", \"nobody\", \"already\", \"nigga\", \"never\", \"like\", \"might\", \"get\", \"fuck\", \"dreaming\", \"telling\", \"patient\", \"di\", \"hello_hello\", \"oooooh\", \"heartbeat\", \"butterfly\", \"ahh\", \"bout_revolution\", \"wondering\", \"purse\", \"depressed\", \"created\", \"followed\", \"kanye\", \"keeping_feeling\", \"pretending\", \"resolution_getting\", \"adrenaline\", \"bittersweet\", \"strung\", \"riot\", \"shoulder_knee\", \"toe_bone\", \"assured\", \"worship\", \"defeated\", \"arrived\", \"denial_denial\", \"cheer\", \"high\", \"low\", \"running\", \"let\", \"light\", \"shawty\", \"come\", \"get\", \"hold\", \"keep\"], \"Freq\": [10410.0, 6251.0, 3977.0, 1482.0, 2338.0, 5217.0, 2777.0, 1477.0, 7180.0, 2018.0, 3722.0, 2393.0, 1566.0, 1813.0, 4113.0, 3366.0, 2486.0, 2019.0, 1089.0, 4284.0, 2040.0, 550.0, 460.0, 1354.0, 407.0, 1020.0, 757.0, 1979.0, 1339.0, 1272.0, 498.8671089642059, 325.03303424956437, 291.2474156646224, 282.7474697220413, 238.7210083492456, 218.3859513133295, 218.01573835469424, 208.63088880363702, 181.20227379829987, 167.88321068177265, 167.49629527136145, 165.54722594986936, 165.04704240290317, 164.16957034712667, 162.6315652739598, 156.1544405092028, 152.8018015678699, 135.57676775281877, 134.03048562095657, 130.99863462110318, 128.62354894525555, 126.97620659674207, 125.8256657712117, 124.70939018866746, 123.41165715268201, 122.5405115584352, 121.28153088058882, 120.79825745353787, 120.61665166571146, 118.75618247251204, 958.8668116401739, 281.94904506014916, 846.0858645400226, 206.6578041451776, 1233.3887836991705, 369.11228783006027, 398.7670904553599, 3346.747930224494, 736.585955373458, 534.6437606682191, 918.9093256218218, 593.8898788019437, 370.285879819054, 526.8913903602762, 1450.124425976282, 3775.08233568475, 1674.7665283207045, 1631.3280496174875, 342.5511174760586, 685.8480009072557, 496.0380162355115, 1717.2979125914162, 676.9476411252083, 1961.9335913835369, 578.3128696735781, 583.4007390866682, 2152.6240889659543, 1692.3052300267445, 793.657728754855, 971.5265580812695, 1249.2749216863372, 1463.3556158030042, 1270.190663340079, 1098.300303075623, 906.1827693736225, 723.9387876882291, 1383.5011641954702, 815.2076889060489, 1274.546472895225, 1107.7268939226815, 842.8973872628142, 1542.3605267194987, 899.0741702975399, 1086.0589189346056, 896.9081916045387, 1567.8786690103784, 1264.7255499184944, 865.1681338586753, 537.9021401503434, 345.84974004407974, 332.2613367073527, 315.887042444004, 302.8989679220131, 281.5436641821118, 272.92023253729695, 268.33978920396277, 2766.321044632354, 195.2635525259042, 183.90137347185484, 624.5757215848843, 201.36297276290992, 173.72480775372114, 171.39205520684223, 169.47518512405898, 164.2760688727605, 161.75124138298955, 156.1280463661531, 148.98876030069837, 147.58710996312837, 143.194247208259, 140.91403141607998, 140.46549384623773, 140.03087697884524, 135.23938775382598, 134.7813055732132, 133.17167260813355, 132.7738622199455, 127.60550871042425, 1978.2975418841067, 391.06836845615027, 339.6163167834923, 1962.580323700026, 1275.4695896921164, 674.8869616386016, 272.47053589452344, 1080.5552492822117, 201.74154017498435, 1443.6981918786212, 347.074809168757, 211.5286810427693, 892.5928863866174, 645.6312985265854, 1634.0841053098002, 285.12893695849874, 265.23534245764563, 1126.1307538843575, 471.1825432818285, 258.72184932959, 326.6245521517611, 573.6192327267077, 2503.1346592625546, 414.5621144450996, 2180.5323976913587, 825.9963404852114, 3137.8978749674957, 553.716957006145, 403.92736010087987, 905.8484229011304, 549.9046951716309, 498.85212153290894, 964.3165086084625, 539.7998500479366, 665.7606106143745, 473.24384804457463, 817.3750140953125, 545.5333817114628, 525.3796108193695, 553.0513179799156, 561.2527288050092, 514.7544602222944, 276.8262744831695, 146.14839477753955, 115.89533785359237, 100.47626229907809, 98.6349811348797, 100.1911889231223, 78.65423853455458, 75.51264807280397, 65.24134720080258, 60.96748867644115, 59.24469526716792, 56.77810662713271, 54.078936709563855, 53.882417092787456, 52.90188112861239, 51.86336321032481, 51.63926518805611, 50.93929489224218, 50.611151778878074, 49.30714866538023, 49.099708031332405, 45.37904540011517, 45.09955579042463, 43.13016886325623, 43.10403433285284, 42.776055562994785, 42.66516282581375, 42.26509595090678, 41.89536610462948, 41.62362411736726, 69.45667595936463, 71.98049135597262, 71.18301057989929, 118.50272583597003, 700.8733399020573, 152.98248643686267, 302.4449227951734, 148.52635139958295, 140.89805800842637, 639.0771138798674, 168.90298968011373, 216.86308897223154, 280.1871461372852, 102.33896290023233, 165.96471561299708, 95.00473482257713, 111.87463484854645, 244.81998538486334, 157.76441291019364, 249.462141619235, 126.00440429453296, 1407.3908305690234, 689.8324614335464, 592.0043756098726, 334.3409608785603, 240.25001507905608, 559.380154928799, 136.07272919773436, 199.30192103038797, 162.49418771093644, 186.77493901778885, 143.61669089264092, 185.4558867346651, 247.85504995116523, 208.86439662195156, 187.3647756869021, 158.0174079989437, 182.8176256507928, 194.18507814347905, 158.82427200662465, 756.9749548561165, 475.79482734720943, 437.75425647829337, 234.65002960286674, 220.22750832264757, 200.26775040658833, 181.3492233962365, 126.9869382872539, 114.06747793010172, 113.8148172066752, 113.50391829090711, 108.44582183741045, 106.37442729869946, 101.41760683126664, 91.12533843993496, 82.78615925841069, 81.58092822056035, 77.15664014568516, 75.26383408947368, 72.13102545352046, 71.1011138403898, 70.04180230894428, 67.80483791431067, 64.02919858828642, 61.79879391091581, 58.418620569150725, 58.21708387708242, 57.59540485491488, 57.285215195074784, 55.47115454829053, 180.90951352314912, 389.3974897312564, 73.22579978136586, 202.50727100278985, 88.69338986992825, 778.4974520011436, 376.70257188028376, 303.0208609482874, 229.1260852151798, 114.30503906285807, 1003.3749285945578, 99.46343033572191, 714.6744992762647, 537.9890980432361, 205.84940014459985, 121.64740044084638, 128.77375918606236, 227.5336940480241, 155.54528304028966, 253.10321271877407, 289.5814907939256, 361.83440745911247, 727.2244552963496, 201.51916588628816, 373.40007466362806, 156.52441624931635, 216.28116513586147, 251.49633400921093, 200.45941512020704, 176.1324120273599, 174.62900547703865, 3963.8339976911734, 176.4080168650498, 168.57639334208918, 83.57640186515624, 80.88871481070363, 77.86671674018218, 68.92332908784007, 62.94461374984049, 50.05086925330153, 49.891270696602476, 49.6742331324102, 44.0147423626728, 43.64629808684846, 42.74028414066833, 41.955373599902586, 41.93412010325411, 41.51285953267441, 40.427682007287075, 38.94236356550617, 36.78267816128085, 35.98899235958661, 35.7337033060283, 35.213618952227314, 34.909151373402956, 34.877753304480485, 34.59755239363632, 34.10306970058095, 33.40697221322484, 33.17411035175401, 32.63656127254625, 1401.586734613419, 5806.87726562364, 279.6390195960972, 793.7093579676073, 145.9187863078972, 65.86465818263663, 252.90091966201487, 561.4157847281696, 456.39972164499494, 74.91952631053647, 52.00428969562419, 318.7404566440271, 208.76725312376325, 111.09103517460487, 105.79965235860693, 133.13014589473562, 128.3852315569103, 115.93051092800457, 127.30257644715942, 216.2161970238791, 522.5834602578574, 102.71469342105611, 313.00096240038863, 123.72660785685814, 272.4559485996389, 343.63196987560065, 214.03796929083222, 379.658324873329, 218.34265861072126, 218.22653826313564, 182.49596824346935, 129.09093138297501, 170.83907223701647, 164.70510650641498, 145.5466493528554, 142.76371451122668, 131.3803238606428, 184.63610417585414, 160.23963136494493, 121.11272250265178, 96.5263831536392, 75.11855092936611, 72.93762323870692, 71.00377008225048, 67.23622062564553, 56.596270597059686, 53.111057746179284, 50.87231054537647, 42.918530254919155, 42.85310682481446, 40.92938651322159, 40.64330652713288, 40.40799077934117, 40.37635207140847, 40.161216287076, 39.44610490566437, 35.688771162648585, 35.52008187025417, 34.3945445511921, 33.36457201802177, 32.98942243960446, 32.479059676400354, 31.827328582375575, 31.088685340430544, 30.68770357995836, 30.473996566757247, 30.316754588667234, 9440.372303575044, 119.73428983579782, 230.0154641011492, 39.424370439214215, 79.29063121393354, 47.09472254280262, 40.2254824125643, 46.517264687270135, 41.358069288388464, 184.01818923696624, 254.71825401245164, 97.13129056014726, 166.1191960230016, 130.7975161695895, 221.26384086569036, 94.2694219784539, 204.4086163989404, 127.84678373861045, 274.9486016568689, 194.87174054968946, 253.61467119059395, 151.57030534665202, 55.122235996264585, 103.60531545019954, 74.12167445068245, 135.7866477982484, 182.31668284189055, 123.55828718226032, 105.42416396075105, 134.69708979381608, 107.11820645543652, 97.10104633283876, 92.118127001059, 93.50205186414188, 92.73688777245665, 1481.5879067156147, 162.4860723618706, 113.04634772331202, 105.71794192862654, 83.95348972473498, 81.9820220220891, 71.40383511201735, 61.61853055325174, 57.47419423385859, 56.14899322728224, 56.0441417909512, 49.9130582616367, 48.030186607107254, 45.90060179529934, 44.37957633713091, 41.850622706852555, 40.898013042834826, 37.6092838221102, 37.23428763009444, 36.35239448127273, 34.798154218283315, 33.021904526931614, 31.5873560611261, 31.221620282164842, 29.375797250431532, 28.17056512152002, 27.60525123464012, 27.57244072335105, 26.47731584668559, 26.2840008032227, 111.09445340407378, 33.408705393021734, 68.80539875887315, 74.45507325033824, 32.28079963002428, 46.80065330016694, 47.61667100030853, 33.39174249112627, 305.78866540492356, 81.11058153804267, 75.93617536424293, 74.38310896017634, 74.0949700671024, 46.64421885877787, 46.04359111669783, 39.97011484414907, 39.4580732416929, 36.160366952572424, 33.70377800220984, 28.93557490154409, 23.281312780829744, 23.004272913867773, 22.81573135372525, 22.81573135372525, 22.81573135372525, 22.81573135372525, 22.81573135372525, 22.81573135372525, 19.997078692632883, 19.407188510892794, 18.259338750002893, 18.103905089848308, 17.229911256760268, 16.535868259905836, 15.795748511672855, 14.871679845512912, 14.803563816595327, 13.923515431825907, 67.92704650432735, 69.3527688547288, 38.21186763078016, 20.417737018462994, 110.77981452443123, 79.69997445479734, 62.48299276591535, 55.987692765251175, 53.581526962979304, 47.775122165772686, 35.20543140935582, 31.950601042979805, 31.73260689804085, 26.570188935671503, 25.324863711791554, 24.71153502316032, 24.103814700465666, 22.937292543478385, 21.61107423850329, 20.46189104930812, 16.270889033766228, 14.641370022666543, 14.238276318514707, 13.01559728950282, 12.841706173937581, 12.439723092005702, 12.222169604390336, 11.999342042601112, 11.41036070712634, 11.160556352633785, 11.09195609135875, 10.812674662797043, 10.770875760118457, 10.033553145621068, 44.015489135751075, 95.72928105378888, 61.071955523689496, 20.007645179976077, 28.965074463007873, 31.95286372854732, 47.732907470447074, 36.00929535177148, 20.455851695644395, 23.36289430540625, 25.02231861556039, 21.46675413022978, 14.983447191896012, 47.414576874955735, 36.47626788708588, 25.895368265685125, 24.04930745165213, 20.81487817960918, 15.10387846121504, 12.043626344711033, 11.248405817888454, 9.162380064122289, 6.8651972265606345, 6.550428690934134, 5.6561336243373015, 5.6561336243373015, 5.6269410095922465, 5.6269410095922465, 5.6269410095922465, 5.422311175542202, 5.236154456426536, 4.797869385834706, 4.743031018299462, 4.587689555284991, 3.5961191868845135, 3.481647469825494, 3.1302078367368367, 2.8596750467874763, 2.3980320879989527, 2.271645004924751, 2.1328061542829633, 1.8878990687158692, 1.8311646336653664, 132.1747479044928, 108.93356874187062, 9.282937539390577, 10.906535247245197, 11.976917186876095, 21.663790902220434, 14.2433990869179, 8.255895138946478, 6.8945357254654684, 9.994365958580447, 9.183509379825512, 9.865847132557425, 7.5146321293961496, 7.6692514231635265, 6.613193004588844, 32.499463736851645, 29.652479504394964, 20.942550062253805, 15.649377891225486, 15.236087565108296, 13.899639088800138, 13.465996960147029, 12.896710293436383, 12.649507517548304, 11.342664009545407, 11.032668437706901, 9.604290017588157, 9.444896332658887, 9.273489341334168, 8.945771440496012, 7.638184259302795, 7.346839398071375, 7.031093667692977, 6.8287072838587655, 6.5977314247199566, 6.430531591053265, 6.357274135698074, 6.2948926991045475, 6.1601749294804975, 5.889417797474983, 5.887368259973249, 5.799516823198288, 5.603147578192467, 4.904721094078647, 4.858747653010125, 12.562779253135078, 77.31762060301905, 51.903581425863266, 16.22620695273295, 61.72879158278145, 18.588019441095437, 12.44966430244411, 19.969262531609154, 10.343181760322901, 8.886730887150097, 7.291384123826292], \"Total\": [10410.0, 6251.0, 3977.0, 1482.0, 2338.0, 5217.0, 2777.0, 1477.0, 7180.0, 2018.0, 3722.0, 2393.0, 1566.0, 1813.0, 4113.0, 3366.0, 2486.0, 2019.0, 1089.0, 4284.0, 2040.0, 550.0, 460.0, 1354.0, 407.0, 1020.0, 757.0, 1979.0, 1339.0, 1272.0, 499.72084726448486, 325.88669188907403, 292.10106103553846, 283.6011247744529, 239.57471018204924, 219.23967065688944, 218.8805167462779, 209.4845366903837, 182.0559252176815, 168.73689925243534, 168.3500138512914, 166.4009368787567, 165.90107997104025, 165.02391646136442, 163.48904710812064, 157.00818909388266, 153.6554445461292, 136.43056464468899, 134.8841467103156, 131.85234102681417, 129.47722165941215, 127.82989931121999, 126.67933581942837, 125.56305700594373, 124.26533870259925, 123.39417013467697, 122.13519417123055, 121.65209619318718, 121.47028850142401, 119.61290897012495, 966.4999495088072, 285.06316273416525, 867.3534930381032, 209.00871344136263, 1272.3817330849536, 379.83901929677296, 412.1745595624579, 3722.7322645421605, 783.2939781261211, 573.0112707903629, 1015.8001602190651, 651.9874218856072, 397.1187530440951, 588.3715293621381, 1813.2385812744806, 5217.6250653078405, 2141.7911874360784, 2092.2678093744485, 371.38638867097404, 815.1710653104309, 568.5203790041617, 2379.777515603035, 822.3590241617151, 2841.902208165296, 686.0050639849491, 705.1659501544381, 3366.8929042620875, 2656.8395400369864, 1046.7686069564074, 1360.5713779226116, 1882.447377250781, 2340.7812383939035, 1957.3897870538256, 1617.8640716730442, 1276.8474894812027, 967.5778199159205, 2486.1639992119494, 1160.8307570261723, 2338.4214502720874, 1911.864953130751, 1270.7186983183306, 4113.753564957403, 1486.6845285139887, 2309.6196762779496, 1603.6086898479696, 7180.1017854375605, 4284.149390083158, 2393.4890035271787, 538.7515354430656, 346.7241394227973, 333.1105112344519, 316.73635097807494, 303.7481195871398, 282.3928288882425, 273.76941764938545, 269.1891736816214, 2777.0982312067904, 196.11277038367825, 184.75054310381012, 627.5055500311701, 202.3361102065305, 174.57397143754804, 172.2412127861538, 170.3243417993459, 165.1252725240484, 162.60041857516197, 156.97723335635678, 149.83850246004044, 148.43628425255525, 144.04342641884878, 141.76325161617777, 141.31465667502815, 140.88023215770397, 136.08860346942424, 135.63048796558178, 134.0208501141412, 133.6230562698723, 128.45471601073584, 2019.4504998694658, 396.05463262797804, 344.72060900362504, 2040.2140159405167, 1326.7435899405111, 696.6517213850115, 278.8286107567856, 1154.6881819183698, 204.8630052292987, 1566.055397902257, 358.5344309069681, 215.91934956602057, 983.748651776758, 706.5898199991491, 1979.1969189624172, 298.5352879002335, 276.1462470682331, 1369.37028044433, 521.4440559022422, 271.93679665558375, 356.2258390381876, 686.0677120035967, 4284.149390083158, 480.7883008829815, 4113.753564957403, 1187.0534400585766, 7180.1017854375605, 789.8919330056646, 499.35794953281925, 2272.510929014078, 953.367293818943, 821.2812363342941, 3366.8929042620875, 1017.3139596142096, 2309.6196762779496, 894.2207151235791, 5217.6250653078405, 1495.3610664828595, 1481.128353360201, 2379.777515603035, 2841.902208165296, 2338.4214502720874, 277.6828369409814, 147.00490374378398, 116.75190425683414, 101.33282445375501, 99.49155924039889, 101.10469931401337, 79.51080902173014, 76.36925170997206, 66.09790315848531, 61.824014823532984, 60.101268232212384, 57.63469560635465, 54.93551463350066, 54.73895684570227, 53.75842955956718, 52.71992656608887, 52.495934342484496, 51.79597022417129, 51.46773560285157, 50.16377941217536, 49.956276321796835, 46.235673389732476, 45.956595418555615, 43.986730468563444, 43.960606748453465, 43.632597774357635, 43.521738675002375, 43.12177556064733, 42.75191233813151, 42.48019063839413, 71.10924477435809, 74.61249397016532, 73.8023591131591, 129.04723864050524, 889.9933965811748, 176.4861485330351, 431.81370780691356, 188.84272636522508, 182.61970946004502, 1354.289886706464, 246.69246068595214, 353.23134448320525, 497.900692128101, 130.32642816980217, 250.91377298335053, 118.67601836050723, 148.4838248636704, 437.11996122510664, 249.27894571232594, 494.22590428547613, 183.6487733563761, 7180.1017854375605, 2486.1639992119494, 2272.510929014078, 953.367293818943, 590.6497940804694, 2656.8395400369864, 223.49356668577846, 460.1297659540984, 337.67922354052195, 563.2898574402681, 280.5096725891509, 584.2517875801544, 1911.864953130751, 1360.5713779226116, 918.5467054876183, 443.17010347481573, 1495.3610664828595, 2309.6196762779496, 754.1462522063182, 757.8192509012918, 476.6390804610057, 438.59848843824295, 235.49430445841858, 221.07179436304273, 201.11198369135153, 182.1934885503363, 127.83125138285844, 114.91177989105408, 114.65923820082683, 114.34824816987006, 109.2902791563291, 107.21882771822264, 102.26200595665038, 91.96957301495556, 83.63052610960081, 82.42526403308517, 78.00108594227399, 76.10836683700431, 72.97529610784288, 71.9455884560592, 70.88644994901912, 68.64912569481848, 64.87350717003864, 62.643179568789314, 59.262960311118384, 59.061405776121724, 58.43975074423248, 58.129478057797044, 56.31541349641953, 186.0069357041827, 429.20527750864557, 75.76073873393652, 229.3083959912365, 94.04671911103685, 1089.1698042236126, 499.56057259705403, 407.1954629545763, 313.4788029620229, 131.94038131209683, 2393.4890035271787, 113.49664928901866, 2018.0786534778074, 1342.3128010258908, 333.34591203639565, 152.84397695781982, 170.71720423672556, 452.9903498989046, 244.51981212126063, 687.7098444107346, 924.904030251957, 1495.3610664828595, 7180.1017854375605, 519.9594901962828, 6251.898209065105, 362.96610437976517, 1257.9991042723236, 2338.4214502720874, 972.4192364267359, 967.5778199159205, 1276.8474894812027, 3977.4680605542158, 177.26423845625925, 169.43252214348, 84.43263536481287, 81.74487849878791, 78.72281323558762, 69.77953174425264, 63.800628983312215, 50.90716449243215, 50.74741427682738, 50.530359750208476, 44.870850764490434, 44.50258085500963, 43.596379002334494, 42.81137956806269, 42.79023026099578, 42.368895863287825, 41.283922503023916, 39.79858004045301, 37.63885694933754, 36.84515944619924, 36.58985791230328, 36.06965457663676, 35.76520785785966, 35.73388370855463, 35.45361438428644, 34.959419838810895, 34.26335282185028, 34.030297892216375, 33.492964777357756, 1477.596619519744, 6251.898209065105, 304.99334537001823, 1020.5022089123698, 174.3392799080066, 74.30790998406589, 366.54991431087996, 1094.0291054577963, 879.6098929410177, 93.14193669436678, 61.369517602945905, 865.2579124797297, 468.20596872509606, 202.65852092496814, 189.19174155286768, 308.44923719551696, 310.948130029749, 262.7885201360446, 316.47106417498196, 861.7399516942436, 5217.6250653078405, 221.46468598183134, 2393.4890035271787, 337.67922354052195, 2092.2678093744485, 3722.7322645421605, 1911.864953130751, 10410.08337775315, 2309.6196762779496, 2340.7812383939035, 1481.128353360201, 516.7068977844343, 2486.1639992119494, 4284.149390083158, 1957.3897870538256, 2338.4214502720874, 1369.37028044433, 185.47953298014266, 161.08309477135103, 121.95624105589661, 97.36982929831197, 75.96203536249162, 73.78117838164084, 71.84752285730617, 68.07969085117568, 57.43976529222997, 53.95445403698967, 51.7156829684346, 43.76199212072646, 43.69661674184452, 41.77288783805024, 41.48669541925124, 41.25149192271177, 41.2198453808269, 41.004641017390696, 40.28951438539717, 36.53235719687283, 36.36352046159445, 35.23803391950782, 34.20832762381408, 33.83287455175589, 33.32243479354685, 32.670973717505596, 31.932130484103457, 31.531138638794772, 31.31737634584089, 31.160121585542367, 10410.08337775315, 124.85124436429416, 289.82638213215074, 41.62537608991568, 91.70876314279869, 51.14104242975687, 43.264404821078955, 56.23031468196863, 48.8028778617331, 865.2579124797297, 1882.447377250781, 280.5096725891509, 1020.5022089123698, 636.2935575550589, 2340.7812383939035, 309.5821701515307, 1979.1969189624172, 644.0354569567181, 4284.149390083158, 1957.3897870538256, 4113.753564957403, 1339.8152750328368, 89.68783896244196, 686.0050639849491, 236.93748155743927, 2141.7911874360784, 7180.1017854375605, 1617.8640716730442, 894.2207151235791, 3366.8929042620875, 2018.0786534778074, 2309.6196762779496, 1270.7186983183306, 2486.1639992119494, 2338.4214502720874, 1482.4350638562007, 163.33342823204907, 113.89385179674636, 106.565277152278, 84.80077541736097, 82.82920312924098, 72.25102375697051, 62.465837223333416, 58.321391077869734, 56.99622333935421, 56.891294275682164, 50.76061477277259, 48.87767528127921, 46.74870897226992, 45.22678300215053, 42.69803015278441, 41.74535469302425, 38.45673501236276, 38.08155451784328, 37.20015993448568, 35.645322825379786, 33.869239493420075, 32.43452715551141, 32.06878153414881, 30.223074088263743, 29.018464969180574, 28.452433297246973, 28.4196149378211, 27.324674827927478, 27.131386619233556, 543.3853314568869, 50.02836759234769, 499.56057259705403, 1477.596619519744, 64.94750259437367, 972.4192364267359, 1339.8152750328368, 7180.1017854375605, 306.671845203201, 81.99374428638006, 76.8193562632361, 75.26634246366156, 74.97824087944254, 47.52745694514199, 46.92677091619861, 40.85338517616006, 40.34152478672896, 37.04354457723803, 34.587364176103684, 29.818757596710935, 24.164603818731507, 23.88744278192899, 23.698914346313778, 23.698914346313778, 23.698914346313778, 23.698914346313778, 23.698914346313778, 23.698914346313778, 20.880416814915367, 20.290414632324886, 19.142802705150725, 18.987087463672406, 18.113308777946727, 17.419104061030193, 16.678947057154016, 15.755039491673125, 15.687045418896354, 14.807200260685574, 73.66592330785065, 97.34670427375407, 200.74307931194974, 316.47106417498196, 111.65532054767259, 80.57559369839213, 63.35853097780229, 56.863379533778044, 54.457101777742054, 48.6507034645378, 36.080932730876846, 32.82618870951457, 32.60814207108674, 27.445951542864996, 26.200376859705592, 25.58730084390227, 24.979366759566766, 23.812863473051266, 22.48670539349019, 21.33742850702475, 17.146459768385796, 15.51693815574514, 15.113761528856802, 13.891151213738153, 13.717705582340647, 13.315492665145374, 13.09774102539306, 12.87483617367283, 12.286035129230193, 12.03615155342657, 11.96760034331931, 11.688213276102637, 11.646366411102532, 10.909073972796469, 117.41193440503294, 550.2933419411752, 430.03627311384935, 42.31311781451522, 96.6040762930839, 155.84108412578686, 460.62568062090344, 1566.055397902257, 266.57124956284207, 1339.8152750328368, 3366.8929042620875, 1160.8307570261723, 460.1297659540984, 48.29592033793197, 37.35782416553319, 26.776838546523994, 24.930735740942627, 21.696382005507612, 15.985539592694064, 12.925165599664744, 12.129750877409256, 10.043934861266669, 7.746690486632395, 7.431829271749425, 6.53747912023864, 6.53747912023864, 6.508283648888394, 6.508283648888394, 6.508283648888394, 6.303722027243617, 6.11760231360224, 5.679213931278584, 5.624436138527679, 5.469295658998971, 4.477458883528507, 4.363403528058375, 4.011578287891009, 3.741021577778532, 3.2794401820246093, 3.153000359483137, 3.014206817481276, 2.769266161909916, 2.7125043303093594, 309.5821701515307, 460.1297659540984, 29.467104641425202, 53.8170742220389, 174.340082360131, 5217.6250653078405, 1813.2385812744806, 358.68245700490064, 219.49603306307824, 2777.0982312067904, 2486.1639992119494, 7180.1017854375605, 566.5292296685517, 4113.753564957403, 1566.055397902257, 33.38634790603191, 30.539476304674963, 21.829493369666793, 16.536273172649818, 16.12295173550318, 14.787074305738125, 14.353016970276451, 13.783708055851545, 13.536458526770682, 12.22950603793171, 11.91956097991153, 10.49143408248943, 10.331757615733933, 10.160581489791921, 9.832711131228626, 8.525143722020374, 8.233677101188594, 7.918052640022053, 7.715549563684453, 7.4860737960808486, 7.317412981694229, 7.24421655225797, 7.181965963404259, 7.04701469459986, 6.776255514866895, 6.774244187235369, 6.686375394863451, 6.490083345338388, 5.794340738859115, 5.745589136772031, 16.25907944104042, 407.50005513827307, 321.6879936357631, 56.098427314078364, 2338.4214502720874, 687.7098444107346, 156.42285896479595, 2018.0786534778074, 4113.753564957403, 822.3590241617151, 1481.128353360201], \"Category\": [\"Default\", \"Default\", \"Default\", \"Default\", \"Default\", \"Default\", \"Default\", \"Default\", \"Default\", \"Default\", \"Default\", \"Default\", \"Default\", \"Default\", \"Default\", \"Default\", \"Default\", \"Default\", \"Default\", \"Default\", \"Default\", \"Default\", \"Default\", \"Default\", \"Default\", \"Default\", \"Default\", \"Default\", \"Default\", \"Default\", \"Topic1\", \"Topic1\", \"Topic1\", \"Topic1\", \"Topic1\", \"Topic1\", \"Topic1\", \"Topic1\", \"Topic1\", \"Topic1\", \"Topic1\", \"Topic1\", \"Topic1\", \"Topic1\", \"Topic1\", \"Topic1\", \"Topic1\", \"Topic1\", \"Topic1\", \"Topic1\", \"Topic1\", \"Topic1\", \"Topic1\", \"Topic1\", \"Topic1\", \"Topic1\", \"Topic1\", \"Topic1\", \"Topic1\", \"Topic1\", \"Topic1\", \"Topic1\", \"Topic1\", \"Topic1\", \"Topic1\", \"Topic1\", \"Topic1\", \"Topic1\", \"Topic1\", \"Topic1\", \"Topic1\", \"Topic1\", \"Topic1\", \"Topic1\", \"Topic1\", \"Topic1\", \"Topic1\", \"Topic1\", \"Topic1\", \"Topic1\", \"Topic1\", \"Topic1\", \"Topic1\", \"Topic1\", \"Topic1\", \"Topic1\", \"Topic1\", \"Topic1\", \"Topic1\", \"Topic1\", \"Topic1\", \"Topic1\", \"Topic1\", \"Topic1\", \"Topic1\", \"Topic1\", \"Topic1\", \"Topic1\", \"Topic1\", \"Topic1\", \"Topic1\", \"Topic1\", \"Topic1\", \"Topic1\", \"Topic1\", \"Topic1\", \"Topic1\", \"Topic1\", \"Topic2\", \"Topic2\", \"Topic2\", \"Topic2\", \"Topic2\", \"Topic2\", \"Topic2\", \"Topic2\", \"Topic2\", \"Topic2\", \"Topic2\", \"Topic2\", \"Topic2\", \"Topic2\", \"Topic2\", \"Topic2\", \"Topic2\", \"Topic2\", \"Topic2\", \"Topic2\", \"Topic2\", \"Topic2\", \"Topic2\", \"Topic2\", \"Topic2\", \"Topic2\", \"Topic2\", \"Topic2\", \"Topic2\", \"Topic2\", \"Topic2\", \"Topic2\", \"Topic2\", \"Topic2\", \"Topic2\", \"Topic2\", \"Topic2\", \"Topic2\", \"Topic2\", \"Topic2\", \"Topic2\", \"Topic2\", \"Topic2\", \"Topic2\", \"Topic2\", \"Topic2\", \"Topic2\", \"Topic2\", \"Topic2\", \"Topic2\", \"Topic2\", \"Topic2\", \"Topic2\", \"Topic2\", \"Topic2\", \"Topic2\", \"Topic2\", \"Topic2\", \"Topic2\", \"Topic2\", \"Topic2\", \"Topic2\", \"Topic2\", \"Topic2\", \"Topic2\", \"Topic2\", \"Topic2\", \"Topic2\", \"Topic2\", \"Topic2\", \"Topic2\", \"Topic2\", \"Topic3\", \"Topic3\", \"Topic3\", \"Topic3\", \"Topic3\", \"Topic3\", \"Topic3\", \"Topic3\", \"Topic3\", \"Topic3\", \"Topic3\", \"Topic3\", \"Topic3\", \"Topic3\", \"Topic3\", \"Topic3\", \"Topic3\", \"Topic3\", \"Topic3\", \"Topic3\", \"Topic3\", \"Topic3\", \"Topic3\", \"Topic3\", \"Topic3\", \"Topic3\", \"Topic3\", \"Topic3\", \"Topic3\", \"Topic3\", \"Topic3\", \"Topic3\", \"Topic3\", \"Topic3\", \"Topic3\", \"Topic3\", \"Topic3\", \"Topic3\", \"Topic3\", \"Topic3\", \"Topic3\", \"Topic3\", \"Topic3\", \"Topic3\", \"Topic3\", \"Topic3\", \"Topic3\", \"Topic3\", \"Topic3\", \"Topic3\", \"Topic3\", \"Topic3\", \"Topic3\", \"Topic3\", \"Topic3\", \"Topic3\", \"Topic3\", \"Topic3\", \"Topic3\", \"Topic3\", \"Topic3\", \"Topic3\", \"Topic3\", \"Topic3\", \"Topic3\", \"Topic3\", \"Topic3\", \"Topic3\", \"Topic3\", \"Topic3\", \"Topic4\", \"Topic4\", \"Topic4\", \"Topic4\", \"Topic4\", \"Topic4\", \"Topic4\", \"Topic4\", \"Topic4\", \"Topic4\", \"Topic4\", \"Topic4\", \"Topic4\", \"Topic4\", \"Topic4\", \"Topic4\", \"Topic4\", \"Topic4\", \"Topic4\", \"Topic4\", \"Topic4\", \"Topic4\", \"Topic4\", \"Topic4\", \"Topic4\", \"Topic4\", \"Topic4\", \"Topic4\", \"Topic4\", \"Topic4\", \"Topic4\", \"Topic4\", \"Topic4\", \"Topic4\", \"Topic4\", \"Topic4\", \"Topic4\", \"Topic4\", \"Topic4\", \"Topic4\", \"Topic4\", \"Topic4\", \"Topic4\", \"Topic4\", \"Topic4\", \"Topic4\", \"Topic4\", \"Topic4\", \"Topic4\", \"Topic4\", \"Topic4\", \"Topic4\", \"Topic4\", \"Topic4\", \"Topic4\", \"Topic4\", \"Topic4\", \"Topic4\", \"Topic4\", \"Topic4\", \"Topic4\", \"Topic5\", \"Topic5\", \"Topic5\", \"Topic5\", \"Topic5\", \"Topic5\", \"Topic5\", \"Topic5\", \"Topic5\", \"Topic5\", \"Topic5\", \"Topic5\", \"Topic5\", \"Topic5\", \"Topic5\", \"Topic5\", \"Topic5\", \"Topic5\", \"Topic5\", \"Topic5\", \"Topic5\", \"Topic5\", \"Topic5\", \"Topic5\", \"Topic5\", \"Topic5\", \"Topic5\", \"Topic5\", \"Topic5\", \"Topic5\", \"Topic5\", \"Topic5\", \"Topic5\", \"Topic5\", \"Topic5\", \"Topic5\", \"Topic5\", \"Topic5\", \"Topic5\", \"Topic5\", \"Topic5\", \"Topic5\", \"Topic5\", \"Topic5\", \"Topic5\", \"Topic5\", \"Topic5\", \"Topic5\", \"Topic5\", \"Topic5\", \"Topic5\", \"Topic5\", \"Topic5\", \"Topic5\", \"Topic5\", \"Topic5\", \"Topic5\", \"Topic5\", \"Topic5\", \"Topic5\", \"Topic5\", \"Topic5\", \"Topic5\", \"Topic5\", \"Topic5\", \"Topic5\", \"Topic5\", \"Topic6\", \"Topic6\", \"Topic6\", \"Topic6\", \"Topic6\", \"Topic6\", \"Topic6\", \"Topic6\", \"Topic6\", \"Topic6\", \"Topic6\", \"Topic6\", \"Topic6\", \"Topic6\", \"Topic6\", \"Topic6\", \"Topic6\", \"Topic6\", \"Topic6\", \"Topic6\", \"Topic6\", \"Topic6\", \"Topic6\", \"Topic6\", \"Topic6\", \"Topic6\", \"Topic6\", \"Topic6\", \"Topic6\", \"Topic6\", \"Topic6\", \"Topic6\", \"Topic6\", \"Topic6\", \"Topic6\", \"Topic6\", \"Topic6\", \"Topic6\", \"Topic6\", \"Topic6\", \"Topic6\", \"Topic6\", \"Topic6\", \"Topic6\", \"Topic6\", \"Topic6\", \"Topic6\", \"Topic6\", \"Topic6\", \"Topic6\", \"Topic6\", \"Topic6\", \"Topic6\", \"Topic6\", \"Topic6\", \"Topic6\", \"Topic6\", \"Topic6\", \"Topic6\", \"Topic6\", \"Topic6\", \"Topic6\", \"Topic6\", \"Topic6\", \"Topic6\", \"Topic7\", \"Topic7\", \"Topic7\", \"Topic7\", \"Topic7\", \"Topic7\", \"Topic7\", \"Topic7\", \"Topic7\", \"Topic7\", \"Topic7\", \"Topic7\", \"Topic7\", \"Topic7\", \"Topic7\", \"Topic7\", \"Topic7\", \"Topic7\", \"Topic7\", \"Topic7\", \"Topic7\", \"Topic7\", \"Topic7\", \"Topic7\", \"Topic7\", \"Topic7\", \"Topic7\", \"Topic7\", \"Topic7\", \"Topic7\", \"Topic7\", \"Topic7\", \"Topic7\", \"Topic7\", \"Topic7\", \"Topic7\", \"Topic7\", \"Topic7\", \"Topic8\", \"Topic8\", \"Topic8\", \"Topic8\", \"Topic8\", \"Topic8\", \"Topic8\", \"Topic8\", \"Topic8\", \"Topic8\", \"Topic8\", \"Topic8\", \"Topic8\", \"Topic8\", \"Topic8\", \"Topic8\", \"Topic8\", \"Topic8\", \"Topic8\", \"Topic8\", \"Topic8\", \"Topic8\", \"Topic8\", \"Topic8\", \"Topic8\", \"Topic8\", \"Topic8\", \"Topic8\", \"Topic8\", \"Topic8\", \"Topic8\", \"Topic8\", \"Topic8\", \"Topic8\", \"Topic9\", \"Topic9\", \"Topic9\", \"Topic9\", \"Topic9\", \"Topic9\", \"Topic9\", \"Topic9\", \"Topic9\", \"Topic9\", \"Topic9\", \"Topic9\", \"Topic9\", \"Topic9\", \"Topic9\", \"Topic9\", \"Topic9\", \"Topic9\", \"Topic9\", \"Topic9\", \"Topic9\", \"Topic9\", \"Topic9\", \"Topic9\", \"Topic9\", \"Topic9\", \"Topic9\", \"Topic9\", \"Topic9\", \"Topic9\", \"Topic9\", \"Topic9\", \"Topic9\", \"Topic9\", \"Topic9\", \"Topic9\", \"Topic9\", \"Topic9\", \"Topic9\", \"Topic9\", \"Topic9\", \"Topic9\", \"Topic9\", \"Topic10\", \"Topic10\", \"Topic10\", \"Topic10\", \"Topic10\", \"Topic10\", \"Topic10\", \"Topic10\", \"Topic10\", \"Topic10\", \"Topic10\", \"Topic10\", \"Topic10\", \"Topic10\", \"Topic10\", \"Topic10\", \"Topic10\", \"Topic10\", \"Topic10\", \"Topic10\", \"Topic10\", \"Topic10\", \"Topic10\", \"Topic10\", \"Topic10\", \"Topic10\", \"Topic10\", \"Topic10\", \"Topic10\", \"Topic10\", \"Topic10\", \"Topic10\", \"Topic10\", \"Topic10\", \"Topic10\", \"Topic10\", \"Topic10\", \"Topic10\", \"Topic10\", \"Topic10\", \"Topic10\", \"Topic10\", \"Topic10\", \"Topic10\", \"Topic10\", \"Topic11\", \"Topic11\", \"Topic11\", \"Topic11\", \"Topic11\", \"Topic11\", \"Topic11\", \"Topic11\", \"Topic11\", \"Topic11\", \"Topic11\", \"Topic11\", \"Topic11\", \"Topic11\", \"Topic11\", \"Topic11\", \"Topic11\", \"Topic11\", \"Topic11\", \"Topic11\", \"Topic11\", \"Topic11\", \"Topic11\", \"Topic11\", \"Topic11\", \"Topic11\", \"Topic11\", \"Topic11\", \"Topic11\", \"Topic11\", \"Topic11\", \"Topic11\", \"Topic11\", \"Topic11\", \"Topic11\", \"Topic11\", \"Topic11\", \"Topic11\", \"Topic11\", \"Topic11\", \"Topic11\"], \"logprob\": [30.0, 29.0, 28.0, 27.0, 26.0, 25.0, 24.0, 23.0, 22.0, 21.0, 20.0, 19.0, 18.0, 17.0, 16.0, 15.0, 14.0, 13.0, 12.0, 11.0, 10.0, 9.0, 8.0, 7.0, 6.0, 5.0, 4.0, 3.0, 2.0, 1.0, -5.5429, -5.9713, -6.0811, -6.1107, -6.2799, -6.369, -6.3707, -6.4147, -6.5556, -6.632, -6.6343, -6.646, -6.649, -6.6543, -6.6637, -6.7044, -6.7261, -6.8457, -6.8572, -6.88, -6.8983, -6.9112, -6.9203, -6.9292, -6.9397, -6.9468, -6.9571, -6.9611, -6.9626, -6.9782, -4.8895, -6.1135, -5.0146, -6.4242, -4.6377, -5.8441, -5.7669, -3.6395, -5.1532, -5.4736, -4.932, -5.3685, -5.841, -5.4882, -4.4758, -3.5191, -4.3318, -4.3581, -5.9188, -5.2246, -5.5486, -4.3067, -5.2376, -4.1735, -5.3951, -5.3864, -4.0808, -4.3214, -5.0786, -4.8764, -4.6249, -4.4667, -4.6083, -4.7537, -4.946, -5.1705, -4.5229, -5.0518, -4.6049, -4.7452, -5.0184, -4.4142, -4.9539, -4.7649, -4.9563, -4.3978, -4.6126, -4.9923, -5.2411, -5.6828, -5.7228, -5.7734, -5.8154, -5.8885, -5.9196, -5.9365, -3.6035, -6.2544, -6.3144, -5.0917, -6.2236, -6.3713, -6.3848, -6.396, -6.4272, -6.4427, -6.4781, -6.5249, -6.5343, -6.5646, -6.5806, -6.5838, -6.5869, -6.6217, -6.6251, -6.6371, -6.6401, -6.6798, -3.9388, -5.5599, -5.7009, -3.9467, -4.3777, -5.0142, -5.9212, -4.5435, -6.2218, -4.2538, -5.6792, -6.1744, -4.7346, -5.0585, -4.1299, -5.8758, -5.9481, -4.5022, -5.3735, -5.973, -5.7399, -5.1768, -3.7035, -5.5015, -3.8414, -4.8122, -3.4774, -5.2121, -5.5275, -4.7199, -5.219, -5.3164, -4.6573, -5.2376, -5.0278, -5.3691, -4.8227, -5.227, -5.2646, -5.2133, -5.1986, -5.2851, -4.7992, -5.438, -5.6699, -5.8127, -5.8312, -5.8156, -6.0576, -6.0983, -6.2445, -6.3123, -6.341, -6.3835, -6.4322, -6.4358, -6.4542, -6.474, -6.4784, -6.492, -6.4985, -6.5246, -6.5288, -6.6076, -6.6138, -6.6584, -6.659, -6.6667, -6.6693, -6.6787, -6.6875, -6.694, -6.1819, -6.1462, -6.1574, -5.6477, -3.8703, -5.3923, -4.7107, -5.4219, -5.4746, -3.9626, -5.2933, -5.0434, -4.7872, -5.7943, -5.3109, -5.8687, -5.7053, -4.9221, -5.3615, -4.9033, -5.5863, -3.1731, -3.8862, -4.0391, -4.6105, -4.941, -4.0958, -5.5094, -5.1278, -5.332, -5.1927, -5.4555, -5.1998, -4.9098, -5.081, -5.1896, -5.3599, -5.2141, -5.1538, -5.3548, -3.71, -4.1744, -4.2577, -4.8813, -4.9447, -5.0397, -5.1389, -5.4953, -5.6026, -5.6048, -5.6075, -5.6531, -5.6724, -5.7201, -5.8271, -5.9231, -5.9378, -5.9935, -6.0184, -6.0609, -6.0753, -6.0903, -6.1227, -6.18, -6.2155, -6.2717, -6.2752, -6.2859, -6.2913, -6.3235, -5.1414, -4.3748, -6.0458, -5.0286, -5.8542, -3.682, -4.4079, -4.6256, -4.9051, -5.6005, -3.4282, -5.7396, -3.7675, -4.0515, -5.0122, -5.5382, -5.4813, -4.9121, -5.2924, -4.8056, -4.6709, -4.4482, -3.7501, -5.0335, -4.4167, -5.2861, -4.9628, -4.8119, -5.0387, -5.1681, -5.1767, -2.0065, -5.1186, -5.1641, -5.8657, -5.8984, -5.9364, -6.0585, -6.1492, -6.3784, -6.3816, -6.386, -6.5069, -6.5153, -6.5363, -6.5548, -6.5553, -6.5654, -6.5919, -6.6294, -6.6864, -6.7082, -6.7154, -6.73, -6.7387, -6.7396, -6.7477, -6.7621, -6.7827, -6.7897, -6.806, -3.0461, -1.6246, -4.6579, -3.6147, -5.3084, -6.1038, -4.7585, -3.961, -4.1681, -5.975, -6.3401, -4.5271, -4.9502, -5.5811, -5.6299, -5.4001, -5.4364, -5.5385, -5.4449, -4.9152, -4.0327, -5.6595, -4.5452, -5.4734, -4.684, -4.4519, -4.9253, -4.3522, -4.9054, -4.9059, -5.0847, -5.4309, -5.1507, -5.1873, -5.311, -5.3303, -5.4134, -4.8899, -5.0316, -5.3116, -5.5385, -5.7892, -5.8187, -5.8456, -5.9001, -6.0724, -6.1359, -6.179, -6.349, -6.3505, -6.3965, -6.4035, -6.4093, -6.4101, -6.4154, -6.4334, -6.5335, -6.5382, -6.5704, -6.6008, -6.6121, -6.6277, -6.648, -6.6715, -6.6844, -6.6914, -6.6966, -0.9556, -5.323, -4.6702, -6.4339, -5.7352, -6.2561, -6.4138, -6.2685, -6.386, -4.8933, -4.5682, -5.5322, -4.9956, -5.2347, -4.709, -5.5622, -4.7882, -5.2575, -4.4917, -4.836, -4.5725, -5.0873, -6.0988, -5.4677, -5.8026, -5.1972, -4.9026, -5.2916, -5.4503, -5.2053, -5.4344, -5.5326, -5.5852, -5.5703, -5.5785, -1.6197, -3.83, -4.1928, -4.2598, -4.4903, -4.5141, -4.6523, -4.7996, -4.8693, -4.8926, -4.8945, -5.0103, -5.0488, -5.0941, -5.1278, -5.1865, -5.2095, -5.2934, -5.3034, -5.3273, -5.371, -5.4234, -5.4678, -5.4795, -5.5404, -5.5823, -5.6026, -5.6038, -5.6443, -5.6516, -4.2102, -5.4118, -4.6893, -4.6104, -5.4461, -5.0747, -5.0574, -5.4123, -2.4733, -3.8004, -3.8664, -3.887, -3.8909, -4.3537, -4.3667, -4.5081, -4.521, -4.6083, -4.6786, -4.8312, -5.0486, -5.0606, -5.0688, -5.0688, -5.0688, -5.0688, -5.0688, -5.0688, -5.2007, -5.2306, -5.2916, -5.3001, -5.3496, -5.3907, -5.4365, -5.4968, -5.5014, -5.5627, -3.9778, -3.957, -4.5531, -5.1798, -3.2876, -3.6169, -3.8602, -3.97, -4.0139, -4.1286, -4.4339, -4.5309, -4.5378, -4.7153, -4.7633, -4.7879, -4.8128, -4.8624, -4.9219, -4.9766, -5.2058, -5.3113, -5.3392, -5.429, -5.4424, -5.4742, -5.4919, -5.5103, -5.5606, -5.5827, -5.5889, -5.6144, -5.6183, -5.6892, -4.2106, -3.4336, -3.8831, -4.999, -4.629, -4.5309, -4.1295, -4.4114, -4.9769, -4.844, -4.7754, -4.9286, -5.2882, -3.6543, -3.9165, -4.2591, -4.3331, -4.4775, -4.7982, -5.0247, -5.093, -5.2981, -5.5867, -5.6337, -5.7805, -5.7805, -5.7856, -5.7856, -5.7856, -5.8227, -5.8576, -5.945, -5.9565, -5.9898, -6.2333, -6.2657, -6.3721, -6.4625, -6.6386, -6.6927, -6.7558, -6.8777, -6.9082, -2.6291, -2.8225, -5.285, -5.1238, -5.0302, -4.4376, -4.8569, -5.4023, -5.5825, -5.2112, -5.2958, -5.2241, -5.4963, -5.476, -5.6241, -3.9759, -4.0676, -4.4153, -4.7067, -4.7334, -4.8252, -4.8569, -4.9001, -4.9195, -5.0285, -5.0562, -5.1949, -5.2116, -5.2299, -5.2659, -5.4239, -5.4628, -5.5068, -5.536, -5.5704, -5.5961, -5.6075, -5.6174, -5.639, -5.684, -5.6843, -5.6993, -5.7338, -5.8669, -5.8763, -4.9264, -3.1092, -3.5077, -4.6705, -3.3344, -4.5346, -4.9354, -4.4629, -5.1208, -5.2725, -5.4704], \"loglift\": [30.0, 29.0, 28.0, 27.0, 26.0, 25.0, 24.0, 23.0, 22.0, 21.0, 20.0, 19.0, 18.0, 17.0, 16.0, 15.0, 14.0, 13.0, 12.0, 11.0, 10.0, 9.0, 8.0, 7.0, 6.0, 5.0, 4.0, 3.0, 2.0, 1.0, 1.0513, 1.0504, 1.0501, 1.05, 1.0495, 1.0491, 1.0491, 1.0489, 1.0483, 1.048, 1.0479, 1.0479, 1.0479, 1.0478, 1.0478, 1.0476, 1.0475, 1.0467, 1.0467, 1.0465, 1.0464, 1.0463, 1.0463, 1.0462, 1.0461, 1.0461, 1.046, 1.046, 1.046, 1.0458, 1.0451, 1.042, 1.0282, 1.0417, 1.0219, 1.0244, 1.02, 0.9466, 0.9915, 0.9837, 0.9528, 0.9597, 0.9831, 0.9427, 0.8296, 0.7294, 0.8071, 0.8042, 0.9722, 0.8803, 0.9166, 0.7268, 0.8584, 0.6825, 0.8823, 0.8635, 0.6057, 0.602, 0.7762, 0.7162, 0.643, 0.5833, 0.6206, 0.6657, 0.7101, 0.7629, 0.4669, 0.6996, 0.4461, 0.5073, 0.6425, 0.072, 0.5501, 0.2985, 0.472, -0.4686, -0.167, 0.0354, 1.2779, 1.277, 1.2769, 1.2768, 1.2767, 1.2765, 1.2764, 1.2763, 1.2756, 1.2752, 1.2749, 1.2748, 1.2747, 1.2746, 1.2746, 1.2745, 1.2743, 1.2743, 1.2741, 1.2738, 1.2738, 1.2736, 1.2735, 1.2735, 1.2735, 1.2732, 1.2732, 1.2731, 1.2731, 1.2729, 1.2589, 1.2668, 1.2646, 1.2407, 1.2401, 1.2478, 1.2564, 1.2131, 1.2641, 1.1981, 1.247, 1.259, 1.1823, 1.1893, 1.0879, 1.2336, 1.2392, 1.0839, 1.1781, 1.2297, 1.1927, 1.1005, 0.7421, 1.1313, 0.6447, 0.9169, 0.4517, 0.9243, 1.0674, 0.3597, 0.7292, 0.7809, 0.0292, 0.6458, 0.0356, 0.6432, -0.5742, 0.2711, 0.2431, -0.1798, -0.3426, -0.234, 2.3825, 2.3798, 2.3783, 2.3771, 2.377, 2.3765, 2.3748, 2.3743, 2.3726, 2.3717, 2.3713, 2.3706, 2.3699, 2.3698, 2.3696, 2.3692, 2.3692, 2.3689, 2.3688, 2.3684, 2.3683, 2.3669, 2.3668, 2.366, 2.3659, 2.3658, 2.3657, 2.3656, 2.3654, 2.3652, 2.3621, 2.3497, 2.3495, 2.3004, 2.1467, 2.2427, 2.0295, 2.1455, 2.1263, 1.6346, 2.0068, 1.8978, 1.8107, 2.1439, 1.9723, 2.1631, 2.1025, 1.8059, 1.9281, 1.7019, 2.0089, 0.756, 1.1036, 1.0405, 1.3378, 1.4861, 0.8276, 1.8894, 1.5489, 1.6542, 1.2817, 1.7162, 1.2381, 0.3426, 0.5116, 0.7959, 1.3544, 0.284, -0.0904, 0.8278, 2.4678, 2.4671, 2.467, 2.4653, 2.4651, 2.4647, 2.4643, 2.4623, 2.4615, 2.4615, 2.4615, 2.4611, 2.461, 2.4606, 2.4597, 2.4587, 2.4586, 2.458, 2.4577, 2.4573, 2.4571, 2.4569, 2.4565, 2.4558, 2.4553, 2.4545, 2.4545, 2.4543, 2.4543, 2.4538, 2.4411, 2.3716, 2.4349, 2.3446, 2.4103, 2.1331, 2.1866, 2.1734, 2.1554, 2.3254, 1.5995, 2.3369, 1.4308, 1.5546, 1.9869, 2.2406, 2.1869, 1.7803, 2.0165, 1.4693, 1.3076, 1.05, 0.1791, 1.521, -0.3491, 1.6278, 0.7082, 0.2391, 0.8897, 0.7653, 0.4794, 2.5134, 2.512, 2.5117, 2.5066, 2.5063, 2.5059, 2.5045, 2.5033, 2.4998, 2.4998, 2.4997, 2.4975, 2.4974, 2.497, 2.4966, 2.4966, 2.4964, 2.4958, 2.4951, 2.4938, 2.4933, 2.4931, 2.4928, 2.4926, 2.4926, 2.4924, 2.492, 2.4915, 2.4913, 2.4909, 2.464, 2.443, 2.43, 2.2655, 2.3389, 2.3962, 2.1457, 1.8496, 1.8607, 2.2991, 2.3512, 1.5182, 1.7091, 1.9156, 1.9356, 1.6766, 1.6322, 1.6984, 1.6061, 1.1341, 0.2158, 1.7485, 0.4825, 1.5128, 0.4783, 0.1342, 0.3271, -0.7945, 0.158, 0.1441, 0.423, 1.1298, -0.161, -0.7417, -0.0821, -0.2792, 0.1728, 2.6954, 2.6947, 2.693, 2.6912, 2.6888, 2.6884, 2.6881, 2.6875, 2.6852, 2.6842, 2.6835, 2.6805, 2.6805, 2.6795, 2.6794, 2.6793, 2.6793, 2.6792, 2.6788, 2.6766, 2.6765, 2.6757, 2.675, 2.6747, 2.6743, 2.6738, 2.6732, 2.6728, 2.6726, 2.6725, 2.6022, 2.6581, 2.4688, 2.6456, 2.5544, 2.6175, 2.6271, 2.5103, 2.5344, 1.152, 0.6998, 1.6394, 0.8846, 1.1179, 0.3411, 1.5109, 0.4296, 1.083, -0.0461, 0.3929, -0.0863, 0.5207, 2.2132, 0.8097, 1.5379, -0.0584, -0.9734, 0.1278, 0.562, -0.5188, -0.236, -0.4691, 0.0757, -0.5806, -0.5275, 3.8871, 3.8825, 3.8802, 3.8797, 3.8776, 3.8774, 3.8759, 3.874, 3.873, 3.8727, 3.8726, 3.8708, 3.8702, 3.8693, 3.8687, 3.8676, 3.8671, 3.8654, 3.8652, 3.8646, 3.8636, 3.8623, 3.8612, 3.8609, 3.8592, 3.858, 3.8574, 3.8574, 3.8562, 3.8559, 2.3002, 3.4839, 1.9052, 0.8997, 3.1885, 0.8538, 0.5505, -1.4831, 4.6091, 4.6012, 4.6004, 4.6002, 4.6002, 4.5933, 4.593, 4.5902, 4.5899, 4.5879, 4.5861, 4.5819, 4.5748, 4.5743, 4.574, 4.574, 4.574, 4.574, 4.574, 4.574, 4.5688, 4.5675, 4.5648, 4.5644, 4.562, 4.56, 4.5576, 4.5543, 4.554, 4.5505, 4.5309, 4.2729, 2.9531, 1.8712, 4.8053, 4.8022, 4.7992, 4.7976, 4.7969, 4.795, 4.7886, 4.7861, 4.7859, 4.7807, 4.7791, 4.7783, 4.7774, 4.7757, 4.7734, 4.7712, 4.7607, 4.755, 4.7535, 4.748, 4.7471, 4.7451, 4.7439, 4.7427, 4.7392, 4.7376, 4.7371, 4.7353, 4.735, 4.7295, 3.832, 3.0642, 2.8613, 4.0641, 3.6086, 3.2286, 2.5462, 1.0406, 2.2458, 0.764, -0.0889, 0.8227, 1.3886, 5.2766, 5.2712, 5.2616, 5.2591, 5.2536, 5.2383, 5.2244, 5.2196, 5.2032, 5.1743, 5.1688, 5.1502, 5.1502, 5.1495, 5.1495, 5.1495, 5.1444, 5.1395, 5.1264, 5.1246, 5.1193, 5.0759, 5.0693, 5.047, 5.0264, 4.982, 4.9672, 4.9492, 4.9119, 4.9021, 4.444, 3.8543, 4.14, 3.6988, 2.617, -0.1891, 0.4485, 1.5235, 1.8344, -0.3321, -0.306, -1.2949, 0.9724, -0.9898, -0.1722, 5.3242, 5.3217, 5.3097, 5.296, 5.2946, 5.2893, 5.2874, 5.2846, 5.2834, 5.2759, 5.2738, 5.2628, 5.2614, 5.2598, 5.2566, 5.2413, 5.2372, 5.2323, 5.229, 5.2248, 5.2219, 5.2205, 5.2193, 5.2166, 5.2109, 5.2108, 5.2088, 5.2042, 5.1845, 5.1835, 5.0932, 3.689, 3.527, 4.1107, 1.7167, 1.7403, 2.8203, 0.7354, -0.6346, 0.8235, 0.0373]}, \"token.table\": {\"Topic\": [3, 5, 6, 7, 11, 10, 8, 4, 5, 7, 11, 1, 4, 11, 1, 2, 3, 10, 1, 2, 3, 9, 3, 3, 10, 11, 9, 2, 6, 11, 6, 1, 4, 5, 2, 3, 4, 5, 6, 6, 6, 1, 5, 6, 8, 1, 2, 4, 5, 6, 10, 1, 2, 3, 4, 5, 6, 1, 2, 3, 8, 2, 2, 9, 10, 2, 8, 1, 8, 9, 1, 2, 6, 9, 3, 8, 1, 2, 3, 5, 2, 3, 6, 10, 2, 6, 11, 6, 3, 2, 1, 2, 4, 5, 7, 8, 10, 1, 10, 4, 8, 7, 2, 3, 5, 1, 2, 3, 6, 8, 11, 2, 3, 4, 5, 6, 4, 7, 7, 2, 2, 6, 7, 8, 5, 5, 6, 11, 6, 1, 2, 3, 4, 5, 7, 8, 3, 7, 2, 1, 2, 3, 4, 5, 6, 5, 3, 5, 8, 2, 1, 6, 9, 6, 4, 5, 11, 6, 9, 5, 5, 4, 8, 4, 6, 8, 8, 1, 2, 4, 6, 11, 8, 1, 2, 5, 6, 1, 3, 4, 5, 3, 5, 1, 2, 4, 5, 8, 11, 2, 7, 4, 5, 6, 2, 2, 4, 5, 6, 8, 5, 7, 4, 1, 2, 3, 4, 5, 6, 9, 7, 1, 3, 5, 6, 11, 11, 11, 7, 11, 2, 4, 2, 10, 9, 7, 2, 10, 3, 3, 11, 2, 6, 5, 10, 6, 8, 9, 5, 7, 9, 2, 3, 10, 3, 3, 5, 7, 8, 1, 2, 3, 4, 5, 6, 9, 1, 2, 4, 5, 6, 7, 8, 9, 1, 3, 6, 10, 2, 8, 9, 3, 1, 3, 4, 5, 6, 8, 10, 1, 2, 3, 1, 9, 7, 7, 4, 3, 6, 5, 1, 5, 1, 3, 10, 1, 2, 4, 5, 6, 6, 2, 3, 4, 5, 6, 11, 1, 2, 6, 8, 1, 1, 4, 6, 1, 2, 3, 4, 6, 8, 9, 5, 2, 6, 7, 9, 10, 2, 6, 9, 1, 2, 3, 2, 6, 1, 2, 3, 4, 5, 6, 10, 11, 9, 10, 1, 2, 4, 5, 6, 7, 9, 10, 3, 1, 2, 4, 6, 7, 2, 9, 4, 1, 2, 4, 5, 6, 9, 1, 2, 3, 5, 6, 10, 1, 2, 3, 5, 8, 1, 2, 6, 10, 1, 4, 5, 7, 1, 2, 3, 4, 5, 6, 1, 2, 3, 4, 5, 6, 8, 11, 1, 2, 3, 5, 6, 3, 5, 6, 3, 1, 1, 2, 2, 4, 10, 9, 1, 2, 6, 9, 3, 6, 1, 2, 6, 8, 1, 4, 6, 11, 3, 9, 10, 1, 3, 11, 9, 8, 4, 5, 6, 1, 1, 2, 5, 6, 11, 10, 2, 3, 4, 6, 8, 6, 8, 9, 2, 4, 2, 1, 2, 4, 11, 5, 1, 4, 8, 4, 9, 1, 2, 4, 9, 2, 4, 1, 2, 6, 4, 9, 5, 3, 1, 3, 7, 8, 11, 1, 2, 4, 5, 6, 11, 11, 3, 1, 3, 4, 5, 7, 1, 4, 7, 1, 2, 3, 4, 5, 6, 8, 10, 5, 7, 7, 1, 2, 4, 10, 8, 5, 3, 7, 9, 4, 1, 2, 4, 7, 4, 6, 9, 1, 2, 4, 5, 6, 11, 1, 2, 1, 3, 4, 5, 6, 10, 1, 2, 4, 5, 6, 11, 1, 2, 3, 4, 5, 6, 7, 8, 10, 3, 2, 10, 2, 6, 10, 1, 3, 4, 4, 1, 1, 7, 9, 1, 5, 6, 1, 2, 3, 4, 5, 8, 10, 1, 5, 1, 5, 1, 3, 6, 4, 9, 1, 4, 5, 1, 3, 5, 10, 3, 2, 3, 6, 11, 8, 2, 3, 5, 4, 1, 2, 3, 4, 5, 6, 7, 10, 1, 2, 3, 4, 5, 7, 9, 9, 1, 2, 3, 1, 1, 3, 3, 4, 6, 7, 1, 2, 3, 4, 6, 10, 2, 1, 3, 4, 5, 5, 1, 7, 1, 8, 8, 8, 3, 4, 5, 7, 8, 2, 3, 4, 6, 10, 2, 3, 4, 5, 4, 2, 1, 2, 4, 5, 8, 5, 1, 3, 4, 6, 4, 6, 9, 6, 4, 4, 4, 6, 1, 2, 3, 2, 1, 2, 4, 5, 6, 7, 10, 1, 2, 3, 5, 6, 10, 2, 10, 1, 4, 5, 6, 9, 1, 2, 3, 5, 8, 10, 1, 4, 5, 6, 1, 8, 1, 2, 3, 4, 5, 6, 8, 9, 5, 8, 11, 10, 5, 1, 8, 9, 4, 11, 7, 6, 3, 6, 1, 2, 3, 6, 2, 5, 6, 1, 2, 3, 4, 2, 10, 6, 9, 11, 1, 7, 1, 2, 5, 6, 7, 11, 2, 1, 2, 3, 5, 7, 7, 5, 2, 6, 1, 2, 5, 5, 9, 9, 10, 3, 5, 2, 10, 2, 3, 5, 9, 9, 11, 6, 2, 2, 6, 10, 1, 2, 3, 4, 5, 6, 10, 11, 4, 3, 8, 6, 6, 2, 1, 7, 10, 10, 1, 2, 4, 5, 1, 5, 11, 1, 2, 3, 5, 8, 3, 5, 4, 5, 2, 7, 3, 6, 1, 2, 3, 5, 6, 9, 8, 8, 1, 2, 3, 4, 5, 6, 3, 3, 6, 8, 7, 5, 2, 11, 4, 5, 6, 1, 2, 3, 6, 10, 2, 1, 2, 11, 5, 7, 4, 3, 4, 5, 10, 4, 3, 8, 6, 2, 4, 5, 3, 4, 5, 5, 3, 1, 2, 4, 10, 6, 1, 3, 5, 1, 3, 9, 1, 4, 1, 4, 6, 1, 6, 3, 1, 2, 3, 4, 6, 4, 4, 7, 8, 1, 5, 6, 1, 2, 4, 5, 6, 9, 4, 10, 4, 11, 9, 10, 10, 5, 9, 7, 1, 4, 3, 1, 2, 4, 5, 6, 1, 2, 3, 4, 9, 1, 2, 5, 10, 2, 6, 9, 11, 7, 1, 2, 3, 4, 5, 6, 1, 3, 4, 1, 1, 6, 1, 3, 8, 1, 6, 1, 3, 4, 5, 6, 7, 10, 1, 7, 11, 4, 2, 3, 4, 6, 1, 2, 5, 7, 10, 2, 3, 4, 5, 9, 4, 2, 4, 1, 1, 1, 2, 3, 8, 1, 2, 3, 5, 6, 9, 10, 4, 1, 2, 4, 5, 6, 1, 2, 5, 6, 1, 5, 1, 1, 1, 2, 3, 4, 5, 6, 7, 10, 1, 2, 3, 4, 5, 6, 9, 3, 5, 6, 2, 6, 7, 4, 1, 2, 3, 4, 5, 6, 7, 10, 6, 10, 2, 7, 10, 5, 3, 10, 1, 1, 2, 4, 5, 6, 7, 8, 9, 3, 11, 2, 4, 5, 6, 11, 1, 4, 9, 9, 2, 1, 2, 3, 4, 5, 6, 7, 1, 2, 3, 4, 5, 6, 1, 3, 4, 2, 7, 10, 5, 5, 5], \"Freq\": [0.9889876124151046, 0.2229956728958012, 0.6132381004634533, 0.14494718738227078, 0.9350695959829677, 0.737326011852634, 0.9831751826618526, 0.0006767746939790814, 0.9488381209586721, 0.050081327354452025, 0.9603693591119314, 0.8724401416688164, 0.11784977720123124, 0.008794759492629197, 0.8200603787143252, 0.009111781985714724, 0.13667672978572087, 0.03189123695000154, 0.9110605205881085, 0.03220921032382201, 0.053682017206370024, 0.0015337719201820009, 0.9950592869972904, 0.9890737095158914, 0.722212991842082, 0.8629109376443889, 0.9658645221742789, 0.9179569929090557, 0.08140902995217926, 0.8857076648204875, 0.9696618991367257, 0.6487159536287797, 0.3135460442539102, 0.03784176396167881, 0.8222757687092772, 0.014605253440662117, 0.01971709214489386, 0.09566441003633687, 0.04673681101011878, 0.9679937967714858, 0.9861612004839726, 0.05246016099331211, 0.918052817382962, 0.02295132043457405, 0.003278760062082007, 0.3613971063686893, 0.08439562483985577, 0.4190535233384918, 0.13077143848947947, 0.001671200491878332, 0.002089000614847915, 0.32123057833508784, 0.3986779506460131, 0.2605047977731123, 0.0022002094406512866, 0.0070406702100841165, 0.010120963426995918, 0.10723840968357254, 0.3824162156640606, 0.5038181888907465, 0.00404673244088953, 0.9920007741892302, 0.9755096482450216, 0.014345730121250318, 0.007172865060625159, 0.9953372098553565, 0.9869530030583746, 0.9903893315819765, 0.009568979049101221, 0.9476803479975122, 0.6881943698247517, 0.17584777273124572, 0.030393442200462223, 0.1042060875444419, 0.9221429396990474, 0.0774910033360544, 0.7585248494494314, 0.1576279598981816, 0.028659629072396654, 0.05445329523755364, 0.9960071268994424, 0.003187222806078216, 0.9753826843627549, 0.8960631589425685, 0.9794743669764894, 0.019807368391840028, 0.819961920286587, 0.9754993339177238, 0.9951649164853105, 0.9933965805452785, 0.05889006962003157, 0.40486922863771707, 0.09937699248380327, 0.20979587302136246, 0.20427492899448452, 0.014722517405007893, 0.009201573378129933, 0.997590537131117, 0.8173136702401697, 0.9942504571705582, 0.9718292461170346, 0.9839843925376842, 0.0741357650859359, 0.7890163569860321, 0.1323852947963141, 0.2608552032117236, 0.45649660562051636, 0.0760827676034194, 0.1987468214946466, 0.007763547714634632, 0.8994639657465963, 0.39449306196385414, 0.06252771875507775, 0.01477927897847292, 0.5184116318602809, 0.00909494090982949, 0.31981855035476614, 0.6596257601067052, 0.9925425281395347, 0.9937746809810417, 0.9944039586202882, 0.9882686385518814, 0.9821452063707391, 0.9759399760422921, 0.9852718746860633, 0.14343416426859493, 0.840114390716056, 0.9431424365144734, 0.982587810019609, 0.001123603842277263, 0.11123678038544904, 0.7876462934363614, 0.010112434580495367, 0.058427399798417684, 0.026966492214654313, 0.004494415369109052, 0.9833897430020915, 0.9743354292443164, 0.99630739834237, 0.6368468906392614, 0.061727476397658895, 0.21040036162372758, 0.05005947781029654, 0.021077674867493283, 0.019572126662672332, 0.9805920603319694, 0.9886961279792346, 0.9908182494263192, 0.9562030069684919, 0.9906969545413016, 0.9714641762796247, 0.021061553957281834, 0.0052653884893204585, 0.9923438877232066, 0.9924751433975636, 0.18451229117114332, 0.799553261741621, 0.9369284716072099, 0.024023806964287433, 0.9631281612042175, 0.9689001813495345, 0.9986354525744627, 0.9725421961644289, 0.8640266070653535, 0.1288460729834299, 0.9454859631480259, 0.9705085922460204, 0.3523153068264784, 0.23041718378946896, 0.35429739012789313, 0.053020728312845544, 0.009910416507073933, 0.9705085922460204, 0.09548494934394022, 0.1555040603601312, 0.6902197766861964, 0.05729096960636413, 0.04757078679084437, 0.02642821488380243, 0.36470936539647353, 0.5602781555366114, 0.16060637634143451, 0.8374475337803371, 0.9690488066113063, 0.014932625568219645, 0.002357782984455733, 0.002357782984455733, 0.011002987260793422, 0.8857760758124003, 0.9953514289077705, 0.9825212394613811, 0.14665261112575498, 0.8473261976154731, 0.9974146312941493, 0.9976751927090114, 0.05687723788247354, 0.36970204623607805, 0.4013005117263411, 0.10427493611786816, 0.06319693098052616, 0.888196155889092, 0.10766014010776873, 0.9951518267351527, 0.7020833959360925, 0.11457311860061385, 0.031012272703925554, 0.10595859840507899, 0.0034458080782139504, 0.024120656547497656, 0.01809049241062324, 0.9715989924377558, 0.13546769938182054, 0.5133512818679515, 0.00356493945741633, 0.345799127369384, 0.9244873572093032, 0.8702327787414824, 0.8711005750167969, 0.9818960027787906, 0.9675698891128149, 0.2529497731940346, 0.7441143813377911, 0.9927937526328566, 0.9219020441779288, 0.9783558602750633, 0.9866029446512966, 0.9946160122071391, 0.9219020441779288, 0.9931641481461364, 0.9829706768063994, 0.9584756047611473, 0.9863059855421195, 0.011603599829907288, 0.9872054121374015, 0.7931821832229988, 0.9854277895618956, 0.9705085922460204, 0.9813499932084149, 0.09453333166169635, 0.4017666595622095, 0.47266665830848176, 0.936183479598842, 0.06062242698604897, 0.002598104013687813, 0.9935598116226003, 0.978148464739121, 0.9863204464227967, 0.9773429430703147, 0.9592931703165999, 0.6579711186480754, 0.012764871790350671, 0.0023208857800637583, 0.01624620046044631, 0.2506556642468859, 0.05686170161156208, 0.0011604428900318792, 0.7482602278573453, 0.028938240856361416, 0.18189751395427176, 0.006201051612077447, 0.02377069784629688, 0.0010335086020129077, 0.0020670172040258153, 0.008268068816103261, 0.28484505650524583, 0.6993756671917418, 0.013894880805133942, 0.9284213735962701, 0.9818480855287026, 0.018525435576013258, 0.9331372315992827, 0.986847061049174, 0.7795369181193111, 0.04492732697928587, 0.006213353731177833, 0.1300024780677208, 0.0348903709519986, 0.0019118011480547179, 0.0019118011480547179, 0.37652377705773965, 0.008493017527618187, 0.6143282678310489, 0.9898174445439887, 0.9012058586019271, 0.9881234064146128, 0.9850156508904109, 0.987165743525483, 0.0462273781014913, 0.924547562029826, 0.9770618594436176, 0.8956925576792069, 0.10367598864977537, 0.9943455915018704, 0.9620288680899438, 0.027099404734927994, 0.13495838931707857, 0.07361366690022468, 0.6379851131352805, 0.13495838931707857, 0.016358592644494373, 0.9704063571913761, 0.14355037589400144, 0.01595004176600016, 0.7305119128828074, 0.07656020047680077, 0.02871007517880029, 0.9153121534727141, 0.43837127686603927, 0.3586674083449412, 0.014944475347705884, 0.18929668773760785, 0.9976870049787979, 0.9978803864937738, 0.05866129936871258, 0.9190270234431637, 0.43794823893355816, 0.12538767006811416, 0.22896878882003455, 0.02725818914524221, 0.001817212609682814, 0.0054516378290484415, 0.17445241052955013, 0.9725561853361829, 0.9220618899779975, 0.04278265001975473, 0.007662564182642638, 0.022987692547927915, 0.004469829106541539, 0.6930136594328873, 0.09625189714345657, 0.20533738057270737, 0.08438105584283218, 0.9032608477721352, 0.01150650761493166, 0.9975370396098034, 0.9708090105491868, 0.37484014918525316, 0.5301727401900371, 0.020419307737718072, 0.006077174921939902, 0.002430869968775961, 0.06174409720690941, 0.0019446959750207687, 0.002430869968775961, 0.992856475863564, 0.9626671370386346, 0.5679887475393569, 0.20823766171285227, 0.03507946272582099, 0.020152031778663124, 0.1134484751983998, 0.03582583427317888, 0.01716654558923155, 0.00223911464207368, 0.9865003484120964, 0.48171735412366157, 0.3370431652614398, 0.1717012351331863, 0.003974565628083016, 0.00476947875369962, 0.9922245887736584, 0.9411190350616089, 0.9865352251150982, 0.6394619791067774, 0.28631739333903083, 0.02554283799497578, 0.0011880389765105014, 0.04009631545722942, 0.0074252436031906335, 0.2771345735506249, 0.40045282876693167, 0.21083443633755675, 0.00795601646556818, 0.1007762085638636, 0.0026520054885227264, 0.04964233784612731, 0.5483221862094971, 0.35652224453127795, 0.04287292813983722, 0.9889020583249215, 0.021858029102141966, 0.9609995553527934, 0.014320777687610253, 0.0015074502829063425, 0.7393930241878457, 0.2056726075626831, 0.005141815189067077, 0.048333062777230526, 0.7095600746868507, 0.0524729856556501, 0.08301696238058076, 0.13705630581699654, 0.01801311447880526, 0.9627690289218692, 0.2952744838749532, 0.5842466665130497, 0.009803579701777101, 0.0028010227719363146, 0.03851406311412433, 0.06419010519020721, 0.0037346970292484196, 0.0014005113859681573, 0.4059710339142694, 0.5308095842946864, 0.0039319228466273065, 0.02457451779142067, 0.034404324907988934, 0.12448801041913232, 0.03556800297689495, 0.8358480699570313, 0.9863443177374994, 0.9935356397908716, 0.9934451399079949, 0.996460106527363, 0.9943258647486279, 0.997900991875131, 0.8933638709034352, 0.9941308614362645, 0.7301709637802356, 0.09534079463372504, 0.03023000805459574, 0.1418484993331031, 0.13084900056186488, 0.8614225870322773, 0.7229367554302102, 0.06915047225854185, 0.20587981513338596, 0.0015716016422395874, 0.9047055080221789, 0.02559558564589407, 0.06891119212356096, 0.9057329219997159, 0.9975409465399313, 0.9445005945814698, 0.8804035312813671, 0.2071721014621971, 0.7826501610794113, 0.9303507351553743, 0.9607929708950015, 0.9791110290498509, 0.058794581213054656, 0.77804829138609, 0.16266500802278455, 0.9955157430906044, 0.49325146700114336, 0.2969324751598923, 0.009815949592062554, 0.009815949592062554, 0.18895702964720418, 0.9731670847379185, 0.9142503638118901, 0.019813475376728267, 0.052364184924210425, 0.0056609929647795055, 0.0056609929647795055, 0.9921591462018058, 0.92308623779583, 0.0678739880732228, 0.9872375369164639, 0.010099616745948479, 0.9986089275361948, 0.8232414068661931, 0.03283237516305349, 0.13254551454714186, 0.010944125054351163, 0.994875969902591, 0.8267557443355248, 0.17159081486209005, 0.9667458085974411, 0.9786888757414732, 0.9837516457693766, 0.997279140538283, 0.772776510361959, 0.14630234904910874, 0.07502684566620962, 0.9689203073496098, 0.030144187339765635, 0.02172761739006164, 0.9596364347277225, 0.014485078260041095, 0.9805696163885382, 0.9139133842883868, 0.9928680569342744, 0.9846325839495552, 0.014062869085070059, 0.9703379668698341, 0.9582997126128633, 0.9628489834583572, 0.9384006018967244, 0.4597845949373877, 0.35445948948917555, 0.0013503218647206688, 0.12287928968958085, 0.056038357385907754, 0.00472612652652234, 0.8501669319761759, 0.9880119983510207, 0.9946373588475652, 0.6860922493366897, 0.07078729556648386, 0.19602635695333992, 0.04900658923833498, 0.10609324055433382, 0.7546632394147896, 0.13812138864620818, 0.723509250425083, 0.1565846510191504, 0.009966220138305778, 0.0017249227162452307, 0.10023717562180619, 0.0034498454324904614, 0.00019165807958280341, 0.004216477750821675, 0.9821800231563278, 0.9997065208002642, 0.9595317774528208, 0.9336640084968426, 0.02094199645226563, 0.038393660162486985, 0.006980665484088543, 0.9403011814543106, 0.9830266644335813, 0.59619152307399, 0.025551065274599574, 0.3747489573607937, 0.9920653923216703, 0.8415411552160031, 0.13494100156524833, 0.017174309290122515, 0.00613368188932947, 0.8852706815312513, 0.09157972567564669, 0.02180469658943969, 0.5452396101873113, 0.22023403862467866, 0.10733736639765892, 0.061152364122969025, 0.039770418625427406, 0.026513612416951608, 0.9235664269426883, 0.07539317770960721, 0.7144057384803274, 0.1536119334798235, 0.052918943591135366, 0.01690466253605713, 0.05732885555706331, 0.003674926638273289, 0.39260743785244195, 0.10905762162567832, 0.36788771028395484, 0.06979687784043412, 0.03344433729854135, 0.027627930811838508, 0.21838130528736577, 0.43704115815800626, 0.19595822483375233, 0.10125204652035391, 0.014484474330284465, 0.025347830077997815, 0.004596035124032571, 0.0013927379163735062, 0.0013927379163735062, 0.976800404080142, 0.998605042596403, 0.9219020441779288, 0.8317077635679686, 0.09177464977301722, 0.06883098732976292, 0.5846609317299721, 0.026925174487564506, 0.3884918033205736, 0.9934972757141458, 0.9968440748903274, 0.9919809103640234, 0.990556980010857, 0.9320506947139457, 0.9408983352114227, 0.011489938964589967, 0.0472364157433143, 0.23472591862082115, 0.3651292067434996, 0.12237847039205205, 0.24208200154056198, 0.03209927092250545, 0.0013374696217710606, 0.0026749392435421212, 0.9892544420514208, 0.007015988950719297, 0.555579824888912, 0.44141958689803973, 0.5299248440224754, 0.4063321487712272, 0.0626428729355642, 0.9635597701385683, 0.02639889781201557, 0.8990708335055705, 0.008595837069667838, 0.09240524849892925, 0.2527289251002512, 0.6338280978704712, 0.11232396671122274, 0.9068611640232999, 0.9866716060759722, 0.28288279886204376, 0.3979010797180396, 0.15543010926485923, 0.1616473136354536, 0.9518053833008117, 0.19713096744290004, 0.7720962891513585, 0.027379301033736116, 0.9924605746378484, 0.5593633943733743, 0.2737575586732568, 0.007483122332754172, 0.028061708747828144, 0.05737060455111532, 0.054876230440197266, 0.016837025248696888, 0.001870780583188543, 0.04825002944640138, 0.5769025259895817, 0.3503371703282187, 0.0010489136836174214, 0.008391309468939371, 0.009440223152556793, 0.004195654734469686, 0.9263081181524341, 0.21924568445807532, 0.17002726549809924, 0.6085186344142499, 0.9956328505756591, 0.9317112253294069, 0.06547159961774211, 0.9824121940514726, 0.9894576762382283, 0.9831551075627418, 0.9899890002811309, 0.573668546970015, 0.23829308874139088, 0.1270896473287418, 0.019416473897446662, 0.02647700986015454, 0.014121071925415755, 0.9937519115050959, 0.9753808646538014, 0.0011529324641297888, 0.016141054497817043, 0.006917594784778733, 0.9895041366649624, 0.9948758961269136, 0.9649028654595532, 0.2773591587042516, 0.7088067389108651, 0.9978092374187275, 0.9878802426327891, 0.016309212320575434, 0.9063262275291205, 0.058247186859197976, 0.018639099794943353, 0.9364027470257256, 0.836652111675226, 0.049557790587034294, 0.036439551902231096, 0.07287910380446219, 0.004372746228267731, 0.006734740305337261, 0.7542909141977732, 0.19530746885478056, 0.040408441832023564, 0.9866352565887285, 0.9923829007705011, 0.0868312023533213, 0.26049360705996394, 0.19617419790935553, 0.4116442185638936, 0.04180761594789544, 0.9852815425378223, 0.5340163378741845, 0.3166443029061671, 0.010269544959118932, 0.13692726612158576, 0.7981995916899506, 0.13739501168433577, 0.0588835764361439, 0.993276173561922, 0.9948406106055727, 0.9986591941634589, 0.03203812681536996, 0.9611438044610987, 0.3591691387416386, 0.0777818517020109, 0.560486872558608, 0.9931853403973367, 0.6488232483891451, 0.08020885826542974, 0.08531770274093482, 0.07458912934237416, 0.09962246727234904, 0.010217688951010159, 0.0015326533426515238, 0.5566808949203241, 0.055909425140119255, 0.27753599529987255, 0.06878065970475103, 0.03780925153360583, 0.003620034721302686, 0.996003659113647, 0.003600880907858449, 0.4693391879437559, 0.4008007668472074, 0.07896818082863194, 0.048423884470387514, 0.002234948514017885, 0.5352924188243104, 0.027879813480432836, 0.11709521661781791, 0.24813033997585224, 0.04739568291673582, 0.02230385078434627, 0.011036648021548339, 0.05966187988460189, 0.9288378994366842, 0.0003199028412042997, 0.994568570794129, 0.9385364213907621, 0.6903826579123029, 0.197402992400001, 0.039410223081640126, 0.042928992999643714, 0.015834464631016124, 0.011963817721212182, 0.001055630975401075, 0.001055630975401075, 0.9966139110737852, 0.003268410909172353, 0.9467728172953929, 0.9383480559427291, 0.9974472306850645, 0.9907054295124873, 0.9578352854390116, 0.9161885226418182, 0.9820287756077956, 0.9620012541922106, 0.9836519354572874, 0.9648665438504376, 0.9732744588941818, 0.9894122268202317, 0.3489071486751259, 0.5289521837286364, 0.003354876429568518, 0.11742067503489813, 0.9524271933232757, 0.040450575778208625, 0.007354650141492477, 0.21634014945764518, 0.18543441382083872, 0.09271720691041936, 0.503321980370848, 0.9979114825290134, 0.9141944981111398, 0.9579346516357892, 0.9866249937164402, 0.8840557543932297, 0.9968056016402821, 0.9918361584246266, 0.08111678243496229, 0.8631657618079321, 0.04367826746497969, 0.010399587491661833, 0.9515209298456654, 0.9531585407080191, 0.9966662377889651, 0.2712599021524343, 0.6958406185649401, 0.001684844112748039, 0.021060551409350488, 0.009266642620114214, 0.984333380229264, 0.9799344589771469, 0.9860247816530164, 0.009762621600524915, 0.27995434001196196, 0.2573773771077715, 0.46508543582632395, 0.9703447513098836, 0.9541847483288803, 0.9748314153426194, 0.963653553281994, 0.8004987133239879, 0.19380495164686024, 0.644786796368503, 0.3054253245956067, 0.15103090875793823, 0.4797452395840391, 0.3672124056075361, 0.8953254556329132, 0.9700414415852443, 0.9072587690898388, 0.9900031554431485, 0.9959375323547038, 0.26487313516751815, 0.30363505738715496, 0.42638114441600483, 0.6047012548779215, 0.2589654984738596, 0.009416927217231258, 0.03363188291868306, 0.08206179432158668, 0.01076220253397858, 0.9679033119286508, 0.8354258472642487, 0.9876590924963338, 0.9905528999779486, 0.9705085922460204, 0.9841407791710465, 0.9962018080859635, 0.9955823866712118, 0.7060956127644418, 0.0743258539752044, 0.2043960984318121, 0.9177849580314957, 0.03397082792464534, 0.22861449062801867, 0.7143055169020021, 0.02203513162679698, 0.6239034082728458, 0.07130324665975381, 0.28521298663901523, 0.6684472290105846, 0.09144880657473796, 0.20358246225566665, 0.03374896433115329, 0.002177352537493761, 0.9775675423462391, 0.9697241001098603, 0.9944708233147453, 0.9874510800901096, 0.49270562718715105, 0.49270562718715105, 0.9816764560115865, 0.9873353135168011, 0.5795388414781119, 0.14226946288993358, 0.12971627498788063, 0.11193259212663892, 0.03609041521840227, 0.9848165982947746, 0.9520763186869713, 0.9480126972838262, 0.47020728614077933, 0.2883591644288757, 0.083996513362165, 0.020782642481360414, 0.09438783460284521, 0.0419982566810825, 0.99091206175339, 0.9649858377444138, 0.026805162159567048, 0.9893339868609622, 0.982685037637964, 0.9888286475307734, 0.9141886355125572, 0.07671513025280201, 0.8722724469856109, 0.11454082637184788, 0.9840578792184286, 0.004901446574657565, 0.96215396260528, 0.013724050409041181, 0.017645207668767232, 0.000980289314931513, 0.9927561677419786, 0.03068045646877987, 0.9678289449696923, 0.8514243633687625, 0.9908877655399664, 0.9852350238122801, 0.9905442977132122, 0.8669235589973855, 0.11898950809768036, 0.011332334104540986, 0.9418946189478631, 0.9766420343073009, 0.9935756027637634, 0.9705085922460204, 0.9814978595435715, 0.07515411691480707, 0.10736302416401011, 0.8052226812300758, 0.6615818574894053, 0.28695116710383844, 0.04782519451730641, 0.9838791964233088, 0.9808577341586288, 0.9959771807954083, 0.9971895412716594, 0.9934493347713326, 0.9177849580314957, 0.9646773839077446, 0.6231772817059152, 0.1257966562449829, 0.24965797931696607, 0.9680364562615332, 0.02668772185182172, 0.004852313063967585, 0.9962305476343186, 0.9886323349717477, 0.527565327268396, 0.15615933687144523, 0.31231867374289046, 0.9935787483461782, 0.9794626960522429, 0.9791848066671759, 0.3085687579323284, 0.10193789324550134, 0.13499883159539366, 0.4325472767444246, 0.022040625566594887, 0.9874947899118005, 0.9730819945760221, 0.021504574465768443, 0.9830179549643309, 0.8425593779766636, 0.0043731455604325105, 0.15160237942832702, 0.21034190774217704, 0.17567016470775224, 0.03236029349879647, 0.3686762009327169, 0.21265335727780535, 0.9373200708518161, 0.9897326480996542, 0.7478353367938827, 0.9854369909240331, 0.8282469134816026, 0.9916062044651652, 0.9036116793460541, 0.6343164516250974, 0.9887067031764506, 0.9770471747885737, 0.9820434323803577, 0.2401632581983197, 0.7556356172581279, 0.98589189517289, 0.6786725901296212, 0.12052928513230977, 0.0883881424303605, 0.03584973609063573, 0.07664426336618672, 0.0020084326368896024, 0.2791721365276547, 0.5623611383290886, 0.156657745677389, 0.9191483408902893, 0.799674138292839, 0.18916429616168534, 0.002757497028595996, 0.0077209916800687894, 0.3830066123477743, 0.31054590190360076, 0.3001943718401474, 0.9823351160546135, 0.972874855987608, 0.663404104398264, 0.005508693630827816, 0.08026953576349102, 0.09443474795704827, 0.08341736069539264, 0.07239997343373701, 0.5131840729389113, 0.4718339893639775, 0.014767886991047809, 0.9941999953233109, 0.9970086858002345, 0.9823100047248126, 0.6675071369270509, 0.3319782835248897, 0.9802506991616016, 0.9946396633219404, 0.9603139806037538, 0.7820556970379215, 0.04435539774244928, 0.06256445576303372, 0.04715679128407766, 0.06349825361024318, 0.9946954846139026, 0.663524476290328, 0.9957343226719674, 0.9840986079285264, 0.8854447691407423, 0.9989189362762725, 0.809038887591491, 0.08410800316545204, 0.030038572559090013, 0.07409514564575537, 0.395526995330735, 0.14913312938699844, 0.43118926540153896, 0.022694171863238893, 0.8889780018568867, 0.024672044270229277, 0.2516548515563386, 0.17270430989160493, 0.5477193827990899, 0.9666855567408611, 0.988194017196319, 0.05316506569566471, 0.9463381693828319, 0.9963142423563314, 0.9961283659796486, 0.2703093534571356, 0.6075872404284264, 0.11810814092496463, 0.0036528291007721023, 0.01955969960199841, 0.22384989544509293, 0.43248669119974265, 0.010866499778888006, 0.043465999115552025, 0.03259949933666402, 0.23688969517975852, 0.9868568945455674, 0.1936973826505743, 0.7013617646301841, 0.060767806321748795, 0.020255935440582934, 0.024053923335692232, 0.020715472830007242, 0.8255873805910203, 0.05002028805294432, 0.10307210871515798, 0.993507784049806, 0.9912932386891047, 0.9976011233338755, 0.9937953450425827, 0.7214960174816647, 0.2323746637550149, 0.005882902879873794, 0.005882902879873794, 0.004202073485624139, 0.025632648262307246, 0.0021010367428120694, 0.0021010367428120694, 0.6250050094402749, 0.07647019596022502, 0.054682598228540796, 0.05425539042988032, 0.09313130010798354, 0.09441292350396496, 0.0017088311946418999, 0.6850634978064559, 0.09323349378431058, 0.2188960288849031, 0.20357014970810372, 0.7935785497095569, 0.992151887194565, 0.9969544949271744, 0.6634979628615707, 0.09562020281431764, 0.06534047192311705, 0.016999147166989803, 0.012749360375242352, 0.13546195398695, 0.00796835023452647, 0.0021248933958737254, 0.9882038680861773, 0.9709884142904227, 0.996712159133337, 0.9677377748751801, 0.6098601861874094, 0.9794625259728224, 0.9739858680199835, 0.6875366856878669, 0.9985575001154527, 0.04478857075698727, 0.3409415692317603, 0.05392909540127039, 0.5127834325442828, 0.045702623221415585, 0.9666722125687655, 0.9705085922460204, 0.935847562233948, 0.9855017164545402, 0.9228527811165781, 0.9077521970547497, 0.04675991160640368, 0.013214757627896692, 0.032528634160976476, 0.8973471642961098, 0.9922400932223341, 0.007242628417681271, 0.9785580417216704, 0.9166680897880617, 0.9970607978045789, 0.16018591177771965, 0.30114951414211294, 0.002135812157036262, 0.023493933727398882, 0.4463847408205787, 0.04058043098368898, 0.027765558041471405, 0.008645463896315599, 0.0467815657500633, 0.0008645463896315599, 0.00038424283983624886, 0.03650306978444364, 0.9068131020135473, 0.08099694349049663, 0.29698879279848767, 0.6179766799645299, 0.9546610117837834, 0.0435459408883831, 0.8019199936776199, 0.9786046858471844, 0.9815324606533822, 0.9810475724854244], \"Term\": [\"across\", \"actin\", \"actin\", \"actin\", \"adrenaline\", \"aerobics_might\", \"ago\", \"ah\", \"ah\", \"ah\", \"ahh\", \"alone\", \"alone\", \"alone\", \"already\", \"already\", \"already\", \"already\", \"always\", \"always\", \"always\", \"always\", \"anymore\", \"anyone\", \"apply\", \"arrived\", \"art\", \"as\", \"as\", \"assured\", \"aw\", \"away\", \"away\", \"away\", \"ayy\", \"ayy\", \"ayy\", \"ayy\", \"ayy\", \"ba\", \"ba_ba\", \"babe\", \"babe\", \"babe\", \"babe\", \"baby\", \"baby\", \"baby\", \"baby\", \"baby\", \"baby\", \"back\", \"back\", \"back\", \"back\", \"back\", \"back\", \"bad\", \"bad\", \"bad\", \"bad\", \"bae\", \"bag\", \"bag\", \"bag\", \"band\", \"baow\", \"bed\", \"bed\", \"belly\", \"best\", \"best\", \"best\", \"best\", \"bet\", \"bet\", \"better\", \"better\", \"better\", \"better\", \"big\", \"big\", \"bill\", \"bird_feather\", \"bitch\", \"bitch\", \"bittersweet\", \"blast\", \"bleed\", \"block\", \"body\", \"body\", \"body\", \"body\", \"body\", \"body\", \"body\", \"bone\", \"boogie\", \"born\", \"born_choker\", \"bother\", \"bottle\", \"bottle\", \"bottle\", \"bout\", \"bout\", \"bout\", \"bout\", \"bout\", \"bout_revolution\", \"boy\", \"boy\", \"boy\", \"boy\", \"boy\", \"breakin\", \"breakin\", \"bright\", \"bro\", \"brother\", \"brr\", \"buck\", \"buried\", \"burnin\", \"busy\", \"busy\", \"butterfly\", \"cake\", \"call\", \"call\", \"call\", \"call\", \"call\", \"call\", \"call\", \"callin\", \"callin_phone\", \"cash\", \"cause\", \"cause\", \"cause\", \"cause\", \"cause\", \"cause\", \"cave\", \"ceilin\", \"ceiling\", \"cell\", \"chain\", \"change\", \"change\", \"change\", \"changin\", \"cheek\", \"cheer\", \"cheer\", \"chick\", \"chick\", \"chokin\", \"christ\", \"christmas\", \"circumstance\", \"clear\", \"clear\", \"co\", \"coke_southern\", \"come\", \"come\", \"come\", \"come\", \"come\", \"comfort_dumb\", \"comin\", \"comin\", \"comin\", \"comin\", \"coming\", \"coming\", \"coming\", \"coming\", \"control\", \"control\", \"could\", \"could\", \"could\", \"could\", \"could\", \"created\", \"crib\", \"crime_lettin\", \"cryin\", \"cryin\", \"da\", \"da_da\", \"dance\", \"dance\", \"dance\", \"dance\", \"dance\", \"dancin\", \"dancin\", \"dancing\", \"day\", \"day\", \"day\", \"day\", \"day\", \"day\", \"day\", \"de\", \"dead\", \"dead\", \"dead\", \"dead\", \"defeated\", \"denial_denial\", \"depressed\", \"dey\", \"di\", \"diamond\", \"diamond\", \"dick\", \"ding_ring\", \"dirt\", \"dolla\", \"dollar\", \"dong_ding\", \"doo_doo\", \"doubt\", \"dreaming\", \"drop\", \"drop\", \"drowning\", \"due\", \"duh_duh\", \"east_tennessee\", \"eh\", \"eh_eh\", \"eh_eh\", \"eh_eh\", \"em\", \"em\", \"em\", \"enemy\", \"enemy_spare\", \"escape\", \"este\", \"eventually\", \"ever\", \"ever\", \"ever\", \"ever\", \"ever\", \"ever\", \"ever\", \"every\", \"every\", \"every\", \"every\", \"every\", \"every\", \"every\", \"every\", \"everybody\", \"everybody\", \"everybody\", \"everythin\", \"fact\", \"fact\", \"fakin\", \"father\", \"feel\", \"feel\", \"feel\", \"feel\", \"feel\", \"feel\", \"feel\", \"feelin\", \"feelin\", \"feelin\", \"fell\", \"fence\", \"fi\", \"field\", \"fight_fight\", \"fiji\", \"fiji\", \"final\", \"find\", \"find\", \"fine\", \"finger\", \"finger\", \"fire\", \"fire\", \"fire\", \"fire\", \"fire\", \"floatin\", \"fly\", \"fly\", \"fly\", \"fly\", \"fly\", \"followed\", \"foot\", \"foot\", \"foot\", \"foot\", \"forget\", \"found\", \"fresh\", \"fresh\", \"friend\", \"friend\", \"friend\", \"friend\", \"friend\", \"friend\", \"friend\", \"fruit\", \"fuck\", \"fuck\", \"fuck\", \"fuck\", \"fuck\", \"fucked\", \"fucked\", \"fucked\", \"fuckin\", \"fuckin\", \"fuckin\", \"gang\", \"geekin\", \"get\", \"get\", \"get\", \"get\", \"get\", \"get\", \"get\", \"get\", \"ghost\", \"giddy_yap\", \"girl\", \"girl\", \"girl\", \"girl\", \"girl\", \"girl\", \"girl\", \"girl\", \"girlfriend\", \"give\", \"give\", \"give\", \"give\", \"give\", \"glock\", \"glory\", \"glow\", \"go\", \"go\", \"go\", \"go\", \"go\", \"go\", \"god\", \"god\", \"god\", \"god\", \"god\", \"god\", \"goin\", \"goin\", \"goin\", \"goin\", \"golden\", \"gon\", \"gon\", \"gon\", \"gon\", \"gonna\", \"gonna\", \"gonna\", \"gonna\", \"good\", \"good\", \"good\", \"good\", \"good\", \"goosebump_every\", \"got\", \"got\", \"got\", \"got\", \"got\", \"got\", \"got\", \"got\", \"gotta\", \"gotta\", \"gotta\", \"gotta\", \"gotta\", \"grew\", \"grew\", \"grew\", \"grid_grid\", \"ground\", \"grow\", \"guap\", \"gun\", \"ha_ha\", \"handle_behavior\", \"happier\", \"hate\", \"hate\", \"hate\", \"hate\", \"hatin\", \"hatin\", \"head\", \"head\", \"head\", \"head\", \"heart\", \"heart\", \"heart\", \"heartbeat\", \"heartless\", \"heat_wave\", \"heh\", \"hell\", \"hell\", \"hello_hello\", \"hennessy\", \"hero\", \"hey\", \"hey\", \"hey\", \"hide\", \"high\", \"high\", \"high\", \"high\", \"high\", \"highway_hell\", \"hit\", \"hit\", \"hit\", \"hit\", \"hit\", \"hm\", \"hmm\", \"hmm\", \"ho\", \"ho\", \"hoe\", \"hold\", \"hold\", \"hold\", \"hold\", \"holdin\", \"home\", \"home\", \"hometown\", \"hoo\", \"hook\", \"hope\", \"hot\", \"hot\", \"hot\", \"huh\", \"huh\", \"hundred\", \"hundred\", \"hundred\", \"ice_cream\", \"jealousy\", \"jesus\", \"jesus_lord\", \"job\", \"job\", \"joint\", \"junya_watanabe\", \"kanye\", \"keep\", \"keep\", \"keep\", \"keep\", \"keep\", \"keep\", \"keeping_feeling\", \"kid_kid\", \"kind\", \"kinda\", \"kinda\", \"kinda\", \"kinda\", \"kiss\", \"kiss\", \"kiss\", \"know\", \"know\", \"know\", \"know\", \"know\", \"know\", \"know\", \"know\", \"knowin\", \"la\", \"lalisa\", \"last\", \"last\", \"last\", \"last\", \"lasted\", \"layin\", \"le\", \"le\", \"le\", \"lead\", \"leave\", \"leave\", \"leave\", \"leave\", \"leg\", \"leg\", \"leg\", \"let\", \"let\", \"let\", \"let\", \"let\", \"let\", \"lie\", \"lie\", \"life\", \"life\", \"life\", \"life\", \"life\", \"life\", \"light\", \"light\", \"light\", \"light\", \"light\", \"light\", \"like\", \"like\", \"like\", \"like\", \"like\", \"like\", \"like\", \"like\", \"like\", \"lik\\u0435\", \"lil\", \"ling_ding\", \"lit\", \"lit\", \"lit\", \"little\", \"little\", \"little\", \"little_bit\", \"livin_gangsta\", \"living\", \"lo\", \"lonely_lonely\", \"long\", \"long\", \"long\", \"look\", \"look\", \"look\", \"look\", \"look\", \"look\", \"look\", \"lord\", \"lord\", \"lose\", \"lose\", \"lost\", \"lost\", \"lost\", \"loud\", \"loud\", \"love\", \"love\", \"love\", \"loved\", \"loved\", \"loved\", \"lovely_weather\", \"loving\", \"low\", \"low\", \"low\", \"low\", \"luck\", \"mad\", \"mad\", \"mad\", \"magic\", \"make\", \"make\", \"make\", \"make\", \"make\", \"make\", \"make\", \"make\", \"man\", \"man\", \"man\", \"man\", \"man\", \"man\", \"man\", \"maniac_maniac\", \"many\", \"many\", \"many\", \"matter\", \"maybe\", \"maybe\", \"men\", \"merry_christmas\", \"mhm\", \"mi\", \"might\", \"might\", \"might\", \"might\", \"might\", \"might\", \"mimi\", \"mind\", \"mind\", \"mind\", \"mind\", \"misery\", \"mistake\", \"mistress\", \"mm\", \"mm\", \"mm_mm\", \"mmh_mmh\", \"mmm\", \"mmm\", \"mmm\", \"mmm\", \"mob\", \"money\", \"money\", \"money\", \"money\", \"money\", \"moon\", \"moon\", \"moon\", \"moon\", \"moonlight\", \"motherfucker\", \"move\", \"move\", \"move\", \"move\", \"move\", \"mu\", \"much\", \"much\", \"much\", \"much\", \"music\", \"music\", \"music\", \"mya\", \"na\", \"na_na\", \"nah_nah\", \"nah_nah\", \"name\", \"name\", \"name\", \"neck\", \"need\", \"need\", \"need\", \"need\", \"need\", \"need\", \"need\", \"never\", \"never\", \"never\", \"never\", \"never\", \"never\", \"nigga\", \"nigga\", \"night\", \"night\", \"night\", \"night\", \"night\", \"nobody\", \"nobody\", \"nobody\", \"nobody\", \"nobody\", \"nobody\", \"oh\", \"oh\", \"oh\", \"oh\", \"ohh_ohh\", \"ol\", \"one\", \"one\", \"one\", \"one\", \"one\", \"one\", \"one\", \"one\", \"ooh\", \"ooh\", \"oooooh\", \"order\", \"paradise\", \"part\", \"passion\", \"patch\", \"patience\", \"patient\", \"pew\", \"pipe\", \"pity\", \"plane\", \"play\", \"play\", \"play\", \"play\", \"playin\", \"playin\", \"playin\", \"please\", \"please\", \"please\", \"please\", \"pop\", \"popping\", \"popstar_doctor\", \"power\", \"pretending\", \"promise\", \"prove\", \"pull\", \"pull\", \"pull\", \"pull\", \"purple\", \"purse\", \"pussy\", \"put\", \"put\", \"put\", \"put\", \"put\", \"que\", \"quiet\", \"rack\", \"rack\", \"rain\", \"rain\", \"rain\", \"rain_rain\", \"rainy\", \"raise_spirit\", \"raised\", \"rather\", \"rather\", \"raw\", \"raw\", \"red\", \"red\", \"red\", \"relax\", \"reminds\", \"resolution_getting\", \"rest_rest\", \"rich\", \"ride\", \"ride\", \"ride\", \"right\", \"right\", \"right\", \"right\", \"right\", \"right\", \"ring_ling\", \"riot\", \"rip\", \"risk\", \"river_sippin\", \"rocket\", \"rollin\", \"roof\", \"rose\", \"rose\", \"rose\", \"rosy_comfy\", \"run\", \"run\", \"run\", \"run\", \"running\", \"running\", \"running\", \"said\", \"said\", \"said\", \"said\", \"said\", \"saint\", \"salt\", \"santa\", \"santa_claus\", \"savage\", \"savage\", \"saved_save\", \"savin\", \"say\", \"say\", \"say\", \"say\", \"say\", \"scare\", \"search\", \"secondhand\", \"see\", \"see\", \"see\", \"see\", \"see\", \"see\", \"seein\", \"seven\", \"seven\", \"seven_summer\", \"sexy\", \"shame\", \"shawty\", \"shawty\", \"shine\", \"shine\", \"shining\", \"shit\", \"shit\", \"shit\", \"shit\", \"shit\", \"shoot\", \"shot\", \"shot\", \"shoulder_knee\", \"shut\", \"si\", \"sight\", \"sign\", \"sign\", \"sign\", \"silly\", \"singing\", \"sister\", \"sixer\", \"sixty\", \"skin\", \"skin\", \"skin\", \"sleep\", \"sleep\", \"sleep\", \"slowly\", \"small\", \"smile\", \"smoke\", \"snow\", \"snuggled_together\", \"social\", \"somebody\", \"somebody\", \"somebody\", \"someone\", \"someone\", \"someone\", \"sometimes\", \"speak\", \"spend\", \"spend\", \"spend\", \"spendin\", \"split\", \"spotlight\", \"star\", \"star\", \"star\", \"star\", \"star\", \"staring\", \"started\", \"started\", \"status\", \"stay\", \"stay\", \"stay\", \"stop\", \"stop\", \"stop\", \"stop\", \"stop\", \"strawberry\", \"stressed\", \"stride\", \"strike\", \"strung\", \"sugar\", \"suh\", \"suh_suh\", \"sunset\", \"sunshine\", \"superstar\", \"sweet\", \"sweet\", \"sympathy\", \"take\", \"take\", \"take\", \"take\", \"take\", \"talk\", \"talk\", \"talk\", \"talk\", \"television\", \"tell\", \"tell\", \"tell\", \"tell\", \"tellin\", \"tellin\", \"tellin\", \"telling\", \"terrifying\", \"thing\", \"thing\", \"thing\", \"thing\", \"thing\", \"thing\", \"think\", \"think\", \"think\", \"thinkin\", \"thinking\", \"thirty_five\", \"thought\", \"thought\", \"thriller\", \"tight\", \"til_daylight\", \"time\", \"time\", \"time\", \"time\", \"time\", \"ting\", \"tingle\", \"tired\", \"todo\", \"toe_bone\", \"tonight\", \"top\", \"top\", \"top\", \"top\", \"touch\", \"touch\", \"touch\", \"touch\", \"touching\", \"town\", \"town\", \"town\", \"town\", \"tragic\", \"train\", \"tree\", \"tree\", \"tryin\", \"trying\", \"tryna\", \"tryna\", \"tryna\", \"tryna\", \"turn\", \"turn\", \"turn\", \"turn\", \"turn\", \"turn\", \"turn\", \"tv\", \"two\", \"two\", \"two\", \"two\", \"two\", \"uh\", \"uh\", \"uh\", \"uh\", \"understand\", \"universe\", \"waitin\", \"wake\", \"wanna\", \"wanna\", \"wanna\", \"wanna\", \"wanna\", \"wanna\", \"wanna\", \"wanna\", \"want\", \"want\", \"want\", \"want\", \"want\", \"want\", \"want\", \"wanted\", \"wanted\", \"wanted\", \"war\", \"war\", \"warnin\", \"watching\", \"way\", \"way\", \"way\", \"way\", \"way\", \"way\", \"way\", \"way\", \"wee\", \"wheel\", \"whip\", \"whiskey\", \"whispering\", \"whoa\", \"wing\", \"wink\", \"without\", \"woah\", \"woah\", \"woah\", \"woah\", \"woah\", \"woh\", \"wonder_drinking\", \"wonderful\", \"wonderin\", \"wondering\", \"woo\", \"woo\", \"woo\", \"woo\", \"worship\", \"would\", \"would\", \"wreck\", \"wrecked_along\", \"wrist\", \"ya\", \"ya\", \"ya\", \"ya\", \"ya\", \"ya\", \"ya\", \"yeah\", \"yeah\", \"yeah\", \"yeah\", \"yeah\", \"yeah\", \"year\", \"year\", \"year\", \"yo\", \"yo\", \"yoo\", \"\\ub098\\ub97c\", \"\\ub208\\uc744\", \"\\uc2f6\\uc5b4\"]}, \"R\": 30, \"lambda.step\": 0.01, \"plot.opts\": {\"xlab\": \"PC1\", \"ylab\": \"PC2\"}, \"topic.order\": [8, 9, 3, 4, 7, 10, 6, 2, 11, 1, 5]};\n",
       "\n",
       "function LDAvis_load_lib(url, callback){\n",
       "  var s = document.createElement('script');\n",
       "  s.src = url;\n",
       "  s.async = true;\n",
       "  s.onreadystatechange = s.onload = callback;\n",
       "  s.onerror = function(){console.warn(\"failed to load library \" + url);};\n",
       "  document.getElementsByTagName(\"head\")[0].appendChild(s);\n",
       "}\n",
       "\n",
       "if(typeof(LDAvis) !== \"undefined\"){\n",
       "   // already loaded: just create the visualization\n",
       "   !function(LDAvis){\n",
       "       new LDAvis(\"#\" + \"ldavis_el1398818424968108242233953183\", ldavis_el1398818424968108242233953183_data);\n",
       "   }(LDAvis);\n",
       "}else if(typeof define === \"function\" && define.amd){\n",
       "   // require.js is available: use it to load d3/LDAvis\n",
       "   require.config({paths: {d3: \"https://d3js.org/d3.v5\"}});\n",
       "   require([\"d3\"], function(d3){\n",
       "      window.d3 = d3;\n",
       "      LDAvis_load_lib(\"https://cdn.jsdelivr.net/gh/bmabey/pyLDAvis@3.3.1/pyLDAvis/js/ldavis.v3.0.0.js\", function(){\n",
       "        new LDAvis(\"#\" + \"ldavis_el1398818424968108242233953183\", ldavis_el1398818424968108242233953183_data);\n",
       "      });\n",
       "    });\n",
       "}else{\n",
       "    // require.js not available: dynamically load d3 & LDAvis\n",
       "    LDAvis_load_lib(\"https://d3js.org/d3.v5.js\", function(){\n",
       "         LDAvis_load_lib(\"https://cdn.jsdelivr.net/gh/bmabey/pyLDAvis@3.3.1/pyLDAvis/js/ldavis.v3.0.0.js\", function(){\n",
       "                 new LDAvis(\"#\" + \"ldavis_el1398818424968108242233953183\", ldavis_el1398818424968108242233953183_data);\n",
       "            })\n",
       "         });\n",
       "}\n",
       "</script>"
      ],
      "text/plain": [
       "PreparedData(topic_coordinates=              x         y  topics  cluster       Freq\n",
       "topic                                                \n",
       "7     -0.258589  0.026367       1        1  34.888086\n",
       "8     -0.191270  0.148991       2        1  27.817621\n",
       "2     -0.155733  0.176748       3        1   9.203194\n",
       "3     -0.134816 -0.126071       4        1   8.467828\n",
       "6     -0.158580 -0.263114       5        1   8.071693\n",
       "9     -0.123481  0.015409       6        1   6.720908\n",
       "5      0.192771 -0.122157       7        1   2.049340\n",
       "1      0.199947  0.030767       8        1   0.993182\n",
       "10     0.218731  0.051697       9        1   0.812242\n",
       "0      0.190107  0.046883      10        1   0.501634\n",
       "4      0.220912  0.014480      11        1   0.474271, topic_info=       Term          Freq         Total Category  logprob  loglift\n",
       "54     yeah  10410.000000  10410.000000  Default  30.0000  30.0000\n",
       "33       oh   6251.000000   6251.000000  Default  29.0000  29.0000\n",
       "35      ooh   3977.000000   3977.000000  Default  28.0000  28.0000\n",
       "521      la   1482.000000   1482.000000  Default  27.0000  27.0000\n",
       "23      let   2338.000000   2338.000000  Default  26.0000  26.0000\n",
       "..      ...           ...           ...      ...      ...      ...\n",
       "171  shawty     12.449664    156.422859  Topic11  -4.9354   2.8203\n",
       "423    come     19.969263   2018.078653  Topic11  -4.4629   0.7354\n",
       "123     get     10.343182   4113.753565  Topic11  -5.1208  -0.6346\n",
       "257    hold      8.886731    822.359024  Topic11  -5.2725   0.8235\n",
       "263    keep      7.291384   1481.128353  Topic11  -5.4704   0.0373\n",
       "\n",
       "[644 rows x 6 columns], token_table=      Topic      Freq        Term\n",
       "term                             \n",
       "4166      3  0.988988      across\n",
       "627       5  0.222996       actin\n",
       "627       6  0.613238       actin\n",
       "627       7  0.144947       actin\n",
       "2776     11  0.935070  adrenaline\n",
       "...     ...       ...         ...\n",
       "2171      7  0.043546          yo\n",
       "5211     10  0.801920         yoo\n",
       "3730      5  0.978605          나를\n",
       "3142      5  0.981532          눈을\n",
       "4821      5  0.981048          싶어\n",
       "\n",
       "[1117 rows x 3 columns], R=30, lambda_step=0.01, plot_opts={'xlab': 'PC1', 'ylab': 'PC2'}, topic_order=[8, 9, 3, 4, 7, 10, 6, 2, 11, 1, 5])"
      ]
     },
     "execution_count": 32,
     "metadata": {},
     "output_type": "execute_result"
    }
   ],
   "source": [
    "pyLDAvis.enable_notebook()\n",
    "vis = pyLDAvis.gensim_models.prepare(lda_model, corpus, id2word)\n",
    "vis"
   ]
  },
  {
   "cell_type": "code",
   "execution_count": null,
   "metadata": {},
   "outputs": [],
   "source": []
  }
 ],
 "metadata": {
  "kernelspec": {
   "display_name": "Python 3",
   "language": "python",
   "name": "python3"
  },
  "language_info": {
   "codemirror_mode": {
    "name": "ipython",
    "version": 3
   },
   "file_extension": ".py",
   "mimetype": "text/x-python",
   "name": "python",
   "nbconvert_exporter": "python",
   "pygments_lexer": "ipython3",
   "version": "3.9.12"
  }
 },
 "nbformat": 4,
 "nbformat_minor": 2
}
