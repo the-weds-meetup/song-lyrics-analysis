{
 "cells": [
  {
   "cell_type": "code",
   "execution_count": null,
   "metadata": {},
   "outputs": [],
   "source": [
    "# everything ntlk\n",
    "import nltk\n",
    "nltk.download('stopwords')\n",
    "from nltk.corpus import stopwords\n",
    "from nltk.stem.porter import PorterStemmer\n",
    "from nltk.stem import WordNetLemmatizer \n",
    "\n",
    "# prepare NLTK stop words\n",
    "stop_words = stopwords.words('english')\n",
    "stemmer = PorterStemmer()\n",
    "lemmatizer = WordNetLemmatizer()"
   ]
  },
  {
   "cell_type": "code",
   "execution_count": null,
   "metadata": {},
   "outputs": [],
   "source": [
    "# import libraries\n",
    "\n",
    "import re\n",
    "import numpy as np\n",
    "import pandas as pd\n",
    "import os\n",
    "\n",
    "# Gensim\n",
    "import gensim\n",
    "import gensim.corpora as corpora\n",
    "from gensim.utils import simple_preprocess\n",
    "from gensim.models import CoherenceModel\n",
    "\n",
    "# spaCy for preprocessing\n",
    "# import spacy"
   ]
  },
  {
   "cell_type": "code",
   "execution_count": null,
   "metadata": {},
   "outputs": [],
   "source": [
    "# remove puntuations\n",
    "def sent_to_words(sentences: list[str]):\n",
    "  for sentence in sentences:\n",
    "    yield(gensim.utils.simple_preprocess(str(sentence), deacc=True))\n"
   ]
  },
  {
   "cell_type": "code",
   "execution_count": null,
   "metadata": {},
   "outputs": [],
   "source": [
    "start_year = 2017\n",
    "\n",
    "# load dataset 2017\n",
    "path = os.path.join(\"..\", \"datasets\", \"CompileData\", str(start_year) + \"_spotify_data_and_lyrics.csv\")\n",
    "df: pd.DataFrame = pd.read_csv(path, header=0)\n",
    "# drop rows with na value (aka drop songs without lyrics)\n",
    "df.dropna(inplace=True)\n",
    "\n",
    "# remove new line from lyrics\n",
    "# get first 50 lyrics \n",
    "lyrics_list: list[str] = df.lyrics.values.tolist()[:50] \n",
    "\n",
    "# remove new line characters\n",
    "lyrics_list = [re.sub('\\\\n', ' ', str(song_lyric).lower()) for song_lyric in lyrics_list]\n",
    "\n",
    "# remove punctuations\n",
    "lyrics_words = list(sent_to_words(lyrics_list))\n",
    "\n",
    "# remove stopwords\n",
    "lyrics_no_stop_words = [[\n",
    "    word for word in simple_preprocess(str(doc)) if word not in stop_words\n",
    "  ] for doc in lyrics_words\n",
    "]\n",
    "\n",
    "# stemming\n",
    "stemmed_lyrics = [[\n",
    "    stemmer.stem(word) for word in song_lyric\n",
    "  ] for song_lyric in lyrics_words\n",
    "]\n",
    "\n",
    "# lemmatizing\n",
    "lemmatize_lyrics = [[\n",
    "    lemmatizer.lemmatize(word) for word in song_lyric\n",
    "  ] for song_lyric in lyrics_words\n",
    "]\n",
    "\n",
    "# combine cleaned words into 1 sentence\n",
    "stemmed_cleaned_lyrics = [\" \".join(word for word in song) for song in stemmed_lyrics]\n",
    "lemmatize_cleaned_lyrics = [\" \".join(word for word in song) for song in lemmatize_lyrics]\n",
    "\n",
    "\n",
    "print(stemmed_cleaned_lyrics)\n",
    "print(lemmatize_cleaned_lyrics)\n",
    "\n",
    "\n",
    "# print(lyrics_words[0])\n",
    "# print(lyrics_no_stop_words[0])"
   ]
  },
  {
   "cell_type": "code",
   "execution_count": null,
   "metadata": {},
   "outputs": [],
   "source": []
  }
 ],
 "metadata": {
  "interpreter": {
   "hash": "b0fa6594d8f4cbf19f97940f81e996739fb7646882a419484c72d19e05852a7e"
  },
  "kernelspec": {
   "display_name": "Python 3.9.10 64-bit",
   "language": "python",
   "name": "python3"
  },
  "language_info": {
   "codemirror_mode": {
    "name": "ipython",
    "version": 3
   },
   "file_extension": ".py",
   "mimetype": "text/x-python",
   "name": "python",
   "nbconvert_exporter": "python",
   "pygments_lexer": "ipython3",
   "version": "3.9.10"
  },
  "orig_nbformat": 4
 },
 "nbformat": 4,
 "nbformat_minor": 2
}
