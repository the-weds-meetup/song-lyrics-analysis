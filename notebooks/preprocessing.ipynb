{
 "cells": [
  {
   "cell_type": "code",
   "execution_count": 2,
   "metadata": {},
   "outputs": [
    {
     "name": "stderr",
     "output_type": "stream",
     "text": [
      "[nltk_data] Downloading package stopwords to /Users/amos/nltk_data...\n",
      "[nltk_data]   Package stopwords is already up-to-date!\n"
     ]
    }
   ],
   "source": [
    "# get stopwords \n",
    "import nltk\n",
    "nltk.download('stopwords')\n",
    "from nltk.corpus import stopwords\n",
    "\n",
    "# prepare NLTK stopwards\n",
    "stop_words = stopwords.words('english')"
   ]
  },
  {
   "cell_type": "code",
   "execution_count": 3,
   "metadata": {},
   "outputs": [],
   "source": [
    "# import libraries\n",
    "\n",
    "import re\n",
    "import numpy as np\n",
    "import pandas as pd\n",
    "import os\n",
    "from pprint import pprint\n",
    "\n",
    "# Gensim\n",
    "import gensim\n",
    "import gensim.corpora as corpora\n",
    "from gensim.utils import simple_preprocess\n",
    "from gensim.models import CoherenceModel\n",
    "\n",
    "# spaCy for preprocessing\n",
    "#pip3 install spacy\n",
    "# pip install spacy\n",
    "import spacy\n",
    "\n"
   ]
  },
  {
   "cell_type": "code",
   "execution_count": 4,
   "metadata": {},
   "outputs": [],
   "source": [
    "# remove puntuations\n",
    "def sent_to_words(sentences: list[str]):\n",
    "  for sentence in sentences:\n",
    "    yield(gensim.utils.simple_preprocess(str(sentence), deacc=True))\n",
    "    \n",
    "\n",
    "# Define function for stopwords\n",
    "def remove_stopwords(lyrics: list[str]):\n",
    "  return [\n",
    "    [ \n",
    "      word for word in simple_preprocess(str(doc)) if word not in stop_words\n",
    "    ] \n",
    "    for doc in lyrics\n",
    "  ]"
   ]
  },
  {
   "cell_type": "code",
   "execution_count": 7,
   "metadata": {},
   "outputs": [
    {
     "name": "stdout",
     "output_type": "stream",
     "text": [
      "['club', 'best', 'place', 'find', 'lover', 'bar', 'go', 'friends', 'table', 'shots', 'drinking', 'fast', 'talk', 'slow', 'come', 'start', 'conversation', 'trust', 'give', 'chance', 'take', 'hand', 'stop', 'put', 'van', 'man', 'jukebox', 'start', 'dance', 'singing', 'like', 'girl', 'know', 'want', 'love', 'love', 'handmade', 'somebody', 'like', 'come', 'follow', 'lead', 'may', 'crazy', 'mind', 'say', 'boy', 'let', 'talk', 'much', 'grab', 'waist', 'put', 'body', 'come', 'follow', 'lead', 'come', 'come', 'follow', 'lead', 'love', 'shape', 'push', 'pull', 'like', 'magnet', 'although', 'heart', 'falling', 'love', 'body', 'last', 'night', 'room', 'bed', 'sheets', 'smell', 'like', 'every', 'day', 'discovering', 'something', 'brand', 'new', 'love', 'body', 'oh', 'oh', 'oh', 'oh', 'love', 'body', 'oh', 'oh', 'oh', 'oh', 'love', 'body', 'oh', 'oh', 'oh', 'oh', 'love', 'body', 'every', 'day', 'discovering', 'something', 'brand', 'new', 'love', 'shape', 'one', 'week', 'let', 'story', 'begin', 'going', 'first', 'date', 'thrifty', 'go', 'eat', 'fill', 'bag', 'fill', 'plate', 'talk', 'hours', 'hours', 'sweet', 'sour', 'family', 'okay', 'leave', 'get', 'taxi', 'kiss', 'backseat', 'tell', 'driver', 'make', 'radio', 'play', 'singing', 'like', 'girl', 'know', 'want', 'love', 'love', 'handmade', 'somebody', 'like', 'come', 'follow', 'lead', 'may', 'crazy', 'mind', 'say', 'boy', 'let', 'talk', 'much', 'grab', 'waist', 'put', 'body', 'come', 'follow', 'lead', 'come', 'come', 'follow', 'lead', 'love', 'shape', 'push', 'pull', 'like', 'magnet', 'although', 'heart', 'falling', 'love', 'body', 'last', 'night', 'room', 'bed', 'sheets', 'smell', 'like', 'every', 'day', 'discovering', 'something', 'brand', 'new', 'love', 'body', 'oh', 'oh', 'oh', 'oh', 'love', 'body', 'oh', 'oh', 'oh', 'oh', 'love', 'body', 'oh', 'oh', 'oh', 'oh', 'love', 'body', 'every', 'day', 'discovering', 'something', 'brand', 'new', 'love', 'shape', 'come', 'baby', 'come', 'come', 'baby', 'come', 'come', 'baby', 'come', 'come', 'baby', 'come', 'come', 'baby', 'come', 'come', 'baby', 'come', 'come', 'baby', 'come', 'come', 'baby', 'come', 'love', 'shape', 'push', 'pull', 'like', 'magnet', 'although', 'heart', 'falling', 'love', 'body', 'last', 'night', 'room', 'bed', 'sheets', 'smell', 'like', 'every', 'day', 'discovering', 'something', 'brand', 'new', 'love', 'body', 'come', 'baby', 'come', 'come', 'baby', 'come', 'love', 'body', 'come', 'baby', 'come', 'come', 'baby', 'come', 'love', 'body', 'come', 'baby', 'come', 'come', 'baby', 'come', 'love', 'body', 'every', 'day', 'discovering', 'something', 'brand', 'new', 'love', 'shape']\n"
     ]
    }
   ],
   "source": [
    "start_year = 2017\n",
    "\n",
    "# load dataset 2017\n",
    "path = os.path.join(\"..\", \"datasets\", \"CompileData\", str(start_year) + \"_spotify_data_and_lyrics.csv\")\n",
    "df: pd.DataFrame = pd.read_csv(path, header=0)\n",
    "\n",
    "# remove new line from lyrics\n",
    "# get first 50 lyrics \n",
    "lyrics_list: list[str] = df.lyrics.values.tolist()[:50] \n",
    "\n",
    "# remove new line characters\n",
    "lyrics_list = [re.sub('\\\\n', ' ', str(song_lyric).lower()) for song_lyric in lyrics_list]\n",
    "# remove punctuations\n",
    "lyrics_words = list(sent_to_words(lyrics_list))\n",
    "\n",
    "# remove stopwords\n",
    "\n",
    "data_words_nostops = remove_stopwords(lyrics_words)\n",
    "\n",
    "# print(lyrics_words[0])\n",
    "print(data_words_nostops[0])"
   ]
  },
  {
   "cell_type": "code",
   "execution_count": null,
   "metadata": {},
   "outputs": [],
   "source": []
  }
 ],
 "metadata": {
  "interpreter": {
   "hash": "b0fa6594d8f4cbf19f97940f81e996739fb7646882a419484c72d19e05852a7e"
  },
  "kernelspec": {
   "display_name": "Python 3.9.10 64-bit",
   "language": "python",
   "name": "python3"
  },
  "language_info": {
   "codemirror_mode": {
    "name": "ipython",
    "version": 3
   },
   "file_extension": ".py",
   "mimetype": "text/x-python",
   "name": "python",
   "nbconvert_exporter": "python",
   "pygments_lexer": "ipython3",
   "version": "3.9.10"
  },
  "orig_nbformat": 4
 },
 "nbformat": 4,
 "nbformat_minor": 2
}
